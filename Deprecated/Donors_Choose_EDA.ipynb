{
 "cells": [
  {
   "cell_type": "markdown",
   "metadata": {},
   "source": [
    "# <center> Using LGBM Predicting Donors Choose</center>\n",
    "\n",
    "--------"
   ]
  },
  {
   "cell_type": "markdown",
   "metadata": {},
   "source": [
    "## Imports"
   ]
  },
  {
   "cell_type": "code",
   "execution_count": 1,
   "metadata": {},
   "outputs": [],
   "source": [
    "import gc\n",
    "import os\n",
    "import re\n",
    "\n",
    "import numpy as np\n",
    "import pandas as pd\n",
    "\n",
    "from wordcloud import WordCloud\n",
    "import lightgbm as lgb\n",
    "from nltk.corpus import stopwords\n",
    "\n",
    "from sklearn.feature_extraction.text import TfidfVectorizer\n",
    "from sklearn.metrics import roc_auc_score\n",
    "from sklearn.model_selection import KFold, RepeatedKFold, RandomizedSearchCV\n",
    "from sklearn.preprocessing import LabelEncoder, StandardScaler\n",
    "\n",
    "from tqdm import tqdm_notebook\n",
    "\n",
    "import seaborn as sns\n",
    "import matplotlib.pyplot as plt\n",
    "%matplotlib inline"
   ]
  },
  {
   "cell_type": "markdown",
   "metadata": {},
   "source": [
    "## Functions"
   ]
  },
  {
   "cell_type": "code",
   "execution_count": 2,
   "metadata": {},
   "outputs": [],
   "source": [
    "def date_prep(train):\n",
    "    train['project_submitted_datetime'] = pd.to_datetime(train['project_submitted_datetime'])\n",
    "    train['datetime_year'] = train['project_submitted_datetime'].dt.year\n",
    "    train['datetime_month'] = train['project_submitted_datetime'].dt.month\n",
    "    return(train)\n",
    "def gender_features(train):\n",
    "    conditions = [(train.teacher_prefix == 'Mr.'), \n",
    "                  (train.teacher_prefix == 'Mrs.') | (train.teacher_prefix == 'Ms.')]\n",
    "    choices = ['Male', 'Female']\n",
    "    train['gender'] = np.select(conditions, choices, default='Unk')\n",
    "    return(train)\n",
    "def make_sim(n='p081434'):\n",
    "    \"\"\"\n",
    "    Makes a semi-brute forced dataset based off the entry n, with variable:\n",
    "    Months (jan-dec), \n",
    "    Pronouns (not teacher or dr), \n",
    "    Previous Entries(0:30),\n",
    "    to see what combination may have a higher success rate\n",
    "    \"\"\"\n",
    "    test = pd.DataFrame(train.loc[n]).transpose()\n",
    "    del test['project_is_approved']\n",
    "    \n",
    "    change_dict = {\"prefix\":['Mrs.','Ms.','Mr.'],\n",
    "        \"date\":['2017-01-26','2017-02-26','2017-03-26','2017-04-26','2017-05-26','2017-06-26',\n",
    "        '2017-07-26','2017-08-26','2017-09-26','2017-10-26','2017-11-26','2017-12-26',],\n",
    "        \"prev\" : [x for x in range(0,10)]}\n",
    "\n",
    "    for i in range(1000):\n",
    "        test.loc[n+str(i)] = test.loc[n].transpose()\n",
    "        test.set_value(n+str(i),'teacher_prefix',np.random.choice(change_dict['prefix']))\n",
    "        test.set_value(n+str(i),'project_submitted_datetime',np.random.choice(change_dict['date']))\n",
    "        test.set_value(n+str(i),'teacher_number_of_previously_posted_projects',np.random.choice(change_dict['prev']))\n",
    "        \n",
    "    test.index.rename = 'id'\n",
    "    return(test)\n"
   ]
  },
  {
   "cell_type": "code",
   "execution_count": null,
   "metadata": {},
   "outputs": [],
   "source": []
  },
  {
   "cell_type": "code",
   "execution_count": 4,
   "metadata": {},
   "outputs": [],
   "source": [
    "#Am I using the kaggle test set\n",
    "kaggle = False\n",
    "\n",
    "#Am I making simulating variable situations to be tested on. \n",
    "sim = False\n",
    "\n",
    "#Kaggle & Sim use 'test' so dont use both"
   ]
  },
  {
   "cell_type": "code",
   "execution_count": 3,
   "metadata": {},
   "outputs": [
    {
     "ename": "NameError",
     "evalue": "name 'kaggle' is not defined",
     "output_type": "error",
     "traceback": [
      "\u001b[0;31m---------------------------------------------------------------------------\u001b[0m",
      "\u001b[0;31mNameError\u001b[0m                                 Traceback (most recent call last)",
      "\u001b[0;32m<ipython-input-3-07e76887dfa9>\u001b[0m in \u001b[0;36m<module>\u001b[0;34m()\u001b[0m\n\u001b[1;32m      1\u001b[0m \u001b[0mtrain\u001b[0m \u001b[0;34m=\u001b[0m \u001b[0mpd\u001b[0m\u001b[0;34m.\u001b[0m\u001b[0mread_csv\u001b[0m\u001b[0;34m(\u001b[0m\u001b[0;34m'./Input/train.csv'\u001b[0m\u001b[0;34m,\u001b[0m \u001b[0mlow_memory\u001b[0m\u001b[0;34m=\u001b[0m\u001b[0;32mFalse\u001b[0m\u001b[0;34m,\u001b[0m \u001b[0mindex_col\u001b[0m\u001b[0;34m=\u001b[0m\u001b[0;34m'id'\u001b[0m\u001b[0;34m)\u001b[0m\u001b[0;34m\u001b[0m\u001b[0m\n\u001b[0;32m----> 2\u001b[0;31m \u001b[0;32mif\u001b[0m \u001b[0mkaggle\u001b[0m\u001b[0;34m:\u001b[0m\u001b[0;34m\u001b[0m\u001b[0m\n\u001b[0m\u001b[1;32m      3\u001b[0m     \u001b[0;32mif\u001b[0m \u001b[0msim\u001b[0m \u001b[0;34m==\u001b[0m \u001b[0;32mFalse\u001b[0m\u001b[0;34m:\u001b[0m\u001b[0;34m\u001b[0m\u001b[0m\n\u001b[1;32m      4\u001b[0m         \u001b[0mtest\u001b[0m \u001b[0;34m=\u001b[0m \u001b[0mpd\u001b[0m\u001b[0;34m.\u001b[0m\u001b[0mread_csv\u001b[0m\u001b[0;34m(\u001b[0m\u001b[0;34m'./Input/test.csv'\u001b[0m\u001b[0;34m,\u001b[0m \u001b[0mlow_memory\u001b[0m\u001b[0;34m=\u001b[0m\u001b[0;32mFalse\u001b[0m\u001b[0;34m,\u001b[0m \u001b[0mindex_col\u001b[0m\u001b[0;34m=\u001b[0m\u001b[0;34m'id'\u001b[0m\u001b[0;34m)\u001b[0m\u001b[0;34m\u001b[0m\u001b[0m\n\u001b[1;32m      5\u001b[0m \u001b[0;34m\u001b[0m\u001b[0m\n",
      "\u001b[0;31mNameError\u001b[0m: name 'kaggle' is not defined"
     ]
    }
   ],
   "source": [
    "train = pd.read_csv('./Input/train.csv', low_memory=False, index_col='id')\n",
    "if kaggle: \n",
    "    if sim == False:\n",
    "        test = pd.read_csv('./Input/test.csv', low_memory=False, index_col='id')\n",
    "\n",
    "res = pd.read_csv('./Input/resources.csv', low_memory=False, index_col='id')"
   ]
  },
  {
   "cell_type": "markdown",
   "metadata": {},
   "source": [
    "### Simulated Data"
   ]
  },
  {
   "cell_type": "code",
   "execution_count": 6,
   "metadata": {},
   "outputs": [],
   "source": [
    "#We want to simulate how a failed project might have had a higher chance of success.\n",
    "#So we will pull out an instance that we know has failed, \n",
    "    #delete that instance from our training set,\n",
    "    #make 100+ copies of that instance\n",
    "    #generate modified data with changes in features, for each instance\n",
    "        #each should be randomly assigned\n",
    "    #finally estimate liklihood for success for each instance.\n",
    "        #which instance has the highest chance?"
   ]
  },
  {
   "cell_type": "code",
   "execution_count": 7,
   "metadata": {},
   "outputs": [],
   "source": [
    "#making a dataset which has variable situations that 'p039654' may be under\n",
    "if sim:\n",
    "    test = make_sim('p081434')\n",
    "    train = train.drop('p081434',axis=0)"
   ]
  },
  {
   "cell_type": "markdown",
   "metadata": {},
   "source": [
    "## Preprocessing"
   ]
  },
  {
   "cell_type": "markdown",
   "metadata": {},
   "source": [
    "### 1.1 Resource Intergration\n",
    "Here we evaluate how much each project/proposal will cost and/or how big they are"
   ]
  },
  {
   "cell_type": "code",
   "execution_count": null,
   "metadata": {},
   "outputs": [],
   "source": [
    "res['cost'] = res['quantity'] * res['price']\n",
    "res_agg = res.groupby('id').agg({'description': ['nunique'], 'quantity': ['sum'], 'cost': ['mean', 'sum','median','max','min']})\n",
    "res_agg.columns = ['unique_items','total_quantity', 'mean_cost', 'total_cost','median_cost','most_exp_cost','least_exp_cost']\n",
    "res_agg.reset_index(inplace=True)\n",
    "\n",
    "\n",
    "train = train.merge(res_agg, left_index=True, right_on='id')\n",
    "if (kaggle | sim): \n",
    "    if sim : \n",
    "        for i in res_agg.columns:\n",
    "            if i != 'id':\n",
    "                test[i] = res_agg[res_agg['id']=='p081434'][i].values[0]\n",
    "    else:\n",
    "        test =  test.merge(res_agg, left_index=True, right_on='id')"
   ]
  },
  {
   "cell_type": "markdown",
   "metadata": {},
   "source": [
    "### 1.2 Preprocessing of features"
   ]
  },
  {
   "cell_type": "markdown",
   "metadata": {},
   "source": [
    "#### Cat Preprocessing"
   ]
  },
  {
   "cell_type": "markdown",
   "metadata": {},
   "source": [
    "There are 51 States, because of 50 + DC"
   ]
  },
  {
   "cell_type": "code",
   "execution_count": null,
   "metadata": {},
   "outputs": [],
   "source": [
    "train.isnull().sum()[train.isnull().sum()>0]"
   ]
  },
  {
   "cell_type": "code",
   "execution_count": null,
   "metadata": {},
   "outputs": [],
   "source": [
    "train.teacher_prefix[train.teacher_prefix.isnull()] = 'Teacher'\n",
    "try: \n",
    "    test.teacher_prefix[test.teacher_prefix.isnull()] = 'Teacher'\n",
    "except:\n",
    "    pass\n",
    "\n",
    "date_prep(train)\n",
    "train = gender_features(train)\n",
    "\n",
    "if (kaggle | sim): \n",
    "    date_prep(test)\n",
    "    test = gender_features(test)\n",
    "    del test['project_submitted_datetime'], test['project_subject_subcategories']\n",
    "\n",
    "del train['project_submitted_datetime'], train['project_subject_subcategories']\n",
    "del date_prep, gender_features"
   ]
  },
  {
   "cell_type": "code",
   "execution_count": null,
   "metadata": {},
   "outputs": [],
   "source": [
    "gc.collect()"
   ]
  },
  {
   "cell_type": "markdown",
   "metadata": {},
   "source": [
    "#### EDA"
   ]
  },
  {
   "cell_type": "code",
   "execution_count": 16,
   "metadata": {},
   "outputs": [
    {
     "data": {
      "image/png": "[encoded data removed]",
      "text/plain": [
       "<matplotlib.figure.Figure at 0x1a114e55f8>"
      ]
     },
     "metadata": {},
     "output_type": "display_data"
    }
   ],
   "source": [
    "loan = train.groupby(['school_state', 'datetime_month'])['project_is_approved'].mean().unstack()\n",
    "loan = loan.sort_values([3], ascending=False)\n",
    "f, ax = plt.subplots(figsize=(15, 20)) \n",
    "loan = loan.fillna(0)\n",
    "loan = loan.drop('CA',axis=0)\n",
    "temp = sns.heatmap(loan, cmap='Reds')\n",
    "plt.title('Seasonal Variation in approval rates, by state (without CA)')\n",
    "plt.show()"
   ]
  },
  {
   "cell_type": "code",
   "execution_count": 17,
   "metadata": {},
   "outputs": [
    {
     "data": {
      "image/png": "[encoded data removed]",
      "text/plain": [
       "<matplotlib.figure.Figure at 0x1a1412f390>"
      ]
     },
     "metadata": {},
     "output_type": "display_data"
    }
   ],
   "source": [
    "loan = train.groupby(['school_state', 'datetime_month'])['total_cost'].count().unstack()\n",
    "loan = loan.sort_values([3], ascending=False)\n",
    "f, ax = plt.subplots(figsize=(15, 20)) \n",
    "loan = loan.fillna(0)\n",
    "loan = loan.drop('CA',axis=0)\n",
    "temp = sns.heatmap(loan, cmap='Reds')\n",
    "plt.title('Seasonal Variation in number of applications, by state (without CA)')\n",
    "plt.show()"
   ]
  },
  {
   "cell_type": "code",
   "execution_count": 18,
   "metadata": {},
   "outputs": [
    {
     "data": {
      "text/plain": [
       "Index(['teacher_id', 'teacher_prefix', 'school_state',\n",
       "       'project_grade_category', 'project_subject_categories', 'project_title',\n",
       "       'project_essay_1', 'project_essay_2', 'project_essay_3',\n",
       "       'project_essay_4', 'project_resource_summary',\n",
       "       'teacher_number_of_previously_posted_projects', 'project_is_approved',\n",
       "       'id', 'unique_items', 'total_quantity', 'mean_cost', 'total_cost',\n",
       "       'median_cost', 'most_exp_cost', 'least_exp_cost', 'datetime_year',\n",
       "       'datetime_month', 'gender'],\n",
       "      dtype='object')"
      ]
     },
     "execution_count": 18,
     "metadata": {},
     "output_type": "execute_result"
    }
   ],
   "source": [
    "train.columns"
   ]
  },
  {
   "cell_type": "code",
   "execution_count": 19,
   "metadata": {},
   "outputs": [],
   "source": [
    "gen_mon_app = train.groupby(['datetime_month','gender'])['project_is_approved'].mean().reset_index()\n",
    "gen_mon_cost = train.groupby(['datetime_month','project_is_approved'])['mean_cost'].mean().reset_index()"
   ]
  },
  {
   "cell_type": "code",
   "execution_count": 20,
   "metadata": {
    "scrolled": false
   },
   "outputs": [
    {
     "name": "stderr",
     "output_type": "stream",
     "text": [
      "/Users/Nahel/anaconda3/lib/python3.6/site-packages/seaborn/regression.py:237: RankWarning: Polyfit may be poorly conditioned\n",
      "  reg_func = lambda _x, _y: np.polyval(np.polyfit(_x, _y, order), grid)\n"
     ]
    },
    {
     "data": {
      "text/plain": [
       "Text(0.5,1,'Approval rate, by month, by gender (ci:80)')"
      ]
     },
     "execution_count": 20,
     "metadata": {},
     "output_type": "execute_result"
    },
    {
     "data": {
      "image/png": "[encoded data removed]",
      "text/plain": [
       "<matplotlib.figure.Figure at 0x1a110bdba8>"
      ]
     },
     "metadata": {},
     "output_type": "display_data"
    }
   ],
   "source": [
    "sns.lmplot(x=\"datetime_month\", y=\"project_is_approved\", hue=\"gender\", \n",
    "           data=gen_mon_app[gen_mon_app['gender']!='Unk'], \n",
    "           order=3,ci=80)\n",
    "plt.title('Approval rate, by month, by gender (ci:80)')"
   ]
  },
  {
   "cell_type": "code",
   "execution_count": 21,
   "metadata": {},
   "outputs": [
    {
     "data": {
      "text/plain": [
       "Text(0.5,1,', by month, by gender (ci:80)')"
      ]
     },
     "execution_count": 21,
     "metadata": {},
     "output_type": "execute_result"
    },
    {
     "data": {
      "image/png": "[encoded data removed]",
      "text/plain": [
       "<matplotlib.figure.Figure at 0x1a1129ab70>"
      ]
     },
     "metadata": {},
     "output_type": "display_data"
    }
   ],
   "source": [
    "sns.lmplot(x=\"datetime_month\", y=\"mean_cost\", hue=\"project_is_approved\", \n",
    "           data=gen_mon_cost, \n",
    "           order=3,ci=80)\n",
    "plt.title(', by month, by gender (ci:80)')"
   ]
  },
  {
   "cell_type": "code",
   "execution_count": 22,
   "metadata": {},
   "outputs": [],
   "source": [
    "#del gen_mon\n",
    "#del prev_mon"
   ]
  },
  {
   "cell_type": "code",
   "execution_count": 23,
   "metadata": {},
   "outputs": [
    {
     "data": {
      "text/plain": [
       "8091"
      ]
     },
     "execution_count": 23,
     "metadata": {},
     "output_type": "execute_result"
    }
   ],
   "source": [
    "gc.collect()"
   ]
  },
  {
   "cell_type": "markdown",
   "metadata": {},
   "source": [
    "##### Encoding labels"
   ]
  },
  {
   "cell_type": "code",
   "execution_count": 24,
   "metadata": {},
   "outputs": [
    {
     "data": {
      "application/vnd.jupyter.widget-view+json": {
       "model_id": "6a8936537f374b6489c4127171096c68",
       "version_major": 2,
       "version_minor": 0
      },
      "text/html": [
       "<p>Failed to display Jupyter Widget of type <code>HBox</code>.</p>\n",
       "<p>\n",
       "  If you're reading this message in the Jupyter Notebook or JupyterLab Notebook, it may mean\n",
       "  that the widgets JavaScript is still loading. If this message persists, it\n",
       "  likely means that the widgets JavaScript library is either not installed or\n",
       "  not enabled. See the <a href=\"https://ipywidgets.readthedocs.io/en/stable/user_install.html\">Jupyter\n",
       "  Widgets Documentation</a> for setup instructions.\n",
       "</p>\n",
       "<p>\n",
       "  If you're reading this message in another frontend (for example, a static\n",
       "  rendering on GitHub or <a href=\"https://nbviewer.jupyter.org/\">NBViewer</a>),\n",
       "  it may mean that your frontend doesn't currently support widgets.\n",
       "</p>\n"
      ],
      "text/plain": [
       "HBox(children=(IntProgress(value=0, max=6), HTML(value='')))"
      ]
     },
     "metadata": {},
     "output_type": "display_data"
    },
    {
     "name": "stdout",
     "output_type": "stream",
     "text": [
      "\n"
     ]
    }
   ],
   "source": [
    "# Because of trees do no need onehot encoding, label encoding is used\n",
    "cols  = ['gender',\n",
    "        'teacher_prefix', \n",
    "        'school_state',\n",
    "        'datetime_year',\n",
    "        'datetime_month',\n",
    "        'project_grade_category']\n",
    "\n",
    "for c in tqdm_notebook(cols):\n",
    "    encod = LabelEncoder()\n",
    "    encod.fit(train[c].astype(str))\n",
    "    train[c] = encod.transform(train[c].astype(str))\n",
    "    if (kaggle | sim):        \n",
    "        test[c] = encod.transform(test[c].astype(str))"
   ]
  },
  {
   "cell_type": "markdown",
   "metadata": {},
   "source": [
    "#### Num Preprocessing"
   ]
  },
  {
   "cell_type": "code",
   "execution_count": 25,
   "metadata": {},
   "outputs": [],
   "source": [
    "num_features  = ['teacher_number_of_previously_posted_projects',\n",
    "                 'total_quantity', 'mean_cost', 'total_cost','unique_items']"
   ]
  },
  {
   "cell_type": "code",
   "execution_count": 47,
   "metadata": {},
   "outputs": [
    {
     "ename": "NameError",
     "evalue": "name 'StandardScaler' is not defined",
     "output_type": "error",
     "traceback": [
      "\u001b[0;31m---------------------------------------------------------------------------\u001b[0m",
      "\u001b[0;31mNameError\u001b[0m                                 Traceback (most recent call last)",
      "\u001b[0;32m<ipython-input-47-ed015166695b>\u001b[0m in \u001b[0;36m<module>\u001b[0;34m()\u001b[0m\n\u001b[0;32m----> 1\u001b[0;31m \u001b[0mSS\u001b[0m \u001b[0;34m=\u001b[0m \u001b[0mStandardScaler\u001b[0m\u001b[0;34m(\u001b[0m\u001b[0;34m)\u001b[0m\u001b[0;34m\u001b[0m\u001b[0m\n\u001b[0m\u001b[1;32m      2\u001b[0m \u001b[0mtrain\u001b[0m\u001b[0;34m[\u001b[0m\u001b[0mnum_features\u001b[0m\u001b[0;34m]\u001b[0m \u001b[0;34m=\u001b[0m \u001b[0mSS\u001b[0m\u001b[0;34m.\u001b[0m\u001b[0mfit_transform\u001b[0m\u001b[0;34m(\u001b[0m\u001b[0mtrain\u001b[0m\u001b[0;34m[\u001b[0m\u001b[0mnum_features\u001b[0m\u001b[0;34m]\u001b[0m\u001b[0;34m)\u001b[0m\u001b[0;34m\u001b[0m\u001b[0m\n\u001b[1;32m      3\u001b[0m \u001b[0;32mif\u001b[0m \u001b[0;34m(\u001b[0m\u001b[0mkaggle\u001b[0m \u001b[0;34m|\u001b[0m \u001b[0msim\u001b[0m\u001b[0;34m)\u001b[0m\u001b[0;34m:\u001b[0m \u001b[0mtest\u001b[0m\u001b[0;34m[\u001b[0m\u001b[0mnum_features\u001b[0m\u001b[0;34m]\u001b[0m \u001b[0;34m=\u001b[0m \u001b[0mSS\u001b[0m\u001b[0;34m.\u001b[0m\u001b[0mtransform\u001b[0m\u001b[0;34m(\u001b[0m\u001b[0mtest\u001b[0m\u001b[0;34m[\u001b[0m\u001b[0mnum_features\u001b[0m\u001b[0;34m]\u001b[0m\u001b[0;34m)\u001b[0m\u001b[0;34m\u001b[0m\u001b[0m\n",
      "\u001b[0;31mNameError\u001b[0m: name 'StandardScaler' is not defined"
     ]
    }
   ],
   "source": [
    "SS = StandardScaler()\n",
    "train[num_features] = SS.fit_transform(train[num_features])\n",
    "if (kaggle | sim): test[num_features] = SS.transform(test[num_features])"
   ]
  },
  {
   "cell_type": "code",
   "execution_count": 27,
   "metadata": {},
   "outputs": [],
   "source": [
    "del num_features, StandardScaler, SS"
   ]
  },
  {
   "cell_type": "code",
   "execution_count": 28,
   "metadata": {},
   "outputs": [
    {
     "data": {
      "text/plain": [
       "14"
      ]
     },
     "execution_count": 28,
     "metadata": {},
     "output_type": "execute_result"
    }
   ],
   "source": [
    "gc.collect()"
   ]
  },
  {
   "cell_type": "markdown",
   "metadata": {},
   "source": [
    "#### Text Preprocessing"
   ]
  },
  {
   "cell_type": "code",
   "execution_count": 29,
   "metadata": {},
   "outputs": [],
   "source": [
    "all_stopwords = [x for x in 'abcdefghijklmnopqrstuvwxyz']\n",
    "for j in ['student','students','education',]:\n",
    "    all_stopwords.append(j)\n",
    "all_stopwords += stopwords.words(\"english\")"
   ]
  },
  {
   "cell_type": "code",
   "execution_count": 30,
   "metadata": {},
   "outputs": [],
   "source": [
    "def scrub(text):\n",
    "    text = text.strip().lower()\n",
    "    text = re.sub('\\W+',' ', text)    \n",
    "    text = re.sub(r'_', ' ', text)\n",
    "    text = re.sub(r'\\t', ' ', text)\n",
    "    text = re.sub(r'\\:', ' ', text)\n",
    "    text = re.sub(r'\\+', ' ', text)\n",
    "    text = re.sub(r'\\=', ' ', text)\n",
    "    text = re.sub(r'(\\\")', ' ', text)\n",
    "    text = re.sub(r'(\\r)', ' ', text)\n",
    "    text = re.sub(r'(\\n)', ' ', text)\n",
    "    text = re.sub(r'(\\\\)', ' ', text)\n",
    "    text = re.sub('n t ','n\\'t ', text)\n",
    "    text = re.sub(' re ',' are ', text)\n",
    "    text = re.sub(r'(\\r\\n)', ' ', text)\n",
    "    text = re.sub(r'\\\"\\\"\\\"\\\"', ' ', text)\n",
    "    text = re.sub(' i m ',' i\\'m ', text)\n",
    "    return(text)\n",
    "def swords(text):\n",
    "    text = ' '.join([word for word in text.split() if word not in (all_stopwords)])\n",
    "    return(text)"
   ]
  },
  {
   "cell_type": "markdown",
   "metadata": {},
   "source": [
    "##### Project Category Preprocessing"
   ]
  },
  {
   "cell_type": "code",
   "execution_count": 31,
   "metadata": {},
   "outputs": [],
   "source": [
    "def cat(text):\n",
    "    text =[word for word in text.split(',')]\n",
    "    text =[word.strip() for word in text]\n",
    "    return(text)"
   ]
  },
  {
   "cell_type": "code",
   "execution_count": 32,
   "metadata": {},
   "outputs": [],
   "source": [
    "def cat(text):\n",
    "    text =[word for word in text.split(',')]\n",
    "    text =[word.strip() for word in text]\n",
    "    return(text)\n",
    "\n",
    "clean_cats = train.project_subject_categories.apply(lambda x:cat(x))\n",
    "p = pd.get_dummies(clean_cats.apply(pd.Series).stack()).sum(level=0).reset_index(drop=True)\n",
    "del p['Warmth']"
   ]
  },
  {
   "cell_type": "code",
   "execution_count": 33,
   "metadata": {},
   "outputs": [],
   "source": [
    "k = p.join(train.reset_index(drop=True).project_is_approved)"
   ]
  },
  {
   "cell_type": "code",
   "execution_count": 34,
   "metadata": {
    "scrolled": true
   },
   "outputs": [],
   "source": [
    "k = k.groupby('project_is_approved').sum().transpose()\n",
    "k['avg'] = k[1]/(k[1] + k[0])\n",
    "k['count'] = (k[1] + k[0])"
   ]
  },
  {
   "cell_type": "code",
   "execution_count": 35,
   "metadata": {},
   "outputs": [],
   "source": [
    "k['percent_of_total'] = k['count']/len(train)"
   ]
  },
  {
   "cell_type": "code",
   "execution_count": 36,
   "metadata": {},
   "outputs": [],
   "source": [
    "k = k.sort_values('count',ascending=False)"
   ]
  },
  {
   "cell_type": "code",
   "execution_count": 37,
   "metadata": {},
   "outputs": [
    {
     "data": {
      "text/html": [
       "<div>\n",
       "<style scoped>\n",
       "    .dataframe tbody tr th:only-of-type {\n",
       "        vertical-align: middle;\n",
       "    }\n",
       "\n",
       "    .dataframe tbody tr th {\n",
       "        vertical-align: top;\n",
       "    }\n",
       "\n",
       "    .dataframe thead th {\n",
       "        text-align: right;\n",
       "    }\n",
       "</style>\n",
       "<table border=\"1\" class=\"dataframe\">\n",
       "  <thead>\n",
       "    <tr style=\"text-align: right;\">\n",
       "      <th>project_is_approved</th>\n",
       "      <th>0</th>\n",
       "      <th>1</th>\n",
       "      <th>avg</th>\n",
       "      <th>count</th>\n",
       "      <th>percent_of_total</th>\n",
       "    </tr>\n",
       "  </thead>\n",
       "  <tbody>\n",
       "    <tr>\n",
       "      <th>Literacy &amp; Language</th>\n",
       "      <td>11634.0</td>\n",
       "      <td>75354.0</td>\n",
       "      <td>0.866257</td>\n",
       "      <td>86988.0</td>\n",
       "      <td>0.477749</td>\n",
       "    </tr>\n",
       "    <tr>\n",
       "      <th>Math &amp; Science</th>\n",
       "      <td>11041.0</td>\n",
       "      <td>58207.0</td>\n",
       "      <td>0.840559</td>\n",
       "      <td>69248.0</td>\n",
       "      <td>0.380318</td>\n",
       "    </tr>\n",
       "    <tr>\n",
       "      <th>Health &amp; Sports</th>\n",
       "      <td>3711.0</td>\n",
       "      <td>20000.0</td>\n",
       "      <td>0.843490</td>\n",
       "      <td>23711.0</td>\n",
       "      <td>0.130224</td>\n",
       "    </tr>\n",
       "    <tr>\n",
       "      <th>Special Needs</th>\n",
       "      <td>3861.0</td>\n",
       "      <td>19019.0</td>\n",
       "      <td>0.831250</td>\n",
       "      <td>22880.0</td>\n",
       "      <td>0.125660</td>\n",
       "    </tr>\n",
       "    <tr>\n",
       "      <th>Applied Learning</th>\n",
       "      <td>3543.0</td>\n",
       "      <td>16760.0</td>\n",
       "      <td>0.825494</td>\n",
       "      <td>20303.0</td>\n",
       "      <td>0.111507</td>\n",
       "    </tr>\n",
       "    <tr>\n",
       "      <th>Music &amp; The Arts</th>\n",
       "      <td>2754.0</td>\n",
       "      <td>14300.0</td>\n",
       "      <td>0.838513</td>\n",
       "      <td>17054.0</td>\n",
       "      <td>0.093663</td>\n",
       "    </tr>\n",
       "    <tr>\n",
       "      <th>History &amp; Civics</th>\n",
       "      <td>1425.0</td>\n",
       "      <td>8301.0</td>\n",
       "      <td>0.853486</td>\n",
       "      <td>9726.0</td>\n",
       "      <td>0.053416</td>\n",
       "    </tr>\n",
       "    <tr>\n",
       "      <th>Care &amp; Hunger</th>\n",
       "      <td>203.0</td>\n",
       "      <td>2124.0</td>\n",
       "      <td>0.912763</td>\n",
       "      <td>2327.0</td>\n",
       "      <td>0.012780</td>\n",
       "    </tr>\n",
       "  </tbody>\n",
       "</table>\n",
       "</div>"
      ],
      "text/plain": [
       "project_is_approved        0        1       avg    count  percent_of_total\n",
       "Literacy & Language  11634.0  75354.0  0.866257  86988.0          0.477749\n",
       "Math & Science       11041.0  58207.0  0.840559  69248.0          0.380318\n",
       "Health & Sports       3711.0  20000.0  0.843490  23711.0          0.130224\n",
       "Special Needs         3861.0  19019.0  0.831250  22880.0          0.125660\n",
       "Applied Learning      3543.0  16760.0  0.825494  20303.0          0.111507\n",
       "Music & The Arts      2754.0  14300.0  0.838513  17054.0          0.093663\n",
       "History & Civics      1425.0   8301.0  0.853486   9726.0          0.053416\n",
       "Care & Hunger          203.0   2124.0  0.912763   2327.0          0.012780"
      ]
     },
     "execution_count": 37,
     "metadata": {},
     "output_type": "execute_result"
    }
   ],
   "source": [
    "k"
   ]
  },
  {
   "cell_type": "code",
   "execution_count": 38,
   "metadata": {},
   "outputs": [
    {
     "data": {
      "text/plain": [
       "<matplotlib.axes._subplots.AxesSubplot at 0x1a374769b0>"
      ]
     },
     "execution_count": 38,
     "metadata": {},
     "output_type": "execute_result"
    },
    {
     "data": {
      "image/png": "[encoded data removed]",
      "text/plain": [
       "<matplotlib.figure.Figure at 0x1a37487e10>"
      ]
     },
     "metadata": {},
     "output_type": "display_data"
    }
   ],
   "source": [
    "sns.barplot(k.percent_of_total,k.index)"
   ]
  },
  {
   "cell_type": "code",
   "execution_count": 39,
   "metadata": {},
   "outputs": [],
   "source": [
    "train = train.reset_index(drop=True)\n",
    "train = train.merge(p,left_index=True,right_index=True)"
   ]
  },
  {
   "cell_type": "code",
   "execution_count": 40,
   "metadata": {
    "scrolled": true
   },
   "outputs": [],
   "source": [
    "if (kaggle | sim):\n",
    "    clean_cats = test.project_subject_categories.apply(lambda x:cat(x))\n",
    "    for i in p.columns:\n",
    "        test[i]=0\n",
    "    p = pd.get_dummies(clean_cats.apply(pd.Series).stack()).sum(level=0).reset_index(drop=True)\n",
    "    if p.columns.contains('Warmth'):\n",
    "        del(p['Warmth'])\n",
    "    for i in p.columns:\n",
    "        test[i] = p[i]\n",
    "    del test['project_subject_categories']"
   ]
  },
  {
   "cell_type": "code",
   "execution_count": 41,
   "metadata": {},
   "outputs": [],
   "source": [
    "del train['project_subject_categories'], p, cat"
   ]
  },
  {
   "cell_type": "markdown",
   "metadata": {},
   "source": [
    "##### Essay Preprocessing"
   ]
  },
  {
   "cell_type": "markdown",
   "metadata": {},
   "source": [
    "  \n",
    "#### Before May 17th, 2016:\n",
    "\n",
    "- project_essay_1: \"Introduce us to your classroom\"\n",
    "- project_essay_2: \"Tell us more about your students\"\n",
    "- project_essay_3: \"Describe how your students will use the materials you're requesting\"\n",
    "- project_essay_4: \"Close by sharing why your project will make a difference\"\n",
    "\n",
    "#### May 17th, 2016 and beyond:\n",
    "\n",
    "- project_essay_1: \"Describe your students: What makes your students special? Specific details about their background, your neighborhood, and your school are all helpful.\"\n",
    "- project_essay_2: \"About your project: How will these materials make a difference in your students' learning and improve their school lives?\"\n",
    "\n",
    "#### Plan\n",
    "- Combine essay_1 and essay_2 before May 17th to make \"student_description\" and use essay_1 after May 17th directly\n",
    "- Combine essay_3 and essay_4 before May 17th to make \"project_description\" and use essay_2 after May 17th directly"
   ]
  },
  {
   "cell_type": "code",
   "execution_count": 42,
   "metadata": {},
   "outputs": [],
   "source": [
    "def essay_convert(train):\n",
    "    # Making the First essay : student_description\n",
    "    train['student_description']=train['project_essay_1']\n",
    "    train.loc[train.project_essay_3.notnull(),'student_description']=train.loc[train.project_essay_3.notnull(),'project_essay_1']+train.loc[train.project_essay_3.notnull(),'project_essay_2']\n",
    "\n",
    "    # Making the second essay : project_description\n",
    "    train['project_description']=train['project_essay_2']\n",
    "    train.loc[train.project_essay_3.notnull(),'project_description']=train.loc[train.project_essay_3.notnull(),'project_essay_3']+train.loc[train.project_essay_3.notnull(),'project_essay_4']\n",
    "\n",
    "    # Removing original essays\n",
    "    del train['project_essay_1']\n",
    "    del train['project_essay_2']\n",
    "    del train['project_essay_3']\n",
    "    del train['project_essay_4']\n",
    "    return(train)"
   ]
  },
  {
   "cell_type": "code",
   "execution_count": 43,
   "metadata": {},
   "outputs": [
    {
     "ename": "KeyboardInterrupt",
     "evalue": "",
     "output_type": "error",
     "traceback": [
      "\u001b[0;31m---------------------------------------------------------------------------\u001b[0m",
      "\u001b[0;31mKeyboardInterrupt\u001b[0m                         Traceback (most recent call last)",
      "\u001b[0;32m~/anaconda3/lib/python3.6/site-packages/zmq/backend/cython/checkrc.pxd\u001b[0m in \u001b[0;36mzmq.backend.cython.checkrc._check_rc\u001b[0;34m()\u001b[0m\n",
      "\u001b[0;31mKeyboardInterrupt\u001b[0m: "
     ]
    },
    {
     "name": "stderr",
     "output_type": "stream",
     "text": [
      "Exception ignored in: 'zmq.backend.cython.message.Frame.__dealloc__'\n",
      "Traceback (most recent call last):\n",
      "  File \"zmq/backend/cython/checkrc.pxd\", line 12, in zmq.backend.cython.checkrc._check_rc\n",
      "KeyboardInterrupt\n"
     ]
    }
   ],
   "source": [
    "essay_convert(train)\n",
    "if (kaggle | sim): essay_convert(test)\n",
    "gc.collect()\n",
    "\n",
    "del essay_convert"
   ]
  },
  {
   "cell_type": "markdown",
   "metadata": {},
   "source": [
    "##### Scrub Text Features"
   ]
  },
  {
   "cell_type": "code",
   "execution_count": 44,
   "metadata": {},
   "outputs": [],
   "source": [
    "text_features = ['project_title', 'project_resource_summary',\n",
    "                'project_description', 'student_description']"
   ]
  },
  {
   "cell_type": "code",
   "execution_count": 45,
   "metadata": {},
   "outputs": [
    {
     "data": {
      "application/vnd.jupyter.widget-view+json": {
       "model_id": "ee22028cb8504b478e364c7083c2b9a4",
       "version_major": 2,
       "version_minor": 0
      },
      "text/html": [
       "<p>Failed to display Jupyter Widget of type <code>HBox</code>.</p>\n",
       "<p>\n",
       "  If you're reading this message in the Jupyter Notebook or JupyterLab Notebook, it may mean\n",
       "  that the widgets JavaScript is still loading. If this message persists, it\n",
       "  likely means that the widgets JavaScript library is either not installed or\n",
       "  not enabled. See the <a href=\"https://ipywidgets.readthedocs.io/en/stable/user_install.html\">Jupyter\n",
       "  Widgets Documentation</a> for setup instructions.\n",
       "</p>\n",
       "<p>\n",
       "  If you're reading this message in another frontend (for example, a static\n",
       "  rendering on GitHub or <a href=\"https://nbviewer.jupyter.org/\">NBViewer</a>),\n",
       "  it may mean that your frontend doesn't currently support widgets.\n",
       "</p>\n"
      ],
      "text/plain": [
       "HBox(children=(IntProgress(value=0, max=4), HTML(value='')))"
      ]
     },
     "metadata": {},
     "output_type": "display_data"
    },
    {
     "name": "stdout",
     "output_type": "stream",
     "text": [
      "\n"
     ]
    }
   ],
   "source": [
    "for j in tqdm_notebook(text_features):\n",
    "    n_col = 'processed_'+j\n",
    "    train[n_col] = train[j].apply(lambda x: scrub(x)).apply(lambda x: swords(x))\n",
    "    if (kaggle | sim): test[n_col] = test[j].apply(lambda x: scrub(x)).apply(lambda x: swords(x))\n",
    "\n",
    "gc.collect()\n",
    "for i in text_features:\n",
    "    del train[i]\n",
    "    if (kaggle | sim): del test[i]\n",
    "\n",
    "del stopwords, all_stopwords, text_features, swords"
   ]
  },
  {
   "cell_type": "code",
   "execution_count": 46,
   "metadata": {
    "scrolled": true
   },
   "outputs": [
    {
     "data": {
      "text/plain": [
       "56"
      ]
     },
     "execution_count": 46,
     "metadata": {},
     "output_type": "execute_result"
    }
   ],
   "source": [
    "gc.collect()"
   ]
  },
  {
   "cell_type": "markdown",
   "metadata": {
    "heading_collapsed": true
   },
   "source": [
    "## Word Clouds?"
   ]
  },
  {
   "cell_type": "code",
   "execution_count": 47,
   "metadata": {
    "hidden": true
   },
   "outputs": [
    {
     "data": {
      "image/png": "[encoded data removed]",
      "text/plain": [
       "<matplotlib.figure.Figure at 0x1a12e0e3c8>"
      ]
     },
     "metadata": {},
     "output_type": "display_data"
    }
   ],
   "source": [
    "wordcloud = WordCloud(\n",
    "                          background_color='black',\n",
    "                          max_words=40,\n",
    "                          max_font_size=60, \n",
    "                          random_state=42\n",
    "                         ).generate(str(train[train.project_is_approved==0].processed_project_title))\n",
    "fig = plt.figure(1)\n",
    "plt.imshow(wordcloud)\n",
    "plt.title('Wordcloud for Title in Rejected Projects')\n",
    "plt.axis('off')\n",
    "plt.show()\n",
    "fig.savefig(\"word1.png\", dpi=2400)"
   ]
  },
  {
   "cell_type": "code",
   "execution_count": 48,
   "metadata": {
    "hidden": true,
    "scrolled": true
   },
   "outputs": [
    {
     "data": {
      "image/png": "[encoded data removed]",
      "text/plain": [
       "<matplotlib.figure.Figure at 0x1a11d42358>"
      ]
     },
     "metadata": {},
     "output_type": "display_data"
    }
   ],
   "source": [
    "wordcloud = WordCloud(\n",
    "                          background_color='white',\n",
    "                          max_words=40,\n",
    "                          max_font_size=60, \n",
    "                          random_state=42\n",
    "                         ).generate(str(train[train.project_is_approved==1].processed_project_title))\n",
    "fig = plt.figure(1)\n",
    "plt.imshow(wordcloud)\n",
    "plt.axis('off')\n",
    "plt.title('Wordcloud for Title in Approved Projects')\n",
    "plt.show()\n",
    "fig.savefig(\"word1.png\", dpi=2400);"
   ]
  },
  {
   "cell_type": "code",
   "execution_count": 49,
   "metadata": {
    "hidden": true
   },
   "outputs": [],
   "source": [
    "del wordcloud"
   ]
  },
  {
   "cell_type": "markdown",
   "metadata": {},
   "source": [
    "## Modeling"
   ]
  },
  {
   "cell_type": "markdown",
   "metadata": {},
   "source": [
    "### Tfidf & X,y Assignment"
   ]
  },
  {
   "cell_type": "code",
   "execution_count": 50,
   "metadata": {},
   "outputs": [
    {
     "data": {
      "text/plain": [
       "2448"
      ]
     },
     "execution_count": 50,
     "metadata": {},
     "output_type": "execute_result"
    }
   ],
   "source": [
    "gc.collect()"
   ]
  },
  {
   "cell_type": "code",
   "execution_count": 51,
   "metadata": {},
   "outputs": [],
   "source": [
    "cols = [\n",
    "    'processed_project_title',\n",
    "    'processed_project_resource_summary', \n",
    "    'processed_project_description',\n",
    "    'processed_student_description']"
   ]
  },
  {
   "cell_type": "code",
   "execution_count": 52,
   "metadata": {},
   "outputs": [
    {
     "name": "stdout",
     "output_type": "stream",
     "text": [
      "Average length in processed_project_title is 25 words\n",
      "Average length in processed_project_resource_summary is 81 words\n",
      "Average length in processed_project_description is 523 words\n",
      "Average length in processed_student_description is 414 words\n"
     ]
    }
   ],
   "source": [
    "for i in cols:\n",
    "    print(\"Average length in {} is {} words\".format(i,str(round(train[i].str.len().mean()))))"
   ]
  },
  {
   "cell_type": "code",
   "execution_count": 53,
   "metadata": {},
   "outputs": [],
   "source": [
    "n_features = [\n",
    "    100, \n",
    "    100, \n",
    "    2000,\n",
    "    2000]"
   ]
  },
  {
   "cell_type": "code",
   "execution_count": 54,
   "metadata": {},
   "outputs": [
    {
     "data": {
      "text/plain": [
       "122"
      ]
     },
     "execution_count": 54,
     "metadata": {},
     "output_type": "execute_result"
    }
   ],
   "source": [
    "gc.collect()"
   ]
  },
  {
   "cell_type": "code",
   "execution_count": 55,
   "metadata": {
    "scrolled": true
   },
   "outputs": [
    {
     "data": {
      "application/vnd.jupyter.widget-view+json": {
       "model_id": "c44d02caa0ad4170a7e2307408a9f68c",
       "version_major": 2,
       "version_minor": 0
      },
      "text/html": [
       "<p>Failed to display Jupyter Widget of type <code>HBox</code>.</p>\n",
       "<p>\n",
       "  If you're reading this message in the Jupyter Notebook or JupyterLab Notebook, it may mean\n",
       "  that the widgets JavaScript is still loading. If this message persists, it\n",
       "  likely means that the widgets JavaScript library is either not installed or\n",
       "  not enabled. See the <a href=\"https://ipywidgets.readthedocs.io/en/stable/user_install.html\">Jupyter\n",
       "  Widgets Documentation</a> for setup instructions.\n",
       "</p>\n",
       "<p>\n",
       "  If you're reading this message in another frontend (for example, a static\n",
       "  rendering on GitHub or <a href=\"https://nbviewer.jupyter.org/\">NBViewer</a>),\n",
       "  it may mean that your frontend doesn't currently support widgets.\n",
       "</p>\n"
      ],
      "text/plain": [
       "HBox(children=(IntProgress(value=1, bar_style='info', max=1), HTML(value='')))"
      ]
     },
     "metadata": {},
     "output_type": "display_data"
    },
    {
     "name": "stdout",
     "output_type": "stream",
     "text": [
      "\n"
     ]
    }
   ],
   "source": [
    "for c_i, c in tqdm_notebook(enumerate(cols)):\n",
    "    tfidf = TfidfVectorizer(\n",
    "        ngram_range=(1,2),\n",
    "        max_features=n_features[c_i])\n",
    "\n",
    "    tfidf.fit(train[c])\n",
    "\n",
    "    tfidf_train = np.array(tfidf.transform(train[c].values).toarray(), dtype=np.float16)\n",
    "    for i in range(n_features[c_i]):\n",
    "        train[c + '_contains_-' + tfidf.get_feature_names()[i]] = tfidf_train[:, i]\n",
    "    if (kaggle | sim):\n",
    "        tfidf_test = np.array(tfidf.transform(test[c].values).toarray(), dtype=np.float16)\n",
    "        for i in range(n_features[c_i]):\n",
    "            test[c + '_contains_-' + tfidf.get_feature_names()[i]] = tfidf_test[:, i]"
   ]
  },
  {
   "cell_type": "code",
   "execution_count": 56,
   "metadata": {},
   "outputs": [],
   "source": [
    "for i in cols:\n",
    "    del train[i]\n",
    "    if (kaggle | sim): del test[i]\n",
    "\n",
    "if (kaggle|sim): del tfidf_test\n",
    "del tfidf_train, tfidf"
   ]
  },
  {
   "cell_type": "code",
   "execution_count": 57,
   "metadata": {},
   "outputs": [],
   "source": [
    "drop_cols = ['project_is_approved','id','teacher_id']\n",
    "\n",
    "X = train.drop(drop_cols, axis=1)\n",
    "y = train['project_is_approved']\n",
    "feature_names = list(X.columns)"
   ]
  },
  {
   "cell_type": "code",
   "execution_count": 58,
   "metadata": {},
   "outputs": [],
   "source": [
    "test = test.drop('teacher_id',axis=1)"
   ]
  },
  {
   "cell_type": "code",
   "execution_count": null,
   "metadata": {},
   "outputs": [
    {
     "data": {
      "text/plain": [
       "True"
      ]
     },
     "execution_count": 59,
     "metadata": {},
     "output_type": "execute_result"
    }
   ],
   "source": [
    "X.shape[1] == test.shape[1]"
   ]
  },
  {
   "cell_type": "code",
   "execution_count": null,
   "metadata": {},
   "outputs": [],
   "source": [
    "#del train"
   ]
  },
  {
   "cell_type": "code",
   "execution_count": 137,
   "metadata": {},
   "outputs": [],
   "source": [
    "#if running demo, uncomment this and change test['id'].vaues -> test['index'].values\n",
    "if (kaggle|sim): test = test.reset_index(drop=True)"
   ]
  },
  {
   "cell_type": "code",
   "execution_count": 139,
   "metadata": {},
   "outputs": [],
   "source": [
    "X_kaggle = test.drop(drop_cols, axis=1, errors='ignore')\n",
    "if kaggle: id_test = test['id'].values"
   ]
  },
  {
   "cell_type": "markdown",
   "metadata": {},
   "source": [
    "### Training Best LGBM"
   ]
  },
  {
   "cell_type": "code",
   "execution_count": null,
   "metadata": {
    "scrolled": true
   },
   "outputs": [
    {
     "name": "stdout",
     "output_type": "stream",
     "text": [
      "Fold 1/5\n",
      "Training until validation scores don't improve for 10 rounds.\n",
      "[10]\ttraining's auc: 0.728348\tvalid_1's auc: 0.71709\n",
      "[20]\ttraining's auc: 0.73181\tvalid_1's auc: 0.719317\n",
      "[30]\ttraining's auc: 0.735515\tvalid_1's auc: 0.722484\n",
      "[40]\ttraining's auc: 0.738614\tvalid_1's auc: 0.725246\n",
      "[50]\ttraining's auc: 0.742038\tvalid_1's auc: 0.727775\n",
      "[60]\ttraining's auc: 0.745503\tvalid_1's auc: 0.730508\n",
      "[70]\ttraining's auc: 0.7491\tvalid_1's auc: 0.733274\n",
      "[80]\ttraining's auc: 0.752735\tvalid_1's auc: 0.735694\n",
      "[90]\ttraining's auc: 0.756325\tvalid_1's auc: 0.73849\n",
      "[100]\ttraining's auc: 0.759514\tvalid_1's auc: 0.741042\n",
      "[110]\ttraining's auc: 0.762689\tvalid_1's auc: 0.743377\n",
      "[120]\ttraining's auc: 0.765806\tvalid_1's auc: 0.745605\n",
      "[130]\ttraining's auc: 0.768844\tvalid_1's auc: 0.747763\n",
      "[140]\ttraining's auc: 0.771713\tvalid_1's auc: 0.749832\n",
      "[150]\ttraining's auc: 0.774275\tvalid_1's auc: 0.751586\n",
      "[160]\ttraining's auc: 0.776744\tvalid_1's auc: 0.753161\n",
      "[170]\ttraining's auc: 0.779048\tvalid_1's auc: 0.754759\n",
      "[180]\ttraining's auc: 0.78132\tvalid_1's auc: 0.756084\n",
      "[190]\ttraining's auc: 0.783377\tvalid_1's auc: 0.757425\n",
      "[200]\ttraining's auc: 0.785386\tvalid_1's auc: 0.758815\n",
      "[210]\ttraining's auc: 0.787361\tvalid_1's auc: 0.759945\n",
      "[220]\ttraining's auc: 0.789137\tvalid_1's auc: 0.760915\n",
      "[230]\ttraining's auc: 0.790857\tvalid_1's auc: 0.761823\n",
      "[240]\ttraining's auc: 0.792548\tvalid_1's auc: 0.762682\n",
      "[250]\ttraining's auc: 0.794103\tvalid_1's auc: 0.763542\n",
      "[260]\ttraining's auc: 0.795666\tvalid_1's auc: 0.764216\n",
      "[270]\ttraining's auc: 0.797189\tvalid_1's auc: 0.764942\n",
      "[280]\ttraining's auc: 0.798574\tvalid_1's auc: 0.765556\n",
      "[290]\ttraining's auc: 0.799951\tvalid_1's auc: 0.76607\n",
      "[300]\ttraining's auc: 0.801322\tvalid_1's auc: 0.766588\n",
      "[310]\ttraining's auc: 0.802627\tvalid_1's auc: 0.767049\n",
      "[320]\ttraining's auc: 0.803918\tvalid_1's auc: 0.767511\n",
      "[330]\ttraining's auc: 0.805194\tvalid_1's auc: 0.767866\n",
      "[340]\ttraining's auc: 0.806388\tvalid_1's auc: 0.768259\n",
      "[350]\ttraining's auc: 0.80764\tvalid_1's auc: 0.768715\n",
      "[360]\ttraining's auc: 0.808792\tvalid_1's auc: 0.769057\n",
      "[370]\ttraining's auc: 0.809856\tvalid_1's auc: 0.769334\n",
      "[380]\ttraining's auc: 0.810972\tvalid_1's auc: 0.769589\n",
      "[390]\ttraining's auc: 0.812076\tvalid_1's auc: 0.769883\n",
      "[400]\ttraining's auc: 0.813132\tvalid_1's auc: 0.770133\n",
      "[410]\ttraining's auc: 0.814252\tvalid_1's auc: 0.770465\n",
      "[420]\ttraining's auc: 0.815292\tvalid_1's auc: 0.770711\n",
      "[430]\ttraining's auc: 0.816309\tvalid_1's auc: 0.77101\n",
      "[440]\ttraining's auc: 0.817319\tvalid_1's auc: 0.771291\n",
      "[450]\ttraining's auc: 0.818378\tvalid_1's auc: 0.771447\n",
      "[460]\ttraining's auc: 0.819339\tvalid_1's auc: 0.77166\n",
      "[470]\ttraining's auc: 0.820363\tvalid_1's auc: 0.771678\n",
      "Early stopping, best iteration is:\n",
      "[465]\ttraining's auc: 0.819864\tvalid_1's auc: 0.771729\n",
      "Important features:\n",
      "('unique_items', 264)\n",
      "('teacher_number_of_previously_posted_projects', 227)\n",
      "('processed_project_description_contains_-books', 141)\n",
      "('processed_project_description_contains_-use', 134)\n",
      "('total_cost', 126)\n",
      "('processed_project_description_contains_-chromebooks', 122)\n",
      "('processed_project_description_contains_-stools', 119)\n",
      "('processed_project_description_contains_-wobble', 109)\n",
      "('processed_project_description_contains_-used', 101)\n",
      "('processed_project_description_contains_-materials', 94)\n",
      "('processed_project_description_contains_-allow', 91)\n",
      "('processed_project_description_contains_-headphones', 88)\n",
      "('processed_project_description_contains_-balls', 81)\n",
      "('processed_project_description_contains_-printer', 80)\n",
      "('most_exp_cost', 79)\n",
      "('processed_project_description_contains_-paper', 77)\n",
      "('Care_&_Hunger', 76)\n",
      "('datetime_month', 76)\n",
      "('least_exp_cost', 76)\n",
      "('processed_project_description_contains_-technology', 72)\n",
      "('processed_project_description_contains_-ipad', 71)\n",
      "('processed_project_description_contains_-markers', 68)\n",
      "('processed_project_description_contains_-want', 67)\n",
      "('processed_project_description_contains_-chairs', 67)\n",
      "('processed_project_resource_summary_contains_-supplies', 67)\n",
      "('processed_project_description_contains_-school', 65)\n",
      "('processed_project_description_contains_-pencils', 63)\n",
      "('processed_project_description_contains_-also', 63)\n",
      "('total_quantity', 60)\n",
      "('processed_project_description_contains_-resources', 59)\n",
      "('processed_project_description_contains_-ipads', 59)\n",
      "('processed_project_description_contains_-requesting', 58)\n",
      "('processed_project_description_contains_-magnetic', 58)\n",
      "('processed_project_description_contains_-table', 57)\n",
      "('processed_project_description_contains_-bags', 56)\n",
      "('processed_project_description_contains_-ball', 53)\n",
      "('processed_project_description_contains_-rug', 52)\n",
      "('processed_project_resource_summary_contains_-technology', 49)\n",
      "('processed_project_description_contains_-supplies', 45)\n",
      "('processed_project_description_contains_-kit', 45)\n",
      "('processed_project_description_contains_-set', 44)\n",
      "('processed_project_description_contains_-learning', 43)\n",
      "('processed_project_description_contains_-best', 43)\n",
      "('processed_student_description_contains_-school', 42)\n",
      "('median_cost', 42)\n",
      "('processed_project_description_contains_-cards', 41)\n",
      "('processed_project_description_contains_-teachers', 40)\n",
      "('processed_project_description_contains_-storage', 40)\n",
      "('processed_project_description_contains_-snacks', 40)\n",
      "('processed_project_description_contains_-things', 39)\n",
      "('processed_project_description_contains_-hokki', 38)\n",
      "('processed_project_resource_summary_contains_-need', 38)\n",
      "('processed_project_description_contains_-tablets', 37)\n",
      "('processed_project_description_contains_-kits', 37)\n",
      "('processed_project_description_contains_-help', 37)\n",
      "('processed_project_description_contains_-pens', 36)\n",
      "('processed_project_description_contains_-novels', 36)\n",
      "('processed_project_description_contains_-cushions', 36)\n",
      "('processed_project_description_contains_-academic', 36)\n",
      "('processed_project_description_contains_-paint', 35)\n",
      "Fold 2/5\n",
      "Training until validation scores don't improve for 10 rounds.\n",
      "[10]\ttraining's auc: 0.725748\tvalid_1's auc: 0.729901\n",
      "[20]\ttraining's auc: 0.728205\tvalid_1's auc: 0.731754\n",
      "[30]\ttraining's auc: 0.732117\tvalid_1's auc: 0.734844\n",
      "[40]\ttraining's auc: 0.735375\tvalid_1's auc: 0.737638\n",
      "[50]\ttraining's auc: 0.738905\tvalid_1's auc: 0.740599\n",
      "[60]\ttraining's auc: 0.742817\tvalid_1's auc: 0.743248\n",
      "[70]\ttraining's auc: 0.746702\tvalid_1's auc: 0.746325\n",
      "[80]\ttraining's auc: 0.749965\tvalid_1's auc: 0.748915\n",
      "[90]\ttraining's auc: 0.753738\tvalid_1's auc: 0.7518\n",
      "[100]\ttraining's auc: 0.757284\tvalid_1's auc: 0.754428\n",
      "[110]\ttraining's auc: 0.760528\tvalid_1's auc: 0.756765\n",
      "[120]\ttraining's auc: 0.763599\tvalid_1's auc: 0.7588\n",
      "[130]\ttraining's auc: 0.766738\tvalid_1's auc: 0.761107\n",
      "[140]\ttraining's auc: 0.769557\tvalid_1's auc: 0.763155\n",
      "[150]\ttraining's auc: 0.772158\tvalid_1's auc: 0.764826\n",
      "[160]\ttraining's auc: 0.774732\tvalid_1's auc: 0.766444\n",
      "[170]\ttraining's auc: 0.777049\tvalid_1's auc: 0.767918\n",
      "[180]\ttraining's auc: 0.779238\tvalid_1's auc: 0.769371\n",
      "[190]\ttraining's auc: 0.781349\tvalid_1's auc: 0.770508\n",
      "[200]\ttraining's auc: 0.783292\tvalid_1's auc: 0.771493\n",
      "[210]\ttraining's auc: 0.785237\tvalid_1's auc: 0.772693\n",
      "[220]\ttraining's auc: 0.787155\tvalid_1's auc: 0.773568\n",
      "[230]\ttraining's auc: 0.788943\tvalid_1's auc: 0.774319\n",
      "[240]\ttraining's auc: 0.790596\tvalid_1's auc: 0.775045\n",
      "[250]\ttraining's auc: 0.792238\tvalid_1's auc: 0.775755\n",
      "[260]\ttraining's auc: 0.7938\tvalid_1's auc: 0.776361\n",
      "[270]\ttraining's auc: 0.795278\tvalid_1's auc: 0.777054\n",
      "[280]\ttraining's auc: 0.796831\tvalid_1's auc: 0.777789\n",
      "[290]\ttraining's auc: 0.798224\tvalid_1's auc: 0.778339\n",
      "[300]\ttraining's auc: 0.799549\tvalid_1's auc: 0.778593\n",
      "[310]\ttraining's auc: 0.800811\tvalid_1's auc: 0.77917\n",
      "[320]\ttraining's auc: 0.802118\tvalid_1's auc: 0.779655\n",
      "[330]\ttraining's auc: 0.803404\tvalid_1's auc: 0.780079\n",
      "[340]\ttraining's auc: 0.804614\tvalid_1's auc: 0.780419\n",
      "[350]\ttraining's auc: 0.805889\tvalid_1's auc: 0.780843\n",
      "[360]\ttraining's auc: 0.807045\tvalid_1's auc: 0.781239\n",
      "[370]\ttraining's auc: 0.808209\tvalid_1's auc: 0.781563\n",
      "[380]\ttraining's auc: 0.809301\tvalid_1's auc: 0.781774\n",
      "[390]\ttraining's auc: 0.810345\tvalid_1's auc: 0.782047\n",
      "[400]\ttraining's auc: 0.811472\tvalid_1's auc: 0.782215\n",
      "[410]\ttraining's auc: 0.812543\tvalid_1's auc: 0.782418\n",
      "[420]\ttraining's auc: 0.813593\tvalid_1's auc: 0.782692\n",
      "[430]\ttraining's auc: 0.814639\tvalid_1's auc: 0.782893\n"
     ]
    },
    {
     "name": "stdout",
     "output_type": "stream",
     "text": [
      "[440]\ttraining's auc: 0.815667\tvalid_1's auc: 0.782957\n",
      "[450]\ttraining's auc: 0.816741\tvalid_1's auc: 0.783185\n",
      "[460]\ttraining's auc: 0.817813\tvalid_1's auc: 0.783346\n",
      "[470]\ttraining's auc: 0.818838\tvalid_1's auc: 0.783462\n",
      "[480]\ttraining's auc: 0.819835\tvalid_1's auc: 0.783595\n",
      "[490]\ttraining's auc: 0.820808\tvalid_1's auc: 0.783843\n",
      "[500]\ttraining's auc: 0.821767\tvalid_1's auc: 0.78399\n",
      "Did not meet early stopping. Best iteration is:\n",
      "[500]\ttraining's auc: 0.821767\tvalid_1's auc: 0.78399\n",
      "Fold 3/5\n",
      "Training until validation scores don't improve for 10 rounds.\n",
      "[10]\ttraining's auc: 0.726218\tvalid_1's auc: 0.722117\n",
      "[20]\ttraining's auc: 0.729716\tvalid_1's auc: 0.726304\n",
      "[30]\ttraining's auc: 0.733769\tvalid_1's auc: 0.729254\n",
      "[40]\ttraining's auc: 0.737383\tvalid_1's auc: 0.732483\n",
      "[50]\ttraining's auc: 0.740491\tvalid_1's auc: 0.735277\n",
      "[60]\ttraining's auc: 0.744129\tvalid_1's auc: 0.73804\n",
      "[70]\ttraining's auc: 0.747736\tvalid_1's auc: 0.7414\n",
      "[80]\ttraining's auc: 0.751684\tvalid_1's auc: 0.744418\n",
      "[90]\ttraining's auc: 0.755166\tvalid_1's auc: 0.746869\n",
      "[100]\ttraining's auc: 0.758741\tvalid_1's auc: 0.749938\n",
      "[110]\ttraining's auc: 0.762195\tvalid_1's auc: 0.752185\n",
      "[120]\ttraining's auc: 0.765437\tvalid_1's auc: 0.754269\n",
      "[130]\ttraining's auc: 0.768333\tvalid_1's auc: 0.756218\n",
      "[140]\ttraining's auc: 0.771105\tvalid_1's auc: 0.757948\n",
      "[150]\ttraining's auc: 0.77378\tvalid_1's auc: 0.759649\n",
      "[160]\ttraining's auc: 0.776145\tvalid_1's auc: 0.760992\n",
      "[170]\ttraining's auc: 0.778559\tvalid_1's auc: 0.762374\n",
      "[180]\ttraining's auc: 0.780877\tvalid_1's auc: 0.763729\n",
      "[190]\ttraining's auc: 0.783035\tvalid_1's auc: 0.764811\n",
      "[200]\ttraining's auc: 0.785041\tvalid_1's auc: 0.765832\n",
      "[210]\ttraining's auc: 0.786942\tvalid_1's auc: 0.766855\n",
      "[220]\ttraining's auc: 0.788765\tvalid_1's auc: 0.767783\n",
      "[230]\ttraining's auc: 0.790544\tvalid_1's auc: 0.76887\n",
      "[240]\ttraining's auc: 0.792166\tvalid_1's auc: 0.769528\n",
      "[250]\ttraining's auc: 0.793746\tvalid_1's auc: 0.770203\n",
      "[260]\ttraining's auc: 0.795282\tvalid_1's auc: 0.770794\n",
      "[270]\ttraining's auc: 0.796733\tvalid_1's auc: 0.771345\n",
      "[280]\ttraining's auc: 0.798272\tvalid_1's auc: 0.771925\n",
      "[290]\ttraining's auc: 0.799706\tvalid_1's auc: 0.772308\n",
      "[300]\ttraining's auc: 0.800985\tvalid_1's auc: 0.772767\n",
      "[310]\ttraining's auc: 0.802321\tvalid_1's auc: 0.773246\n",
      "[320]\ttraining's auc: 0.803603\tvalid_1's auc: 0.773709\n",
      "[330]\ttraining's auc: 0.804813\tvalid_1's auc: 0.774023\n",
      "[340]\ttraining's auc: 0.806013\tvalid_1's auc: 0.774276\n",
      "[350]\ttraining's auc: 0.807245\tvalid_1's auc: 0.774652\n",
      "[360]\ttraining's auc: 0.808447\tvalid_1's auc: 0.774748\n",
      "[370]\ttraining's auc: 0.809594\tvalid_1's auc: 0.775027\n",
      "[380]\ttraining's auc: 0.8107\tvalid_1's auc: 0.775259\n",
      "[390]\ttraining's auc: 0.811765\tvalid_1's auc: 0.77553\n",
      "[400]\ttraining's auc: 0.812792\tvalid_1's auc: 0.775764\n",
      "[410]\ttraining's auc: 0.813797\tvalid_1's auc: 0.775833\n",
      "[420]\ttraining's auc: 0.814924\tvalid_1's auc: 0.77595\n",
      "[430]\ttraining's auc: 0.815972\tvalid_1's auc: 0.776073\n",
      "[440]\ttraining's auc: 0.816981\tvalid_1's auc: 0.776146\n",
      "[450]\ttraining's auc: 0.818022\tvalid_1's auc: 0.77621\n",
      "[460]\ttraining's auc: 0.81899\tvalid_1's auc: 0.776289\n",
      "[470]\ttraining's auc: 0.820006\tvalid_1's auc: 0.776369\n",
      "[480]\ttraining's auc: 0.821003\tvalid_1's auc: 0.776485\n",
      "[490]\ttraining's auc: 0.821835\tvalid_1's auc: 0.776739\n",
      "[500]\ttraining's auc: 0.822757\tvalid_1's auc: 0.776976\n",
      "Did not meet early stopping. Best iteration is:\n",
      "[500]\ttraining's auc: 0.822757\tvalid_1's auc: 0.776976\n",
      "Fold 4/5\n"
     ]
    }
   ],
   "source": [
    "# Build the model\n",
    "cnt = 0\n",
    "n_splits = 5\n",
    "n_repeats = 1\n",
    "kf = RepeatedKFold(\n",
    "    n_splits=n_splits, \n",
    "    n_repeats=n_repeats, \n",
    "    random_state=42)\n",
    "\n",
    "for train_index, valid_index in kf.split(X):\n",
    "    print('Fold {}/{}'.format(cnt + 1, n_splits))\n",
    "    \n",
    "    params = {'is_unbalance': True, \n",
    "        'boosting_type': 'gbdt',\n",
    "        'objective': 'binary',\n",
    "        'metric': 'auc',\n",
    "        'learning_rate': 0.025,\n",
    "        'bagging_freq': 5,\n",
    "        'verbose': 1,\n",
    "        'min_gain_to_split': 3,\n",
    "        'min_child_samples' : 5,\n",
    "\n",
    "        'num_threads': 1,\n",
    "        'lambda_l2': 0.08,              \n",
    "        'bagging_fraction': 0.85,\n",
    "        'feature_fraction': 0.85,\n",
    "        'max_depth': 18,\n",
    "        'num_leaves': 24,\n",
    "    }  \n",
    "\n",
    "    lgb_train = lgb.Dataset(\n",
    "        X.loc[train_index], \n",
    "        y.loc[train_index], \n",
    "        feature_name=feature_names)\n",
    "\n",
    "    lgb_valid = lgb.Dataset(\n",
    "        X.loc[valid_index], \n",
    "        y.loc[valid_index])\n",
    "\n",
    "    model = lgb.train(\n",
    "        params, lgb_train,\n",
    "        num_boost_round=500,\n",
    "        valid_sets=[lgb_train, lgb_valid],\n",
    "        early_stopping_rounds=10,\n",
    "        verbose_eval=10,)\n",
    "\n",
    "    if cnt == 0:\n",
    "        importance = model.feature_importance()\n",
    "        model_fnames = model.feature_name()\n",
    "        tuples = sorted(zip(model_fnames, importance), key=lambda x: x[1])[::-1]\n",
    "        tuples = [x for x in tuples if x[1] > 0]\n",
    "        print('Important features:')\n",
    "        for i in range(60):\n",
    "            if i < len(tuples):\n",
    "                print(tuples[i])\n",
    "            else:\n",
    "                break\n",
    "    \n",
    "    cnt = cnt+1"
   ]
  },
  {
   "cell_type": "code",
   "execution_count": null,
   "metadata": {},
   "outputs": [],
   "source": [
    "fig, ax = plt.subplots(figsize=(12,18))\n",
    "lgb.plot_importance(model, max_num_features=15, height=0.8, ax=ax)\n",
    "ax.grid(False)\n",
    "plt.title(\"LightGBM - Feature Importance\", fontsize=15)\n",
    "plt.show()"
   ]
  },
  {
   "cell_type": "code",
   "execution_count": null,
   "metadata": {},
   "outputs": [],
   "source": [
    "p = model.predict(X_kaggle, num_iteration=model.best_iteration)"
   ]
  },
  {
   "cell_type": "code",
   "execution_count": null,
   "metadata": {
    "scrolled": true
   },
   "outputs": [],
   "source": [
    "submit = pd.DataFrame({'id':id_test,'pred':p})"
   ]
  },
  {
   "cell_type": "code",
   "execution_count": null,
   "metadata": {},
   "outputs": [],
   "source": [
    "submit"
   ]
  }
 ],
 "metadata": {
  "kernelspec": {
   "display_name": "Python [default]",
   "language": "python",
   "name": "python3"
  },
  "language_info": {
   "codemirror_mode": {
    "name": "ipython",
    "version": 3
   },
   "file_extension": ".py",
   "mimetype": "text/x-python",
   "name": "python",
   "nbconvert_exporter": "python",
   "pygments_lexer": "ipython3",
   "version": "3.6.4"
  }
 },
 "nbformat": 4,
 "nbformat_minor": 2
}
