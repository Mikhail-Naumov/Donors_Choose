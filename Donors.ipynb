{
 "cells": [
  {
   "cell_type": "markdown",
   "metadata": {},
   "source": [
    "# <center> Predicting Donors Choose</center>\n",
    "\n",
    "--------\n",
    "\n",
    "# Introduction"
   ]
  },
  {
   "cell_type": "markdown",
   "metadata": {},
   "source": [
    "## Imports"
   ]
  },
  {
   "cell_type": "markdown",
   "metadata": {},
   "source": [
    "https://lightgbm.readthedocs.io/en/latest/Installation-Guide.html"
   ]
  },
  {
   "cell_type": "code",
   "execution_count": 157,
   "metadata": {},
   "outputs": [],
   "source": [
    "import gc\n",
    "import numpy as np\n",
    "import pandas as pd\n",
    "import os\n",
    "\n",
    "from sklearn.feature_extraction.text import TfidfVectorizer\n",
    "from sklearn.metrics import roc_auc_score\n",
    "from sklearn.model_selection import KFold, RepeatedKFold\n",
    "from sklearn.preprocessing import LabelEncoder\n",
    "\n",
    "from tqdm import tqdm\n",
    "import tqdm"
   ]
  },
  {
   "cell_type": "code",
   "execution_count": 158,
   "metadata": {},
   "outputs": [],
   "source": [
    "import lightgbm as lgb"
   ]
  },
  {
   "cell_type": "code",
   "execution_count": 159,
   "metadata": {},
   "outputs": [],
   "source": [
    "\"\"\"\n",
    "import gensim\n",
    "\n",
    "from nltk.corpus import stopwords\n",
    "import nltk\n",
    "from nltk.stem import WordNetLemmatizer\n",
    "\"\"\"\n",
    "from sklearn.preprocessing import StandardScaler\n",
    "\n",
    "import seaborn as sns\n",
    "import matplotlib.pyplot as plt\n",
    "%matplotlib inline\n",
    "\n",
    "import re"
   ]
  },
  {
   "cell_type": "code",
   "execution_count": 160,
   "metadata": {},
   "outputs": [],
   "source": [
    "desk = True"
   ]
  },
  {
   "cell_type": "code",
   "execution_count": 161,
   "metadata": {},
   "outputs": [],
   "source": [
    "train = pd.read_csv('./Input/train.csv', low_memory=False, index_col='id')\n",
    "if desk: test = pd.read_csv('./Input/test.csv', low_memory=False, index_col='id')\n",
    "\n",
    "res = pd.read_csv('./Input/resources.csv', low_memory=False, index_col='id')"
   ]
  },
  {
   "cell_type": "code",
   "execution_count": 162,
   "metadata": {},
   "outputs": [],
   "source": [
    "train = train[:500]\n",
    "test = test[:500]"
   ]
  },
  {
   "cell_type": "markdown",
   "metadata": {},
   "source": [
    "## Preprocessing"
   ]
  },
  {
   "cell_type": "markdown",
   "metadata": {},
   "source": [
    "### 1.1 Resource Intergration\n",
    "Here we evaluate how much each project/proposal will cost and/or how big they are"
   ]
  },
  {
   "cell_type": "code",
   "execution_count": 163,
   "metadata": {},
   "outputs": [],
   "source": [
    "res['cost'] = res['quantity'] * res['price']\n",
    "res_agg = res.groupby('id').agg({'description': ['nunique'], 'quantity': ['sum'], 'cost': ['mean', 'sum']})\n",
    "res_agg.columns = ['unique_items', 'total_quantity', 'mean_cost', 'total_cost']\n",
    "res_agg.reset_index(inplace=True)\n",
    "\n",
    "#description was dropped because the description of the project should not have an effect on its liklihood of success\n",
    "\n",
    "train = train.merge(res_agg, left_index=True, right_on='id')\n",
    "if desk: test =  test.merge(res_agg, left_index=True, right_on='id')\n",
    "\n",
    "del res_agg\n",
    "del res"
   ]
  },
  {
   "cell_type": "markdown",
   "metadata": {},
   "source": [
    "### 1.3 Preprocessing of features"
   ]
  },
  {
   "cell_type": "markdown",
   "metadata": {},
   "source": [
    "#### Cat Preprocessing\n",
    "- Improve states\n",
    "    - States are 51 because of 50 + DC"
   ]
  },
  {
   "cell_type": "code",
   "execution_count": 164,
   "metadata": {},
   "outputs": [
    {
     "data": {
      "text/plain": [
       "teacher_id                                        0\n",
       "teacher_prefix                                    0\n",
       "school_state                                      0\n",
       "project_submitted_datetime                        0\n",
       "project_grade_category                            0\n",
       "project_subject_categories                        0\n",
       "project_subject_subcategories                     0\n",
       "project_title                                     0\n",
       "project_essay_1                                   0\n",
       "project_essay_2                                   0\n",
       "project_essay_3                                 482\n",
       "project_essay_4                                 482\n",
       "project_resource_summary                          0\n",
       "teacher_number_of_previously_posted_projects      0\n",
       "project_is_approved                               0\n",
       "id                                                0\n",
       "unique_items                                      0\n",
       "total_quantity                                    0\n",
       "mean_cost                                         0\n",
       "total_cost                                        0\n",
       "dtype: int64"
      ]
     },
     "execution_count": 164,
     "metadata": {},
     "output_type": "execute_result"
    }
   ],
   "source": [
    "train.isnull().sum()"
   ]
  },
  {
   "cell_type": "code",
   "execution_count": 165,
   "metadata": {},
   "outputs": [
    {
     "name": "stderr",
     "output_type": "stream",
     "text": [
      "/Users/Nahel/anaconda3/lib/python3.6/site-packages/ipykernel/__main__.py:1: SettingWithCopyWarning: \n",
      "A value is trying to be set on a copy of a slice from a DataFrame\n",
      "\n",
      "See the caveats in the documentation: http://pandas.pydata.org/pandas-docs/stable/indexing.html#indexing-view-versus-copy\n",
      "  if __name__ == '__main__':\n",
      "/Users/Nahel/anaconda3/lib/python3.6/site-packages/ipykernel/__main__.py:2: SettingWithCopyWarning: \n",
      "A value is trying to be set on a copy of a slice from a DataFrame\n",
      "\n",
      "See the caveats in the documentation: http://pandas.pydata.org/pandas-docs/stable/indexing.html#indexing-view-versus-copy\n",
      "  from ipykernel import kernelapp as app\n"
     ]
    }
   ],
   "source": [
    "train.teacher_prefix[train.teacher_prefix.isnull()] = 'Teacher'\n",
    "if desk: test.teacher_prefix[test.teacher_prefix.isnull()] = 'Teacher'"
   ]
  },
  {
   "cell_type": "markdown",
   "metadata": {},
   "source": [
    "fill na did not work"
   ]
  },
  {
   "cell_type": "code",
   "execution_count": 166,
   "metadata": {},
   "outputs": [],
   "source": [
    "def date_prep(train):\n",
    "    train['project_submitted_datetime'] = pd.to_datetime(train['project_submitted_datetime'])\n",
    "    train['datetime_year'] = train['project_submitted_datetime'].dt.year\n",
    "    train['datetime_month'] = train['project_submitted_datetime'].dt.month\n",
    "\n",
    "    del train['project_submitted_datetime']\n",
    "    del train['project_subject_subcategories']\n",
    "    return(train)\n",
    "\n",
    "date_prep(train)\n",
    "if desk: date_prep(test)"
   ]
  },
  {
   "cell_type": "code",
   "execution_count": 167,
   "metadata": {},
   "outputs": [],
   "source": [
    "def gender_features(train):\n",
    "    conditions = [(train.teacher_prefix == 'Mr.'), \n",
    "                  (train.teacher_prefix == 'Mrs.') | (train.teacher_prefix == 'Ms.')]\n",
    "    choices = ['Male', 'Female']\n",
    "    train['gender'] = np.select(conditions, choices, default='Unk')\n",
    "    return(train)"
   ]
  },
  {
   "cell_type": "code",
   "execution_count": 168,
   "metadata": {},
   "outputs": [],
   "source": [
    "train = gender_features(train)\n",
    "if desk: test = gender_features(test)\n",
    "del gender_features"
   ]
  },
  {
   "cell_type": "code",
   "execution_count": 169,
   "metadata": {},
   "outputs": [],
   "source": [
    "#train.groupby(['datetime_month','gender'])['project_is_approved'].mean().reset_index()"
   ]
  },
  {
   "cell_type": "code",
   "execution_count": 170,
   "metadata": {},
   "outputs": [],
   "source": [
    "#gen_mon.to_csv('gb_gender_month.csv')"
   ]
  },
  {
   "cell_type": "code",
   "execution_count": 171,
   "metadata": {},
   "outputs": [],
   "source": [
    "#sns.lmplot(x=\"datetime_month\", y=\"project_is_approved\", hue=\"gender\", data=gen_mon[gen_mon['gender']!='Unk'], order=4, ci=None, truncate=True)"
   ]
  },
  {
   "cell_type": "code",
   "execution_count": 172,
   "metadata": {},
   "outputs": [
    {
     "data": {
      "text/plain": [
       "31"
      ]
     },
     "execution_count": 172,
     "metadata": {},
     "output_type": "execute_result"
    }
   ],
   "source": [
    "gc.collect()"
   ]
  },
  {
   "cell_type": "markdown",
   "metadata": {},
   "source": [
    "##### Encoding labels"
   ]
  },
  {
   "cell_type": "code",
   "execution_count": 173,
   "metadata": {},
   "outputs": [],
   "source": [
    "train = train.reset_index()\n",
    "if desk: train = train.reset_index()"
   ]
  },
  {
   "cell_type": "code",
   "execution_count": 174,
   "metadata": {},
   "outputs": [
    {
     "data": {
      "application/vnd.jupyter.widget-view+json": {
       "model_id": "ddc11444dc604932a61481de71b49f74",
       "version_major": 2,
       "version_minor": 0
      },
      "text/html": [
       "<p>Failed to display Jupyter Widget of type <code>HBox</code>.</p>\n",
       "<p>\n",
       "  If you're reading this message in the Jupyter Notebook or JupyterLab Notebook, it may mean\n",
       "  that the widgets JavaScript is still loading. If this message persists, it\n",
       "  likely means that the widgets JavaScript library is either not installed or\n",
       "  not enabled. See the <a href=\"https://ipywidgets.readthedocs.io/en/stable/user_install.html\">Jupyter\n",
       "  Widgets Documentation</a> for setup instructions.\n",
       "</p>\n",
       "<p>\n",
       "  If you're reading this message in another frontend (for example, a static\n",
       "  rendering on GitHub or <a href=\"https://nbviewer.jupyter.org/\">NBViewer</a>),\n",
       "  it may mean that your frontend doesn't currently support widgets.\n",
       "</p>\n"
      ],
      "text/plain": [
       "HBox(children=(IntProgress(value=0, max=6), HTML(value='')))"
      ]
     },
     "metadata": {},
     "output_type": "display_data"
    },
    {
     "data": {
      "application/vnd.jupyter.widget-view+json": {
       "model_id": "51825b2b9a674c3fa215b99ccc5c5744",
       "version_major": 2,
       "version_minor": 0
      },
      "text/html": [
       "<p>Failed to display Jupyter Widget of type <code>HBox</code>.</p>\n",
       "<p>\n",
       "  If you're reading this message in the Jupyter Notebook or JupyterLab Notebook, it may mean\n",
       "  that the widgets JavaScript is still loading. If this message persists, it\n",
       "  likely means that the widgets JavaScript library is either not installed or\n",
       "  not enabled. See the <a href=\"https://ipywidgets.readthedocs.io/en/stable/user_install.html\">Jupyter\n",
       "  Widgets Documentation</a> for setup instructions.\n",
       "</p>\n",
       "<p>\n",
       "  If you're reading this message in another frontend (for example, a static\n",
       "  rendering on GitHub or <a href=\"https://nbviewer.jupyter.org/\">NBViewer</a>),\n",
       "  it may mean that your frontend doesn't currently support widgets.\n",
       "</p>\n"
      ],
      "text/plain": [
       "HBox(children=(IntProgress(value=0, max=6), HTML(value='')))"
      ]
     },
     "metadata": {},
     "output_type": "display_data"
    }
   ],
   "source": [
    "# Because of memory issues, it made more sense to encode everything as a string rather than dummies\n",
    "cols  = [\n",
    "    'teacher_id', \n",
    "    'gender',\n",
    "#    'datetime_year', already encoded\n",
    "#    'datetime_month', already encoded\n",
    "    'teacher_prefix', \n",
    "    'school_state', \n",
    "    'project_grade_category',\n",
    "    'project_subject_categories']\n",
    "\n",
    "for c in tqdm.tqdm_notebook(cols):\n",
    "    encod = LabelEncoder()\n",
    "    encod.fit(train[c].astype(str))\n",
    "    train[c] = encod.transform(train[c].astype(str))\n",
    "\n",
    "if desk: \n",
    "    for c in tqdm.tqdm_notebook(cols):\n",
    "        encod = LabelEncoder()\n",
    "        encod.fit(test[c].astype(str))\n",
    "        test[c] = encod.transform(test[c].astype(str))"
   ]
  },
  {
   "cell_type": "code",
   "execution_count": 175,
   "metadata": {},
   "outputs": [
    {
     "data": {
      "text/plain": [
       "14"
      ]
     },
     "execution_count": 175,
     "metadata": {},
     "output_type": "execute_result"
    }
   ],
   "source": [
    "del cols\n",
    "del encod\n",
    "del LabelEncoder\n",
    "gc.collect()"
   ]
  },
  {
   "cell_type": "markdown",
   "metadata": {},
   "source": [
    "#### Num Preprocessing"
   ]
  },
  {
   "cell_type": "code",
   "execution_count": 176,
   "metadata": {},
   "outputs": [],
   "source": [
    "num_features  = ['teacher_number_of_previously_posted_projects','total_quantity', 'mean_cost', 'total_cost',]"
   ]
  },
  {
   "cell_type": "code",
   "execution_count": 177,
   "metadata": {},
   "outputs": [],
   "source": [
    "SS = StandardScaler()\n",
    "train[num_features] = SS.fit_transform(train[num_features])\n",
    "if desk: test[num_features] = SS.fit_transform(test[num_features])"
   ]
  },
  {
   "cell_type": "code",
   "execution_count": 178,
   "metadata": {},
   "outputs": [],
   "source": [
    "del num_features\n",
    "del StandardScaler\n",
    "del SS"
   ]
  },
  {
   "cell_type": "code",
   "execution_count": 179,
   "metadata": {},
   "outputs": [
    {
     "data": {
      "text/plain": [
       "14"
      ]
     },
     "execution_count": 179,
     "metadata": {},
     "output_type": "execute_result"
    }
   ],
   "source": [
    "gc.collect()"
   ]
  },
  {
   "cell_type": "markdown",
   "metadata": {},
   "source": [
    "#### Text Preprocessing"
   ]
  },
  {
   "cell_type": "markdown",
   "metadata": {},
   "source": [
    "  \n",
    "#### Before May 17th, 2016:\n",
    "\n",
    "- project_essay_1: \"Introduce us to your classroom\"\n",
    "- project_essay_2: \"Tell us more about your students\"\n",
    "- project_essay_3: \"Describe how your students will use the materials you're requesting\"\n",
    "- project_essay_4: \"Close by sharing why your project will make a difference\"\n",
    "\n",
    "#### May 17th, 2016 and beyond:\n",
    "\n",
    "- project_essay_1: \"Describe your students: What makes your students special? Specific details about their background, your neighborhood, and your school are all helpful.\"\n",
    "- project_essay_2: \"About your project: How will these materials make a difference in your students' learning and improve their school lives?\"\n",
    "\n",
    "#### Plan\n",
    "- Combine essay_1 and essay_2 before May 17th to make \"student_description\" and use essay_1 after May 17th directly\n",
    "- Combine essay_3 and essay_4 before May 17th to make \"project_description\" and use essay_2 after May 17th directly"
   ]
  },
  {
   "cell_type": "code",
   "execution_count": 180,
   "metadata": {},
   "outputs": [],
   "source": [
    "def essay_convert(train):\n",
    "    # Making the First essay : student_description\n",
    "    train['student_description']=train['project_essay_1']\n",
    "    train.loc[train.project_essay_3.notnull(),'student_description']=train.loc[train.project_essay_3.notnull(),'project_essay_1']+train.loc[train.project_essay_3.notnull(),'project_essay_2']\n",
    "\n",
    "    # Making the second essay : project_description\n",
    "    train['project_description']=train['project_essay_2']\n",
    "    train.loc[train.project_essay_3.notnull(),'project_description']=train.loc[train.project_essay_3.notnull(),'project_essay_3']+train.loc[train.project_essay_3.notnull(),'project_essay_4']\n",
    "\n",
    "    # Removing original essays\n",
    "    del train['project_essay_1']\n",
    "    del train['project_essay_2']\n",
    "    del train['project_essay_3']\n",
    "    del train['project_essay_4']\n",
    "    return(train)"
   ]
  },
  {
   "cell_type": "code",
   "execution_count": 181,
   "metadata": {},
   "outputs": [],
   "source": [
    "essay_convert(train)\n",
    "if desk: essay_convert(test)\n",
    "gc.collect()\n",
    "del essay_convert"
   ]
  },
  {
   "cell_type": "markdown",
   "metadata": {},
   "source": [
    "### Lem & Tokenizer"
   ]
  },
  {
   "cell_type": "code",
   "execution_count": 182,
   "metadata": {},
   "outputs": [],
   "source": [
    "text_features = ['project_title', 'project_resource_summary',\n",
    "                'project_description', 'student_description']"
   ]
  },
  {
   "cell_type": "code",
   "execution_count": 183,
   "metadata": {},
   "outputs": [],
   "source": [
    "other_stopwords = [x for x in 'abcdefghijklmnopqrstuvwxyz']\n",
    "for j in ['student','students','education',]:\n",
    "    other_stopwords.append(j)"
   ]
  },
  {
   "cell_type": "code",
   "execution_count": 184,
   "metadata": {},
   "outputs": [],
   "source": [
    "#import gensim\n",
    "from nltk.corpus import stopwords\n",
    "def scrub(text):\n",
    "    text = text.strip().lower()\n",
    "    text = re.sub('\\W+',' ', text)\n",
    "    text = re.sub(r'(\\\")', ' ', text)\n",
    "    text = re.sub(r'(\\r)', ' ', text)\n",
    "    text = re.sub(r'(\\n)', ' ', text)\n",
    "    text = re.sub(r'(\\r\\n)', ' ', text)\n",
    "    text = re.sub(r'(\\\\)', ' ', text)\n",
    "    text = re.sub(r'\\t', ' ', text)\n",
    "    text = re.sub(r'\\:', ' ', text)\n",
    "    text = re.sub(r'\\\"\\\"\\\"\\\"', ' ', text)\n",
    "    text = re.sub(r'_', ' ', text)\n",
    "    text = re.sub(r'\\+', ' ', text)\n",
    "    text = re.sub(r'\\=', ' ', text)\n",
    "    text = re.sub(' i m ',' i\\'m ', text)\n",
    "    text = re.sub('n t ','n\\'t ', text)\n",
    "    text = re.sub(' re ',' are ', text)\n",
    "    text = ' '.join([word for word in text.split() if word not in (other_stopwords + stopwords.words(\"english\"))])\n",
    "    return(text)"
   ]
  },
  {
   "cell_type": "code",
   "execution_count": 185,
   "metadata": {
    "scrolled": true
   },
   "outputs": [
    {
     "data": {
      "text/plain": [
       "0"
      ]
     },
     "execution_count": 185,
     "metadata": {},
     "output_type": "execute_result"
    }
   ],
   "source": [
    "gc.collect()"
   ]
  },
  {
   "cell_type": "code",
   "execution_count": 186,
   "metadata": {},
   "outputs": [
    {
     "data": {
      "application/vnd.jupyter.widget-view+json": {
       "model_id": "e8d36ff30d314d70a987fc3222015f16",
       "version_major": 2,
       "version_minor": 0
      },
      "text/html": [
       "<p>Failed to display Jupyter Widget of type <code>HBox</code>.</p>\n",
       "<p>\n",
       "  If you're reading this message in the Jupyter Notebook or JupyterLab Notebook, it may mean\n",
       "  that the widgets JavaScript is still loading. If this message persists, it\n",
       "  likely means that the widgets JavaScript library is either not installed or\n",
       "  not enabled. See the <a href=\"https://ipywidgets.readthedocs.io/en/stable/user_install.html\">Jupyter\n",
       "  Widgets Documentation</a> for setup instructions.\n",
       "</p>\n",
       "<p>\n",
       "  If you're reading this message in another frontend (for example, a static\n",
       "  rendering on GitHub or <a href=\"https://nbviewer.jupyter.org/\">NBViewer</a>),\n",
       "  it may mean that your frontend doesn't currently support widgets.\n",
       "</p>\n"
      ],
      "text/plain": [
       "HBox(children=(IntProgress(value=0, max=4), HTML(value='')))"
      ]
     },
     "metadata": {},
     "output_type": "display_data"
    },
    {
     "name": "stdout",
     "output_type": "stream",
     "text": [
      "\n"
     ]
    },
    {
     "name": "stderr",
     "output_type": "stream",
     "text": [
      "Exception in thread Thread-16:\n",
      "Traceback (most recent call last):\n",
      "  File \"/Users/Nahel/anaconda3/lib/python3.6/threading.py\", line 916, in _bootstrap_inner\n",
      "    self.run()\n",
      "  File \"/Users/Nahel/anaconda3/lib/python3.6/site-packages/tqdm/_tqdm.py\", line 144, in run\n",
      "    for instance in self.tqdm_cls._instances:\n",
      "  File \"/Users/Nahel/anaconda3/lib/python3.6/_weakrefset.py\", line 60, in __iter__\n",
      "    for itemref in self.data:\n",
      "RuntimeError: Set changed size during iteration\n",
      "\n"
     ]
    },
    {
     "name": "stdout",
     "output_type": "stream",
     "text": [
      "\n"
     ]
    }
   ],
   "source": [
    "for j in tqdm.tqdm_notebook(text_features):\n",
    "    n_col = 'processed_'+j\n",
    "    train[n_col] = train[j].apply(lambda x: scrub(x))\n",
    "    if desk: test[n_col] = test[j].apply(lambda x: scrub(x))\n",
    "\n",
    "gc.collect()\n",
    "for i in text_features:\n",
    "    del train[i]\n",
    "    if desk: del test[i]\n",
    "\n",
    "del stopwords\n",
    "del other_stopwords\n",
    "del text_features"
   ]
  },
  {
   "cell_type": "markdown",
   "metadata": {},
   "source": [
    "## Modeling"
   ]
  },
  {
   "cell_type": "markdown",
   "metadata": {},
   "source": [
    "### Non_NN"
   ]
  },
  {
   "cell_type": "markdown",
   "metadata": {},
   "source": [
    "#### Tfidf & X,y Assignment"
   ]
  },
  {
   "cell_type": "code",
   "execution_count": 187,
   "metadata": {},
   "outputs": [
    {
     "data": {
      "text/plain": [
       "56"
      ]
     },
     "execution_count": 187,
     "metadata": {},
     "output_type": "execute_result"
    }
   ],
   "source": [
    "gc.collect()"
   ]
  },
  {
   "cell_type": "code",
   "execution_count": 188,
   "metadata": {},
   "outputs": [],
   "source": [
    "cols = [\n",
    "    'processed_project_title',\n",
    "    'processed_project_resource_summary', \n",
    "    'processed_project_description',\n",
    "    'processed_student_description']"
   ]
  },
  {
   "cell_type": "code",
   "execution_count": 189,
   "metadata": {},
   "outputs": [
    {
     "name": "stdout",
     "output_type": "stream",
     "text": [
      "Average length in processed_project_title is 24 words\n",
      "Average length in processed_project_resource_summary is 80 words\n",
      "Average length in processed_project_description is 513 words\n",
      "Average length in processed_student_description is 402 words\n"
     ]
    }
   ],
   "source": [
    "for i in cols:\n",
    "    print(\"Average length in {} is {} words\".format(i,str(round(train[i].str.len().mean()))))"
   ]
  },
  {
   "cell_type": "code",
   "execution_count": 190,
   "metadata": {},
   "outputs": [],
   "source": [
    "n_features = [\n",
    "    200, \n",
    "    400, \n",
    "    2500,\n",
    "    2500]"
   ]
  },
  {
   "cell_type": "code",
   "execution_count": 191,
   "metadata": {},
   "outputs": [
    {
     "data": {
      "text/plain": [
       "122"
      ]
     },
     "execution_count": 191,
     "metadata": {},
     "output_type": "execute_result"
    }
   ],
   "source": [
    "gc.collect()"
   ]
  },
  {
   "cell_type": "code",
   "execution_count": 194,
   "metadata": {},
   "outputs": [
    {
     "data": {
      "application/vnd.jupyter.widget-view+json": {
       "model_id": "d50641413c2042af98ea4e0d8e69b53f",
       "version_major": 2,
       "version_minor": 0
      },
      "text/html": [
       "<p>Failed to display Jupyter Widget of type <code>HBox</code>.</p>\n",
       "<p>\n",
       "  If you're reading this message in the Jupyter Notebook or JupyterLab Notebook, it may mean\n",
       "  that the widgets JavaScript is still loading. If this message persists, it\n",
       "  likely means that the widgets JavaScript library is either not installed or\n",
       "  not enabled. See the <a href=\"https://ipywidgets.readthedocs.io/en/stable/user_install.html\">Jupyter\n",
       "  Widgets Documentation</a> for setup instructions.\n",
       "</p>\n",
       "<p>\n",
       "  If you're reading this message in another frontend (for example, a static\n",
       "  rendering on GitHub or <a href=\"https://nbviewer.jupyter.org/\">NBViewer</a>),\n",
       "  it may mean that your frontend doesn't currently support widgets.\n",
       "</p>\n"
      ],
      "text/plain": [
       "HBox(children=(IntProgress(value=1, bar_style='info', max=1), HTML(value='')))"
      ]
     },
     "metadata": {},
     "output_type": "display_data"
    },
    {
     "name": "stdout",
     "output_type": "stream",
     "text": [
      "\n"
     ]
    }
   ],
   "source": [
    "for c_i, c in tqdm.tqdm_notebook(enumerate(cols)):\n",
    "    tfidf = TfidfVectorizer(\n",
    "        max_features=n_features[c_i])\n",
    "\n",
    "    tfidf.fit(train[c])\n",
    "\n",
    "    tfidf_train2 = tfidf.transform(train[c])\n",
    "\n",
    "#    tfidf_train = np.array(tfidf.transform(train[c].values).toarray(), dtype=np.float16)\n",
    "#    for i in range(n_features[c_i]):\n",
    "#        train[c + '_tfidf_' + str(i)] = tfidf_train[:, i]\n",
    "#    if desk:\n",
    "#        tfidf_test = np.array(tfidf.transform(test[c].values).toarray(), dtype=np.float16)\n",
    "#        for i in range(n_features[c_i]):\n",
    "#            test[c + '_tfidf_' + str(i)] = tfidf_test[:, i]\n",
    "\n",
    "#for i in cols:\n",
    "#    del train[i]\n",
    "#    if desk: del test[i]"
   ]
  },
  {
   "cell_type": "code",
   "execution_count": 198,
   "metadata": {},
   "outputs": [
    {
     "data": {
      "text/plain": [
       "<500x2500 sparse matrix of type '<class 'numpy.float64'>'\n",
       "\twith 22653 stored elements in Compressed Sparse Row format>"
      ]
     },
     "execution_count": 198,
     "metadata": {},
     "output_type": "execute_result"
    }
   ],
   "source": [
    "tfidf_train2"
   ]
  },
  {
   "cell_type": "code",
   "execution_count": null,
   "metadata": {},
   "outputs": [],
   "source": []
  },
  {
   "cell_type": "code",
   "execution_count": 123,
   "metadata": {},
   "outputs": [],
   "source": [
    "y = train['project_is_approved']\n",
    "y = y.copy(deep=True)"
   ]
  },
  {
   "cell_type": "code",
   "execution_count": 124,
   "metadata": {},
   "outputs": [],
   "source": [
    "drop_cols = ['index','project_is_approved','unique_items']\n",
    "del train['id']\n",
    "\n",
    "X = train.drop(drop_cols, axis=1)\n",
    "y = train['project_is_approved']\n",
    "\n",
    "#del train"
   ]
  },
  {
   "cell_type": "code",
   "execution_count": 125,
   "metadata": {},
   "outputs": [],
   "source": [
    "feature_names = list(X.columns)"
   ]
  },
  {
   "cell_type": "markdown",
   "metadata": {},
   "source": [
    "#### Model Generation"
   ]
  },
  {
   "cell_type": "code",
   "execution_count": 39,
   "metadata": {
    "collapsed": true
   },
   "outputs": [
    {
     "name": "stdout",
     "output_type": "stream",
     "text": [
      "Fold 1/5\n",
      "Training until validation scores don't improve for 100 rounds.\n",
      "[10]\ttraining's auc: 0.856041\tvalid_1's auc: 0.605613\n",
      "[20]\ttraining's auc: 0.88737\tvalid_1's auc: 0.615679\n",
      "[30]\ttraining's auc: 0.903476\tvalid_1's auc: 0.610355\n",
      "[40]\ttraining's auc: 0.916518\tvalid_1's auc: 0.617111\n",
      "[50]\ttraining's auc: 0.934648\tvalid_1's auc: 0.622466\n",
      "[60]\ttraining's auc: 0.941806\tvalid_1's auc: 0.631749\n",
      "[70]\ttraining's auc: 0.951023\tvalid_1's auc: 0.640014\n",
      "[80]\ttraining's auc: 0.959157\tvalid_1's auc: 0.641742\n",
      "[90]\ttraining's auc: 0.964161\tvalid_1's auc: 0.644127\n",
      "[100]\ttraining's auc: 0.969761\tvalid_1's auc: 0.650547\n",
      "[110]\ttraining's auc: 0.978131\tvalid_1's auc: 0.654089\n",
      "[120]\ttraining's auc: 0.983334\tvalid_1's auc: 0.655609\n",
      "[130]\ttraining's auc: 0.986837\tvalid_1's auc: 0.653865\n",
      "[140]\ttraining's auc: 0.989999\tvalid_1's auc: 0.659135\n",
      "[150]\ttraining's auc: 0.992448\tvalid_1's auc: 0.656396\n",
      "[160]\ttraining's auc: 0.994229\tvalid_1's auc: 0.657607\n",
      "[170]\ttraining's auc: 0.995765\tvalid_1's auc: 0.658626\n",
      "[180]\ttraining's auc: 0.996756\tvalid_1's auc: 0.660154\n",
      "[190]\ttraining's auc: 0.997459\tvalid_1's auc: 0.661296\n",
      "[200]\ttraining's auc: 0.998201\tvalid_1's auc: 0.662507\n",
      "[210]\ttraining's auc: 0.998584\tvalid_1's auc: 0.662044\n",
      "[220]\ttraining's auc: 0.999044\tvalid_1's auc: 0.662978\n",
      "[230]\ttraining's auc: 0.999351\tvalid_1's auc: 0.663703\n",
      "[240]\ttraining's auc: 0.999568\tvalid_1's auc: 0.662963\n",
      "[250]\ttraining's auc: 0.999676\tvalid_1's auc: 0.663194\n",
      "[260]\ttraining's auc: 0.999732\tvalid_1's auc: 0.66108\n",
      "[270]\ttraining's auc: 0.999798\tvalid_1's auc: 0.660848\n",
      "[280]\ttraining's auc: 0.999858\tvalid_1's auc: 0.662299\n",
      "[290]\ttraining's auc: 0.999896\tvalid_1's auc: 0.659768\n",
      "[300]\ttraining's auc: 0.99994\tvalid_1's auc: 0.659004\n",
      "[310]\ttraining's auc: 0.999963\tvalid_1's auc: 0.658124\n",
      "[320]\ttraining's auc: 0.99997\tvalid_1's auc: 0.657885\n",
      "[330]\ttraining's auc: 0.999977\tvalid_1's auc: 0.659621\n",
      "Early stopping, best iteration is:\n",
      "[230]\ttraining's auc: 0.999351\tvalid_1's auc: 0.663703\n",
      "Important features:\n",
      "('mean_cost', 267)\n",
      "('total_cost', 233)\n",
      "('teacher_number_of_previously_posted_projects', 133)\n",
      "('teacher_id', 112)\n",
      "('processed_project_description_tfidf_1983', 104)\n",
      "('processed_student_description_tfidf_1982', 86)\n",
      "('processed_project_resource_summary_tfidf_236', 83)\n",
      "('processed_project_description_tfidf_1066', 69)\n",
      "('total_quantity', 69)\n",
      "('processed_project_description_tfidf_261', 57)\n",
      "('project_subject_categories', 57)\n",
      "('processed_project_description_tfidf_1365', 56)\n",
      "('processed_project_description_tfidf_2382', 53)\n",
      "('processed_student_description_tfidf_1413', 50)\n",
      "('school_state', 50)\n",
      "('processed_project_description_tfidf_1386', 48)\n",
      "('processed_project_description_tfidf_2225', 46)\n",
      "('processed_project_description_tfidf_1504', 46)\n",
      "('processed_project_description_tfidf_535', 45)\n",
      "('processed_project_description_tfidf_1280', 44)\n",
      "('processed_project_description_tfidf_396', 42)\n",
      "('processed_student_description_tfidf_1384', 41)\n",
      "('processed_project_description_tfidf_92', 40)\n",
      "('processed_student_description_tfidf_1321', 39)\n",
      "('processed_project_description_tfidf_2260', 39)\n",
      "('processed_project_description_tfidf_1276', 38)\n",
      "('processed_project_description_tfidf_28', 38)\n",
      "('processed_student_description_tfidf_74', 37)\n",
      "('processed_project_description_tfidf_2423', 37)\n",
      "('processed_project_description_tfidf_103', 37)\n",
      "('processed_student_description_tfidf_1325', 36)\n",
      "('datetime_month', 35)\n",
      "('processed_student_description_tfidf_812', 34)\n",
      "('processed_project_description_tfidf_2383', 34)\n",
      "('processed_project_description_tfidf_1855', 34)\n",
      "('processed_project_description_tfidf_1811', 34)\n",
      "('processed_project_description_tfidf_1850', 33)\n",
      "('processed_student_description_tfidf_440', 32)\n",
      "('processed_project_description_tfidf_2271', 32)\n",
      "('processed_project_description_tfidf_2259', 32)\n",
      "('processed_project_description_tfidf_2080', 31)\n",
      "('processed_project_resource_summary_tfidf_163', 31)\n",
      "('processed_student_description_tfidf_1754', 30)\n",
      "('processed_student_description_tfidf_1724', 30)\n",
      "('processed_student_description_tfidf_468', 30)\n",
      "('processed_project_description_tfidf_2487', 29)\n",
      "('processed_project_description_tfidf_235', 29)\n",
      "('processed_project_description_tfidf_1377', 28)\n",
      "('processed_student_description_tfidf_1803', 27)\n",
      "('processed_student_description_tfidf_1503', 27)\n",
      "('processed_project_description_tfidf_2004', 26)\n",
      "('processed_project_description_tfidf_1783', 26)\n",
      "('processed_project_description_tfidf_56', 26)\n",
      "('processed_student_description_tfidf_950', 25)\n",
      "('processed_project_description_tfidf_2474', 25)\n",
      "('processed_project_description_tfidf_2445', 25)\n",
      "('processed_project_description_tfidf_1732', 25)\n",
      "('processed_project_description_tfidf_935', 25)\n",
      "('processed_student_description_tfidf_892', 24)\n",
      "('processed_project_description_tfidf_2308', 24)\n",
      "Fold 1/5\n",
      "Training until validation scores don't improve for 100 rounds.\n",
      "[10]\ttraining's auc: 0.851371\tvalid_1's auc: 0.657392\n",
      "[20]\ttraining's auc: 0.88435\tvalid_1's auc: 0.675949\n",
      "[30]\ttraining's auc: 0.911325\tvalid_1's auc: 0.670396\n",
      "[40]\ttraining's auc: 0.926007\tvalid_1's auc: 0.661541\n",
      "[50]\ttraining's auc: 0.93544\tvalid_1's auc: 0.655443\n",
      "[60]\ttraining's auc: 0.943756\tvalid_1's auc: 0.650447\n",
      "[70]\ttraining's auc: 0.950711\tvalid_1's auc: 0.649208\n",
      "[80]\ttraining's auc: 0.95792\tvalid_1's auc: 0.651788\n",
      "[90]\ttraining's auc: 0.965822\tvalid_1's auc: 0.6508\n",
      "[100]\ttraining's auc: 0.971713\tvalid_1's auc: 0.653859\n",
      "[110]\ttraining's auc: 0.97848\tvalid_1's auc: 0.65549\n",
      "[120]\ttraining's auc: 0.982603\tvalid_1's auc: 0.659475\n",
      "Early stopping, best iteration is:\n",
      "[21]\ttraining's auc: 0.887125\tvalid_1's auc: 0.676769\n",
      "Important features:\n",
      "('total_cost', 40)\n",
      "('mean_cost', 32)\n",
      "('processed_project_description_tfidf_2107', 18)\n",
      "('processed_project_description_tfidf_1386', 16)\n",
      "('teacher_number_of_previously_posted_projects', 15)\n",
      "('teacher_id', 11)\n",
      "('processed_project_description_tfidf_2445', 8)\n",
      "('processed_project_description_tfidf_2225', 8)\n",
      "('processed_project_description_tfidf_1983', 8)\n",
      "('processed_project_description_tfidf_1850', 8)\n",
      "('processed_project_description_tfidf_56', 8)\n",
      "('total_quantity', 8)\n",
      "('project_subject_categories', 8)\n",
      "('processed_project_description_tfidf_2493', 7)\n",
      "('processed_project_description_tfidf_437', 7)\n",
      "('processed_project_description_tfidf_228', 7)\n",
      "('processed_project_description_tfidf_1811', 6)\n",
      "('processed_project_description_tfidf_1280', 6)\n",
      "('processed_project_description_tfidf_1137', 6)\n",
      "('processed_project_description_tfidf_502', 6)\n",
      "('processed_project_description_tfidf_392', 6)\n",
      "('processed_project_resource_summary_tfidf_236', 6)\n",
      "('processed_student_description_tfidf_2370', 5)\n",
      "('processed_student_description_tfidf_1803', 5)\n",
      "('processed_student_description_tfidf_1754', 5)\n",
      "('processed_student_description_tfidf_1364', 5)\n",
      "('processed_student_description_tfidf_1349', 5)\n",
      "('processed_project_description_tfidf_2383', 5)\n",
      "('processed_project_description_tfidf_1365', 5)\n",
      "('processed_project_description_tfidf_1066', 5)\n",
      "('processed_project_description_tfidf_396', 5)\n",
      "('processed_project_title_tfidf_33', 5)\n",
      "('processed_student_description_tfidf_2293', 4)\n",
      "('processed_student_description_tfidf_2274', 4)\n",
      "('processed_student_description_tfidf_1503', 4)\n",
      "('processed_student_description_tfidf_1417', 4)\n",
      "('processed_student_description_tfidf_1276', 4)\n",
      "('processed_student_description_tfidf_789', 4)\n",
      "('processed_student_description_tfidf_164', 4)\n",
      "('processed_project_description_tfidf_2423', 4)\n",
      "('processed_project_description_tfidf_2260', 4)\n",
      "('processed_project_description_tfidf_1399', 4)\n",
      "('processed_project_description_tfidf_541', 4)\n",
      "('processed_project_description_tfidf_211', 4)\n",
      "('processed_project_description_tfidf_9', 4)\n",
      "('processed_project_resource_summary_tfidf_373', 4)\n",
      "('processed_project_resource_summary_tfidf_203', 4)\n",
      "('processed_project_resource_summary_tfidf_118', 4)\n",
      "('teacher_prefix', 4)\n",
      "('processed_student_description_tfidf_2469', 3)\n",
      "('processed_student_description_tfidf_2232', 3)\n",
      "('processed_student_description_tfidf_1388', 3)\n",
      "('processed_student_description_tfidf_1180', 3)\n",
      "('processed_student_description_tfidf_1021', 3)\n",
      "('processed_student_description_tfidf_440', 3)\n",
      "('processed_student_description_tfidf_68', 3)\n",
      "('processed_project_description_tfidf_2382', 3)\n",
      "('processed_project_description_tfidf_2322', 3)\n",
      "('processed_project_description_tfidf_2271', 3)\n",
      "('processed_project_description_tfidf_1855', 3)\n",
      "Fold 1/5\n"
     ]
    },
    {
     "name": "stdout",
     "output_type": "stream",
     "text": [
      "Training until validation scores don't improve for 100 rounds.\n",
      "[10]\ttraining's auc: 0.838636\tvalid_1's auc: 0.632467\n",
      "[20]\ttraining's auc: 0.879459\tvalid_1's auc: 0.651805\n",
      "[30]\ttraining's auc: 0.895956\tvalid_1's auc: 0.66512\n",
      "[40]\ttraining's auc: 0.907966\tvalid_1's auc: 0.6633\n",
      "[50]\ttraining's auc: 0.919391\tvalid_1's auc: 0.656218\n",
      "[60]\ttraining's auc: 0.93479\tvalid_1's auc: 0.668411\n",
      "[70]\ttraining's auc: 0.941903\tvalid_1's auc: 0.675588\n",
      "[80]\ttraining's auc: 0.951936\tvalid_1's auc: 0.682924\n",
      "[90]\ttraining's auc: 0.957851\tvalid_1's auc: 0.684907\n",
      "[100]\ttraining's auc: 0.967418\tvalid_1's auc: 0.679792\n",
      "[110]\ttraining's auc: 0.976567\tvalid_1's auc: 0.681449\n",
      "[120]\ttraining's auc: 0.982281\tvalid_1's auc: 0.682654\n",
      "[130]\ttraining's auc: 0.987172\tvalid_1's auc: 0.686755\n",
      "[140]\ttraining's auc: 0.990231\tvalid_1's auc: 0.683614\n",
      "[150]\ttraining's auc: 0.993206\tvalid_1's auc: 0.686104\n",
      "[160]\ttraining's auc: 0.995296\tvalid_1's auc: 0.683186\n",
      "[170]\ttraining's auc: 0.996745\tvalid_1's auc: 0.679847\n",
      "[180]\ttraining's auc: 0.997672\tvalid_1's auc: 0.68129\n",
      "[190]\ttraining's auc: 0.998525\tvalid_1's auc: 0.677016\n",
      "[200]\ttraining's auc: 0.998969\tvalid_1's auc: 0.676826\n",
      "[210]\ttraining's auc: 0.999208\tvalid_1's auc: 0.67355\n",
      "[220]\ttraining's auc: 0.999477\tvalid_1's auc: 0.673423\n",
      "Early stopping, best iteration is:\n",
      "[128]\ttraining's auc: 0.986338\tvalid_1's auc: 0.687333\n",
      "Important features:\n",
      "('mean_cost', 149)\n",
      "('total_cost', 132)\n",
      "('teacher_number_of_previously_posted_projects', 77)\n",
      "('processed_project_description_tfidf_1983', 70)\n",
      "('processed_project_description_tfidf_1386', 56)\n",
      "('teacher_id', 56)\n",
      "('total_quantity', 43)\n",
      "('processed_project_description_tfidf_2225', 41)\n",
      "('project_subject_categories', 41)\n",
      "('processed_project_description_tfidf_396', 39)\n",
      "('processed_project_description_tfidf_1066', 38)\n",
      "('processed_student_description_tfidf_1982', 37)\n",
      "('processed_project_description_tfidf_2260', 36)\n",
      "('processed_student_description_tfidf_1413', 33)\n",
      "('processed_project_description_tfidf_1732', 33)\n",
      "('processed_project_description_tfidf_1280', 33)\n",
      "('processed_project_resource_summary_tfidf_236', 33)\n",
      "('processed_student_description_tfidf_161', 30)\n",
      "('processed_project_description_tfidf_2382', 29)\n",
      "('processed_project_description_tfidf_261', 28)\n",
      "('processed_student_description_tfidf_74', 25)\n",
      "('processed_project_description_tfidf_2474', 25)\n",
      "('processed_student_description_tfidf_826', 24)\n",
      "('processed_project_description_tfidf_2423', 24)\n",
      "('processed_student_description_tfidf_1417', 23)\n",
      "('processed_project_resource_summary_tfidf_340', 23)\n",
      "('processed_project_description_tfidf_1799', 22)\n",
      "('processed_project_description_tfidf_1343', 22)\n",
      "('processed_project_description_tfidf_103', 22)\n",
      "('processed_project_description_tfidf_1654', 21)\n",
      "('processed_student_description_tfidf_1010', 20)\n",
      "('processed_project_description_tfidf_2107', 20)\n",
      "('processed_project_description_tfidf_1122', 20)\n",
      "('processed_project_description_tfidf_1850', 19)\n",
      "('processed_project_resource_summary_tfidf_163', 19)\n",
      "('datetime_month', 19)\n",
      "('processed_student_description_tfidf_1805', 18)\n",
      "('processed_project_description_tfidf_2468', 18)\n",
      "('processed_project_description_tfidf_2383', 18)\n",
      "('processed_project_description_tfidf_56', 18)\n",
      "('processed_student_description_tfidf_1858', 17)\n",
      "('processed_student_description_tfidf_1325', 17)\n",
      "('processed_student_description_tfidf_440', 17)\n",
      "('processed_project_description_tfidf_2487', 17)\n",
      "('processed_student_description_tfidf_1742', 16)\n",
      "('processed_student_description_tfidf_1622', 16)\n",
      "('processed_project_description_tfidf_616', 16)\n",
      "('processed_project_description_tfidf_92', 16)\n",
      "('teacher_prefix', 16)\n",
      "('processed_project_resource_summary_tfidf_187', 15)\n",
      "('processed_student_description_tfidf_1321', 14)\n",
      "('processed_student_description_tfidf_301', 14)\n",
      "('processed_project_description_tfidf_1811', 14)\n",
      "('processed_project_description_tfidf_1660', 14)\n",
      "('processed_project_description_tfidf_1584', 14)\n",
      "('processed_project_description_tfidf_1377', 14)\n",
      "('processed_project_description_tfidf_1137', 14)\n",
      "('project_grade_category', 14)\n",
      "('processed_student_description_tfidf_2469', 13)\n",
      "('processed_student_description_tfidf_2172', 13)\n",
      "Fold 1/5\n",
      "Training until validation scores don't improve for 100 rounds.\n",
      "[10]\ttraining's auc: 0.856282\tvalid_1's auc: 0.643181\n",
      "[20]\ttraining's auc: 0.882927\tvalid_1's auc: 0.654237\n",
      "[30]\ttraining's auc: 0.901118\tvalid_1's auc: 0.664534\n",
      "[40]\ttraining's auc: 0.911744\tvalid_1's auc: 0.666281\n",
      "[50]\ttraining's auc: 0.921518\tvalid_1's auc: 0.665673\n",
      "[60]\ttraining's auc: 0.929572\tvalid_1's auc: 0.667883\n",
      "[70]\ttraining's auc: 0.938878\tvalid_1's auc: 0.665776\n",
      "[80]\ttraining's auc: 0.951946\tvalid_1's auc: 0.672498\n",
      "[90]\ttraining's auc: 0.961074\tvalid_1's auc: 0.681422\n",
      "[100]\ttraining's auc: 0.969219\tvalid_1's auc: 0.690268\n",
      "[110]\ttraining's auc: 0.976696\tvalid_1's auc: 0.692683\n",
      "[120]\ttraining's auc: 0.981983\tvalid_1's auc: 0.695877\n",
      "[130]\ttraining's auc: 0.985317\tvalid_1's auc: 0.704706\n",
      "[140]\ttraining's auc: 0.988694\tvalid_1's auc: 0.701751\n",
      "[150]\ttraining's auc: 0.99107\tvalid_1's auc: 0.704963\n",
      "[160]\ttraining's auc: 0.993644\tvalid_1's auc: 0.707146\n",
      "[170]\ttraining's auc: 0.995123\tvalid_1's auc: 0.709647\n",
      "[180]\ttraining's auc: 0.996265\tvalid_1's auc: 0.709073\n",
      "[190]\ttraining's auc: 0.997182\tvalid_1's auc: 0.711248\n",
      "[200]\ttraining's auc: 0.997778\tvalid_1's auc: 0.711445\n",
      "[210]\ttraining's auc: 0.998494\tvalid_1's auc: 0.712481\n",
      "[220]\ttraining's auc: 0.998875\tvalid_1's auc: 0.713732\n",
      "[230]\ttraining's auc: 0.999143\tvalid_1's auc: 0.715461\n",
      "[240]\ttraining's auc: 0.999362\tvalid_1's auc: 0.714982\n",
      "[250]\ttraining's auc: 0.999535\tvalid_1's auc: 0.715436\n",
      "[260]\ttraining's auc: 0.999684\tvalid_1's auc: 0.714656\n",
      "[270]\ttraining's auc: 0.999782\tvalid_1's auc: 0.716352\n",
      "[280]\ttraining's auc: 0.999835\tvalid_1's auc: 0.714699\n",
      "[290]\ttraining's auc: 0.999886\tvalid_1's auc: 0.714408\n",
      "[300]\ttraining's auc: 0.999915\tvalid_1's auc: 0.71535\n",
      "[310]\ttraining's auc: 0.999933\tvalid_1's auc: 0.717046\n",
      "[320]\ttraining's auc: 0.999956\tvalid_1's auc: 0.71869\n",
      "[330]\ttraining's auc: 0.999974\tvalid_1's auc: 0.717328\n",
      "[340]\ttraining's auc: 0.999981\tvalid_1's auc: 0.714537\n",
      "[350]\ttraining's auc: 0.999984\tvalid_1's auc: 0.714699\n",
      "[360]\ttraining's auc: 0.999988\tvalid_1's auc: 0.715042\n",
      "[370]\ttraining's auc: 0.999993\tvalid_1's auc: 0.716249\n",
      "[380]\ttraining's auc: 0.999997\tvalid_1's auc: 0.714451\n",
      "[390]\ttraining's auc: 0.999999\tvalid_1's auc: 0.714828\n",
      "[400]\ttraining's auc: 1\tvalid_1's auc: 0.716446\n",
      "[410]\ttraining's auc: 1\tvalid_1's auc: 0.717542\n",
      "[420]\ttraining's auc: 1\tvalid_1's auc: 0.719041\n",
      "[430]\ttraining's auc: 1\tvalid_1's auc: 0.718347\n",
      "[440]\ttraining's auc: 1\tvalid_1's auc: 0.718733\n",
      "[450]\ttraining's auc: 1\tvalid_1's auc: 0.716986\n",
      "[460]\ttraining's auc: 1\tvalid_1's auc: 0.715196\n",
      "[470]\ttraining's auc: 1\tvalid_1's auc: 0.716446\n",
      "[480]\ttraining's auc: 1\tvalid_1's auc: 0.71541\n",
      "[490]\ttraining's auc: 1\tvalid_1's auc: 0.715718\n",
      "Early stopping, best iteration is:\n",
      "[395]\ttraining's auc: 1\tvalid_1's auc: 0.716155\n",
      "Important features:\n",
      "('total_cost', 339)\n",
      "('mean_cost', 304)\n",
      "('teacher_id', 193)\n",
      "('teacher_number_of_previously_posted_projects', 182)\n",
      "('processed_student_description_tfidf_1982', 160)\n",
      "('processed_project_resource_summary_tfidf_236', 160)\n",
      "('total_quantity', 154)\n",
      "('project_subject_categories', 119)\n",
      "('school_state', 114)\n",
      "('processed_project_description_tfidf_1066', 110)\n",
      "('processed_student_description_tfidf_1325', 105)\n",
      "('processed_student_description_tfidf_1413', 102)\n",
      "('datetime_month', 100)\n",
      "('processed_project_description_tfidf_396', 97)\n",
      "('processed_project_description_tfidf_28', 88)\n",
      "('processed_project_description_tfidf_1280', 86)\n",
      "('processed_student_description_tfidf_1321', 85)\n",
      "('processed_student_description_tfidf_440', 82)\n",
      "('processed_project_description_tfidf_1983', 82)\n",
      "('processed_project_description_tfidf_1386', 79)\n",
      "('processed_project_description_tfidf_92', 77)\n",
      "('processed_project_description_tfidf_103', 74)\n",
      "('processed_student_description_tfidf_468', 71)\n",
      "('processed_project_description_tfidf_1504', 71)\n",
      "('processed_project_description_tfidf_261', 70)\n",
      "('processed_project_description_tfidf_2382', 69)\n",
      "('processed_student_description_tfidf_582', 65)\n",
      "('processed_project_description_tfidf_1276', 64)\n",
      "('processed_student_description_tfidf_1180', 63)\n",
      "('processed_project_description_tfidf_1811', 59)\n",
      "('processed_project_description_tfidf_1365', 58)\n",
      "('processed_project_description_tfidf_2383', 57)\n",
      "('processed_project_description_tfidf_1855', 55)\n",
      "('processed_project_description_tfidf_535', 55)\n",
      "('processed_project_description_tfidf_2308', 53)\n",
      "('processed_project_description_tfidf_2474', 52)\n",
      "('processed_project_description_tfidf_1799', 50)\n",
      "('processed_student_description_tfidf_812', 49)\n",
      "('processed_student_description_tfidf_1384', 47)\n",
      "('processed_project_description_tfidf_2225', 47)\n",
      "('processed_project_description_tfidf_2080', 46)\n",
      "('processed_student_description_tfidf_826', 45)\n",
      "('processed_project_description_tfidf_2423', 44)\n",
      "('processed_project_description_tfidf_2487', 43)\n",
      "('processed_project_description_tfidf_1137', 43)\n",
      "('processed_student_description_tfidf_1404', 42)\n",
      "('processed_student_description_tfidf_1092', 41)\n",
      "('processed_project_description_tfidf_2271', 41)\n",
      "('processed_project_description_tfidf_957', 41)\n",
      "('processed_student_description_tfidf_553', 40)\n",
      "('processed_project_description_tfidf_2260', 39)\n",
      "('processed_project_description_tfidf_56', 39)\n",
      "('processed_student_description_tfidf_436', 38)\n",
      "('processed_project_description_tfidf_1343', 38)\n",
      "('processed_student_description_tfidf_1724', 37)\n",
      "('processed_student_description_tfidf_892', 36)\n",
      "('processed_student_description_tfidf_719', 36)\n",
      "('processed_student_description_tfidf_161', 36)\n",
      "('processed_project_description_tfidf_2107', 36)\n",
      "('processed_project_description_tfidf_1377', 36)\n",
      "Fold 1/5\n"
     ]
    },
    {
     "name": "stdout",
     "output_type": "stream",
     "text": [
      "Training until validation scores don't improve for 100 rounds.\n",
      "[10]\ttraining's auc: 0.859096\tvalid_1's auc: 0.633427\n",
      "[20]\ttraining's auc: 0.894185\tvalid_1's auc: 0.624954\n",
      "[30]\ttraining's auc: 0.913609\tvalid_1's auc: 0.634069\n",
      "[40]\ttraining's auc: 0.929638\tvalid_1's auc: 0.642123\n",
      "[50]\ttraining's auc: 0.938863\tvalid_1's auc: 0.636613\n",
      "[60]\ttraining's auc: 0.948437\tvalid_1's auc: 0.64098\n",
      "[70]\ttraining's auc: 0.953015\tvalid_1's auc: 0.64578\n",
      "[80]\ttraining's auc: 0.962511\tvalid_1's auc: 0.639241\n",
      "[90]\ttraining's auc: 0.969996\tvalid_1's auc: 0.64559\n",
      "[100]\ttraining's auc: 0.976122\tvalid_1's auc: 0.648097\n",
      "[110]\ttraining's auc: 0.981385\tvalid_1's auc: 0.646479\n",
      "[120]\ttraining's auc: 0.986122\tvalid_1's auc: 0.650914\n",
      "[130]\ttraining's auc: 0.990099\tvalid_1's auc: 0.650413\n",
      "[140]\ttraining's auc: 0.993029\tvalid_1's auc: 0.65257\n",
      "[150]\ttraining's auc: 0.994878\tvalid_1's auc: 0.652935\n",
      "[160]\ttraining's auc: 0.99623\tvalid_1's auc: 0.653633\n",
      "[170]\ttraining's auc: 0.997288\tvalid_1's auc: 0.65437\n",
      "[180]\ttraining's auc: 0.99804\tvalid_1's auc: 0.658016\n",
      "[190]\ttraining's auc: 0.998554\tvalid_1's auc: 0.658441\n",
      "[200]\ttraining's auc: 0.999125\tvalid_1's auc: 0.659694\n",
      "[210]\ttraining's auc: 0.999448\tvalid_1's auc: 0.657864\n",
      "[220]\ttraining's auc: 0.999611\tvalid_1's auc: 0.658631\n",
      "[230]\ttraining's auc: 0.999738\tvalid_1's auc: 0.659125\n",
      "[240]\ttraining's auc: 0.999817\tvalid_1's auc: 0.658342\n",
      "[250]\ttraining's auc: 0.999885\tvalid_1's auc: 0.662345\n",
      "[260]\ttraining's auc: 0.999933\tvalid_1's auc: 0.663325\n",
      "[270]\ttraining's auc: 0.999957\tvalid_1's auc: 0.663697\n",
      "[280]\ttraining's auc: 0.999972\tvalid_1's auc: 0.664396\n",
      "[290]\ttraining's auc: 0.999983\tvalid_1's auc: 0.667662\n",
      "[300]\ttraining's auc: 0.999989\tvalid_1's auc: 0.668558\n",
      "[310]\ttraining's auc: 0.999991\tvalid_1's auc: 0.668884\n",
      "[320]\ttraining's auc: 0.999997\tvalid_1's auc: 0.6695\n",
      "[330]\ttraining's auc: 0.999997\tvalid_1's auc: 0.667016\n",
      "[340]\ttraining's auc: 0.999998\tvalid_1's auc: 0.666074\n",
      "[350]\ttraining's auc: 0.999999\tvalid_1's auc: 0.666841\n",
      "[360]\ttraining's auc: 1\tvalid_1's auc: 0.666089\n",
      "[370]\ttraining's auc: 1\tvalid_1's auc: 0.667039\n",
      "[380]\ttraining's auc: 1\tvalid_1's auc: 0.666773\n",
      "[390]\ttraining's auc: 1\tvalid_1's auc: 0.667251\n",
      "[400]\ttraining's auc: 1\tvalid_1's auc: 0.668254\n",
      "[410]\ttraining's auc: 1\tvalid_1's auc: 0.669074\n",
      "[420]\ttraining's auc: 1\tvalid_1's auc: 0.66852\n",
      "[430]\ttraining's auc: 1\tvalid_1's auc: 0.670441\n",
      "[440]\ttraining's auc: 1\tvalid_1's auc: 0.670335\n",
      "[450]\ttraining's auc: 1\tvalid_1's auc: 0.670707\n",
      "Early stopping, best iteration is:\n",
      "[353]\ttraining's auc: 1\tvalid_1's auc: 0.666013\n",
      "Important features:\n",
      "('mean_cost', 288)\n",
      "('total_cost', 268)\n",
      "('teacher_number_of_previously_posted_projects', 155)\n",
      "('teacher_id', 154)\n",
      "('total_quantity', 137)\n",
      "('processed_project_resource_summary_tfidf_236', 124)\n",
      "('processed_student_description_tfidf_1982', 122)\n",
      "('processed_project_description_tfidf_1983', 110)\n",
      "('processed_project_description_tfidf_1066', 92)\n",
      "('school_state', 92)\n",
      "('processed_student_description_tfidf_440', 84)\n",
      "('processed_project_description_tfidf_1280', 82)\n",
      "('project_subject_categories', 81)\n",
      "('processed_student_description_tfidf_1413', 79)\n",
      "('processed_student_description_tfidf_468', 78)\n",
      "('processed_student_description_tfidf_1325', 76)\n",
      "('processed_project_description_tfidf_2474', 72)\n",
      "('processed_project_description_tfidf_396', 66)\n",
      "('processed_project_description_tfidf_1504', 65)\n",
      "('datetime_month', 65)\n",
      "('processed_project_description_tfidf_1386', 62)\n",
      "('processed_project_description_tfidf_28', 62)\n",
      "('processed_project_description_tfidf_2382', 60)\n",
      "('processed_student_description_tfidf_1321', 59)\n",
      "('processed_project_description_tfidf_2308', 55)\n",
      "('processed_project_description_tfidf_2225', 55)\n",
      "('processed_project_description_tfidf_1276', 54)\n",
      "('processed_student_description_tfidf_2469', 52)\n",
      "('processed_project_description_tfidf_1850', 52)\n",
      "('processed_project_description_tfidf_103', 52)\n",
      "('processed_project_description_tfidf_56', 50)\n",
      "('processed_student_description_tfidf_1503', 49)\n",
      "('processed_project_description_tfidf_2383', 49)\n",
      "('processed_project_description_tfidf_2487', 48)\n",
      "('processed_project_description_tfidf_1377', 48)\n",
      "('processed_project_description_tfidf_535', 45)\n",
      "('processed_project_description_tfidf_2445', 44)\n",
      "('processed_project_description_tfidf_1855', 43)\n",
      "('processed_project_description_tfidf_261', 43)\n",
      "('processed_student_description_tfidf_1866', 42)\n",
      "('processed_student_description_tfidf_1417', 41)\n",
      "('processed_student_description_tfidf_1003', 41)\n",
      "('processed_student_description_tfidf_582', 41)\n",
      "('processed_project_description_tfidf_2271', 41)\n",
      "('processed_student_description_tfidf_812', 40)\n",
      "('processed_project_description_tfidf_92', 40)\n",
      "('processed_student_description_tfidf_1180', 39)\n",
      "('processed_project_description_tfidf_1799', 39)\n",
      "('processed_student_description_tfidf_1067', 38)\n",
      "('processed_student_description_tfidf_436', 38)\n",
      "('processed_project_description_tfidf_1811', 38)\n",
      "('processed_project_description_tfidf_1365', 38)\n",
      "('processed_project_description_tfidf_1137', 37)\n",
      "('processed_project_resource_summary_tfidf_313', 37)\n",
      "('processed_student_description_tfidf_2494', 36)\n",
      "('processed_student_description_tfidf_1928', 36)\n",
      "('processed_project_description_tfidf_1480', 36)\n",
      "('processed_project_description_tfidf_392', 36)\n",
      "('processed_student_description_tfidf_973', 35)\n",
      "('processed_project_description_tfidf_2395', 35)\n"
     ]
    },
    {
     "data": {
      "text/plain": [
       "<function gc.collect>"
      ]
     },
     "execution_count": 39,
     "metadata": {},
     "output_type": "execute_result"
    }
   ],
   "source": [
    "# Build the model\n",
    "cnt = 0\n",
    "p_buf = []\n",
    "n_splits = 5\n",
    "n_repeats = 1\n",
    "kf = RepeatedKFold(\n",
    "    n_splits=n_splits, \n",
    "    n_repeats=n_repeats, \n",
    "    random_state=42)\n",
    "auc_buf = []   \n",
    "\n",
    "for train_index, valid_index in kf.split(X):\n",
    "    print('Fold {}/{}'.format(cnt + 1, n_splits))\n",
    "    params = {\n",
    "        'boosting_type': 'gbdt',\n",
    "        'objective': 'binary',\n",
    "        'metric': 'auc',\n",
    "        'max_depth': 14,\n",
    "        'num_leaves': 31,\n",
    "        'learning_rate': 0.025,\n",
    "        'feature_fraction': 0.85,\n",
    "        'bagging_fraction': 0.85,\n",
    "        'bagging_freq': 5,\n",
    "        'verbose': 0,\n",
    "        'num_threads': 1,\n",
    "        'lambda_l2': 1.0,\n",
    "        'min_gain_to_split': 0,\n",
    "    }  \n",
    "\n",
    "    lgb_train = lgb.Dataset(\n",
    "        X.loc[train_index], \n",
    "        y.loc[train_index], \n",
    "        feature_name=feature_names,\n",
    "        )\n",
    "    lgb_train.raw_data = None\n",
    "\n",
    "    lgb_valid = lgb.Dataset(\n",
    "        X.loc[valid_index], \n",
    "        y.loc[valid_index],\n",
    "        )\n",
    "    lgb_valid.raw_data = None\n",
    "\n",
    "    model = lgb.train(\n",
    "        params,\n",
    "        lgb_train,\n",
    "        num_boost_round=10000,\n",
    "        valid_sets=[lgb_train, lgb_valid],\n",
    "        early_stopping_rounds=100,\n",
    "        verbose_eval=10,\n",
    "    )\n",
    "\n",
    "    if cnt == 0:\n",
    "        importance = model.feature_importance()\n",
    "        model_fnames = model.feature_name()\n",
    "        tuples = sorted(zip(model_fnames, importance), key=lambda x: x[1])[::-1]\n",
    "        tuples = [x for x in tuples if x[1] > 0]\n",
    "        print('Important features:')\n",
    "        for i in range(60):\n",
    "            if i < len(tuples):\n",
    "                print(tuples[i])\n",
    "            else:\n",
    "                break\n",
    "gc.collect"
   ]
  },
  {
   "cell_type": "code",
   "execution_count": 92,
   "metadata": {},
   "outputs": [
    {
     "ename": "TypeError",
     "evalue": "'TfidfVectorizer' object is not subscriptable",
     "output_type": "error",
     "traceback": [
      "\u001b[0;31m-------------------------------------------------------------------\u001b[0m",
      "\u001b[0;31mTypeError\u001b[0m                         Traceback (most recent call last)",
      "\u001b[0;32m<ipython-input-92-76b70c1f91a9>\u001b[0m in \u001b[0;36m<module>\u001b[0;34m()\u001b[0m\n\u001b[1;32m      1\u001b[0m \u001b[0mdoc\u001b[0m \u001b[0;34m=\u001b[0m \u001b[0;36m0\u001b[0m\u001b[0;34m\u001b[0m\u001b[0m\n\u001b[0;32m----> 2\u001b[0;31m \u001b[0mfeature_index\u001b[0m \u001b[0;34m=\u001b[0m \u001b[0mtfidf\u001b[0m\u001b[0;34m[\u001b[0m\u001b[0mdoc\u001b[0m\u001b[0;34m,\u001b[0m\u001b[0;34m:\u001b[0m\u001b[0;34m]\u001b[0m\u001b[0;34m.\u001b[0m\u001b[0mnonzero\u001b[0m\u001b[0;34m(\u001b[0m\u001b[0;34m)\u001b[0m\u001b[0;34m[\u001b[0m\u001b[0;36m1\u001b[0m\u001b[0;34m]\u001b[0m\u001b[0;34m\u001b[0m\u001b[0m\n\u001b[0m\u001b[1;32m      3\u001b[0m \u001b[0mtfidf_scores\u001b[0m \u001b[0;34m=\u001b[0m \u001b[0mzip\u001b[0m\u001b[0;34m(\u001b[0m\u001b[0mfeature_index\u001b[0m\u001b[0;34m,\u001b[0m \u001b[0;34m[\u001b[0m\u001b[0mtfidf_matrix\u001b[0m\u001b[0;34m[\u001b[0m\u001b[0mdoc\u001b[0m\u001b[0;34m,\u001b[0m \u001b[0mx\u001b[0m\u001b[0;34m]\u001b[0m \u001b[0;32mfor\u001b[0m \u001b[0mx\u001b[0m \u001b[0;32min\u001b[0m \u001b[0mfeature_index\u001b[0m\u001b[0;34m]\u001b[0m\u001b[0;34m)\u001b[0m\u001b[0;34m\u001b[0m\u001b[0m\n",
      "\u001b[0;31mTypeError\u001b[0m: 'TfidfVectorizer' object is not subscriptable"
     ]
    }
   ],
   "source": [
    "doc = 0\n",
    "feature_index = tfidf_matrix[doc,:].nonzero()[1]\n",
    "tfidf_scores = zip(feature_index, [tfidf_matrix[doc, x] for x in feature_index])"
   ]
  },
  {
   "cell_type": "code",
   "execution_count": 81,
   "metadata": {},
   "outputs": [
    {
     "name": "stdout",
     "output_type": "stream",
     "text": [
      "{'000': 6.221556305414575, '10': 5.110673924154651, '100': 3.972215726939341, '1000': 7.032486521630903, '10th': 7.032486521630903, '11': 6.116195789756748, '12': 4.953044979951068, '12th': 6.521660897864913, '13': 6.15009734143243, '14': 5.96204510992949, '15': 5.625572873308277, '150': 6.684179827362688, '16': 6.0208856099524235, '17': 6.426350718060588, '18': 5.456950160872484, '180': 6.952443813957367, '19': 6.339339341070958, '1st': 5.160684344729312, '20': 4.807862970106569, '200': 6.472870733695481, '2015': 6.952443813957367, '2016': 6.083405966933757, '2017': 6.809342970316694, '21': 5.906475258774679, '21st': 4.772461043055653, '22': 5.733203537500643, '23': 6.0208856099524235, '24': 5.4398557275131845, '25': 5.0514850527643205, '26': 6.744804449179123, '27': 6.381898955489754, '28': 6.051657268619177, '2nd': 4.853954077306836, '30': 5.186659831132572, '300': 6.744804449179123, '31': 6.878335841803645, '32': 6.952443813957367, '35': 6.684179827362688, '36': 6.952443813957367, '3d': 7.214808078424858, '3rd': 4.9222733212843135, '40': 5.474341903584354, '400': 6.1851886612437, '45': 6.627021413522739, '4th': 4.790005352706563, '50': 5.0747419149285875, '500': 5.906475258774679, '5th': 4.313386484342108, '60': 5.160684344729312, '600': 6.1851886612437, '65': 6.221556305414575, '6th': 4.772461043055653, '70': 5.327738429392478, '700': 6.298517346550703, '75': 5.406519307245593, '7th': 5.147945318951882, '80': 5.08657637257559, '800': 6.259296633397422, '85': 5.803821104714596, '8th': 4.790005352706563, '90': 4.763802980312539, '900': 6.684179827362688, '95': 5.8285137173049675, '97': 6.521660897864913, '98': 5.8285137173049675, '99': 6.1851886612437, '9th': 6.221556305414575, 'abilities': 4.165535037942837, 'ability': 4.209125474017698, 'able': 3.133886536534898, 'absolute': 6.952443813957367, 'absolutely': 5.756193055725341, 'absorb': 6.472870733695481, 'abundance': 7.032486521630903, 'academic': 3.3646604767147994, 'academically': 4.612118392980474, 'academics': 4.612118392980474, 'academy': 6.15009734143243, 'accept': 6.572954192252463, 'acceptance': 6.809342970316694, 'accepted': 6.472870733695481, 'accepting': 6.684179827362688, 'access': 3.622990337154053, 'accessible': 6.298517346550703, 'accommodate': 6.627021413522739, 'accommodations': 6.627021413522739, 'accomplish': 5.667245569708845, 'accomplished': 6.744804449179123, 'accomplishment': 6.952443813957367, 'accomplishments': 6.952443813957367, 'according': 6.426350718060588, 'achieve': 4.1846743781535345, 'achievement': 4.873002272277531, 'achievements': 6.809342970316694, 'achievers': 6.952443813957367, 'achieving': 5.547101257866782, 'acquire': 5.991032646802743, 'acquiring': 6.878335841803645, 'across': 5.297885466242797, 'act': 6.15009734143243, 'active': 3.8036603659095345, 'actively': 5.456950160872484, 'activities': 3.474760337736522, 'activity': 4.9635162798183625, 'actually': 6.298517346550703, 'adapt': 6.572954192252463, 'add': 5.4920414806837545, 'added': 6.744804449179123, 'adding': 6.878335841803645, 'addition': 4.984793678265648, 'additional': 4.9635162798183625, 'additionally': 6.381898955489754, 'address': 7.1194978986205335, 'adequate': 6.426350718060588, 'adhd': 5.667245569708845, 'administration': 6.1851886612437, 'adopted': 6.952443813957367, 'adorable': 6.952443813957367, 'adult': 6.15009734143243, 'adults': 5.0065336649020535, 'advance': 6.572954192252463, 'advanced': 5.625572873308277, 'advantage': 6.259296633397422, 'adventure': 5.803821104714596, 'adventures': 6.116195789756748, 'adventurous': 6.878335841803645, 'adversity': 6.298517346550703, 'advocate': 6.952443813957367, 'affect': 6.1851886612437, 'affected': 6.952443813957367, 'affluent': 6.381898955489754, 'afford': 5.312700552027938, 'afforded': 6.952443813957367, 'afraid': 7.032486521630903, 'african': 4.649858720963321, 'afternoon': 6.627021413522739, 'age': 4.254702982514019, 'aged': 6.952443813957367, 'ages': 5.3902587863738125, 'ago': 6.116195789756748, 'agricultural': 7.1194978986205335, 'ahead': 5.268897929369545, 'aid': 6.684179827362688, 'aids': 6.952443813957367, 'aim': 6.259296633397422, 'air': 6.381898955489754, 'alabama': 7.032486521630903, 'albert': 6.809342970316694, 'algebra': 6.472870733695481, 'alive': 6.572954192252463, 'allow': 4.160806896746891, 'allowed': 6.259296633397422, 'allowing': 5.8285137173049675, 'allows': 5.028756801686764, 'almost': 4.8445643369569975, 'alone': 6.051657268619177, 'along': 4.984793678265648, 'alongside': 6.744804449179123, 'aloud': 6.878335841803645, 'alphabet': 6.878335841803645, 'already': 5.098552563622306, 'also': 3.073261914718463, 'alternative': 5.667245569708845, 'although': 4.582919238288212, 'always': 3.2520919586811936, 'amaze': 5.853831525289257, 'amazed': 6.627021413522739, 'amazing': 3.2258240318605838, 'amazingly': 6.684179827362688, 'ambitious': 6.339339341070958, 'america': 6.15009734143243, 'american': 4.442219356185077, 'americans': 6.259296633397422, 'among': 5.756193055725341, 'amount': 5.406519307245593, 'analyze': 6.952443813957367, 'angeles': 5.688751774929809, 'animals': 7.1194978986205335, 'another': 4.2392785121883865, 'answer': 6.339339341070958, 'answers': 6.472870733695481, 'anxiety': 6.684179827362688, 'anxious': 6.684179827362688, 'anyone': 6.221556305414575, 'anything': 4.540659428998329, 'anywhere': 6.809342970316694, 'ap': 6.472870733695481, 'apart': 6.744804449179123, 'apartments': 6.684179827362688, 'application': 6.684179827362688, 'applications': 6.809342970316694, 'apply': 5.688751774929809, 'applying': 7.1194978986205335, 'appreciate': 5.358510088059232, 'appreciated': 6.259296633397422, 'appreciation': 6.684179827362688, 'appreciative': 6.878335841803645, 'approach': 5.406519307245593, 'approaches': 6.684179827362688, 'appropriate': 5.3902587863738125, 'approximately': 4.7133721266856465, 'apps': 6.221556305414575, 'arabic': 6.809342970316694, 'area': 3.2276776005099066, 'areas': 4.3412434388450745, 'arizona': 7.032486521630903, 'around': 3.4466554434164136, 'array': 6.521660897864913, 'arrive': 5.688751774929809, 'arrived': 6.684179827362688, 'art': 4.335609621126819, 'artist': 7.214808078424858, 'artistic': 6.083405966933757, 'artists': 5.779723553135535, 'arts': 4.307907018577483, 'asian': 5.566149452837476, 'ask': 4.665362907499286, 'asked': 5.991032646802743, 'asking': 5.4398557275131845, 'aspect': 6.684179827362688, 'aspects': 6.051657268619177, 'aspirations': 6.952443813957367, 'aspire': 6.744804449179123, 'assessment': 6.878335841803645, 'assigned': 6.952443813957367, 'assignments': 5.756193055725341, 'assist': 5.625572873308277, 'assistance': 5.646192160511013, 'athletes': 6.1851886612437, 'athletic': 6.572954192252463, 'atlanta': 6.684179827362688, 'atmosphere': 5.710730681648584, 'attend': 3.918971212420529, 'attendance': 6.051657268619177, 'attended': 6.381898955489754, 'attending': 5.625572873308277, 'attention': 4.568633281040736, 'attentive': 7.032486521630903, 'attitude': 5.646192160511013, 'attitudes': 6.083405966933757, 'auditory': 7.1194978986205335, 'august': 6.627021413522739, 'authentic': 6.744804449179123, 'author': 7.032486521630903, 'authors': 7.032486521630903, 'autism': 4.35260719749539, 'autistic': 6.381898955489754, 'available': 4.6270440431971505, 'average': 5.625572873308277, 'avid': 6.298517346550703, 'aware': 6.426350718060588, 'awareness': 6.744804449179123, 'away': 5.160684344729312, 'awesome': 5.017583501088638, 'babies': 6.684179827362688, 'baccalaureate': 6.521660897864913, 'back': 4.721602625822163, 'background': 4.493512650572628, 'backgrounds': 2.840309710171768, 'backpack': 5.906475258774679, 'backpacks': 6.472870733695481, 'bad': 6.878335841803645, 'bag': 7.214808078424858, 'bags': 6.952443813957367, 'balance': 7.032486521630903, 'ball': 6.521660897864913, 'balls': 6.259296633397422, 'baltimore': 6.744804449179123, 'band': 5.96204510992949, 'barely': 6.627021413522739, 'barrier': 6.472870733695481, 'barriers': 5.646192160511013, 'base': 5.8285137173049675, 'baseball': 7.320168594082684, 'based': 3.95287276409621, 'basic': 4.375729614916244, 'basics': 6.221556305414575, 'basis': 4.500113334603979, 'basketball': 6.472870733695481, 'bay': 6.744804449179123, 'beautiful': 5.297885466242797, 'become': 3.54104226212097, 'becomes': 6.339339341070958, 'becoming': 5.135366536745022, 'began': 7.1194978986205335, 'begin': 4.995604594369864, 'beginning': 4.902272654577644, 'begins': 6.259296633397422, 'behavior': 5.406519307245593, 'behavioral': 5.625572873308277, 'behaviors': 6.472870733695481, 'behind': 5.098552563622306, 'belief': 6.952443813957367, 'believe': 4.0924431539375, 'believes': 6.627021413522739, 'believing': 7.214808078424858, 'belong': 6.684179827362688, 'beneficial': 6.472870733695481, 'benefit': 4.533786549710568, 'benefits': 6.521660897864913, 'best': 2.6941070490632164, 'better': 3.742841625874495, 'beyond': 4.435988806434441, 'big': 4.448488969198673, 'bigger': 6.521660897864913, 'biggest': 5.52840912485463, 'bilingual': 4.995604594369864, 'biology': 6.809342970316694, 'bit': 5.96204510992949, 'black': 6.15009734143243, 'blended': 6.952443813957367, 'blessed': 5.3430059015232665, 'block': 6.684179827362688, 'blocks': 6.627021413522739, 'blue': 6.878335841803645, 'board': 6.298517346550703, 'bodies': 5.510059986186433, 'body': 4.892420358134633, 'book': 4.6270440431971505, 'books': 3.758491397541623, 'boost': 6.878335841803645, 'border': 6.878335841803645, 'boring': 6.744804449179123, 'born': 6.339339341070958, 'boston': 6.809342970316694, 'bound': 6.381898955489754, 'boundaries': 7.032486521630903, 'bounds': 6.952443813957367, 'box': 5.879807011692518, 'boys': 5.0514850527643205, 'brain': 5.779723553135535, 'brains': 5.733203537500643, 'brand': 5.879807011692518, 'break': 5.756193055725341, 'breakfast': 3.4700209923726257, 'breaks': 5.667245569708845, 'bridge': 6.116195789756748, 'bright': 4.137495817878444, 'brighter': 6.952443813957367, 'brightest': 6.878335841803645, 'brilliant': 6.1851886612437, 'bring': 4.096858172146618, 'bringing': 6.1851886612437, 'brings': 5.96204510992949, 'broaden': 7.032486521630903, 'broken': 5.566149452837476, 'bronx': 6.083405966933757, 'brooklyn': 6.051657268619177, 'brought': 6.572954192252463, 'budding': 7.032486521630903, 'budget': 4.953044979951068, 'budgets': 6.744804449179123, 'build': 4.364101576921125, 'building': 4.2140882633598284, 'builds': 6.744804449179123, 'built': 5.991032646802743, 'bunch': 5.17358774956522, 'bus': 5.96204510992949, 'business': 6.684179827362688, 'busy': 5.625572873308277, 'buy': 6.15009734143243, 'ca': 6.952443813957367, 'california': 5.240727052402848, 'call': 5.779723553135535, 'called': 6.298517346550703, 'calm': 6.744804449179123, 'came': 6.0208856099524235, 'campus': 5.213328078214734, 'can': 4.705208816046486, 'cannot': 4.882664183189268, 'capable': 5.186659831132572, 'capacity': 6.627021413522739, 'care': 4.448488969198673, 'cared': 6.472870733695481, 'career': 4.892420358134633, 'careers': 6.116195789756748, 'cares': 6.878335841803645, 'caring': 4.561566113817642, 'carolina': 5.406519307245593, 'carpet': 6.878335841803645, 'carry': 6.472870733695481, 'cart': 7.1194978986205335, 'cases': 6.684179827362688, 'catch': 6.381898955489754, 'caucasian': 6.1851886612437, 'cause': 6.744804449179123, 'causes': 6.878335841803645, 'celebrate': 5.779723553135535, 'center': 5.199905057882593, 'centered': 5.779723553135535, 'centers': 5.254713294377588, 'central': 5.991032646802743, 'century': 4.673206084960313, 'certain': 6.426350718060588, 'certainly': 5.474341903584354, 'certified': 6.878335841803645, 'chair': 6.0208856099524235, 'chairs': 5.423048609196803, 'challenge': 3.871946273775666, 'challenged': 5.017583501088638, 'challenges': 2.974921210912099, 'challenging': 4.358337872204375, 'chance': 4.486955250026469, 'chances': 6.744804449179123, 'change': 4.657580767057231, 'changed': 6.627021413522739, 'changes': 6.572954192252463, 'changing': 5.17358774956522, 'chapter': 6.572954192252463, 'character': 5.605370165990758, 'characteristics': 6.952443813957367, 'charge': 6.339339341070958, 'charismatic': 6.744804449179123, 'charter': 4.882664183189268, 'check': 6.521660897864913, 'cheer': 7.032486521630903, 'chicago': 5.646192160511013, 'child': 3.8338134040802223, 'childhood': 5.803821104714596, 'children': 2.8377939855745207, 'china': 7.032486521630903, 'chinese': 6.472870733695481, 'choice': 5.510059986186433, 'choices': 5.710730681648584, 'choir': 6.952443813957367, 'choose': 4.86343282126138, 'choosing': 7.032486521630903, 'chose': 7.032486521630903, 'chosen': 6.521660897864913, 'chromebook': 6.809342970316694, 'chromebooks': 5.96204510992949, 'circumstances': 5.268897929369545, 'cities': 6.221556305414575, 'citizens': 5.110673924154651, 'citizenship': 7.032486521630903, 'city': 3.593137374004372, 'class': 2.4331667493209874, 'classes': 4.012061635486541, 'classified': 6.15009734143243, 'classmates': 5.688751774929809, 'classroom': 1.8418471688810554, 'classrooms': 4.513446865473444, 'clean': 7.032486521630903, 'clear': 6.809342970316694, 'clever': 6.051657268619177, 'close': 4.873002272277531, 'closer': 6.684179827362688, 'clothes': 6.426350718060588, 'clothing': 6.381898955489754, 'club': 5.733203537500643, 'clubs': 6.627021413522739, 'co': 6.083405966933757, 'coach': 6.426350718060588, 'code': 6.809342970316694, 'coding': 6.381898955489754, 'cognitive': 5.803821104714596, 'collaborate': 5.646192160511013, 'collaborating': 6.809342970316694, 'collaboration': 5.566149452837476, 'collaborative': 5.566149452837476, 'collaboratively': 6.259296633397422, 'collection': 6.952443813957367, 'college': 4.045122497747429, 'color': 6.221556305414575, 'colorful': 6.339339341070958, 'colors': 6.952443813957367, 'combination': 6.339339341070958, 'combined': 6.684179827362688, 'come': 1.87726999872354, 'comes': 4.634591248832533, 'comfort': 6.809342970316694, 'comfortable': 4.590139486261699, 'coming': 3.9152743505392027, 'commitment': 6.521660897864913, 'committed': 5.625572873308277, 'common': 4.297037346340579, 'communicate': 5.605370165990758, 'communicating': 6.809342970316694, 'communication': 5.3430059015232665, 'communities': 5.358510088059232, 'community': 2.7386082737337265, 'compared': 6.339339341070958, 'compassion': 6.472870733695481, 'compassionate': 5.96204510992949, 'compete': 6.339339341070958, 'competitive': 6.339339341070958, 'complete': 5.08657637257559, 'completed': 6.878335841803645, 'completely': 6.298517346550703, 'completing': 6.381898955489754, 'complex': 6.221556305414575, 'composed': 6.381898955489754, 'comprehend': 7.032486521630903, 'comprehension': 5.688751774929809, 'comprised': 5.4398557275131845, 'computer': 4.790005352706563, 'computers': 4.835261944294684, 'concentrate': 7.1194978986205335, 'concentration': 6.878335841803645, 'concept': 6.381898955489754, 'concepts': 4.582919238288212, 'conditions': 6.298517346550703, 'conducive': 6.572954192252463, 'conduct': 6.952443813957367, 'confidence': 5.268897929369545, 'confident': 6.259296633397422, 'connect': 6.051657268619177, 'connected': 6.684179827362688, 'connection': 6.1851886612437, 'connections': 5.733203537500643, 'consider': 5.733203537500643, 'considered': 5.0065336649020535, 'considering': 6.952443813957367, 'consist': 6.1851886612437, 'consistency': 6.627021413522739, 'consistent': 6.744804449179123, 'consistently': 6.221556305414575, 'consists': 4.7382696783073746, 'constant': 5.803821104714596, 'constantly': 4.568633281040736, 'construction': 7.214808078424858, 'contagious': 6.116195789756748, 'contained': 5.625572873308277, 'content': 5.135366536745022, 'continually': 6.221556305414575, 'continue': 3.9959322535566573, 'continues': 6.472870733695481, 'continuous': 7.032486521630903, 'continuously': 6.684179827362688, 'contribute': 6.298517346550703, 'contributing': 6.627021413522739, 'control': 5.028756801686764, 'conversations': 6.521660897864913, 'cooking': 6.878335841803645, 'cool': 6.744804449179123, 'cooperation': 7.032486521630903, 'cooperative': 6.15009734143243, 'core': 4.932425692748332, 'cost': 6.426350718060588, 'could': 4.597412245590778, 'count': 6.878335841803645, 'countries': 5.147945318951882, 'country': 4.912222985430812, 'county': 5.240727052402848, 'couple': 6.572954192252463, 'course': 5.4398557275131845, 'courses': 6.381898955489754, 'cover': 6.878335841803645, 'crave': 6.0208856099524235, 'create': 3.546131331628441, 'created': 5.456950160872484, 'creates': 6.221556305414575, 'creating': 4.568633281040736, 'creative': 3.2987930517271744, 'creatively': 6.878335841803645, 'creativity': 4.657580767057231, 'creators': 6.952443813957367, 'credit': 6.684179827362688, 'crime': 5.853831525289257, 'critical': 4.816912805626488, 'critically': 6.744804449179123, 'cross': 6.809342970316694, 'crucial': 6.15009734143243, 'cultivate': 6.952443813957367, 'cultural': 4.798894300123809, 'culturally': 5.312700552027938, 'culture': 4.984793678265648, 'cultures': 4.500113334603979, 'curiosity': 4.7382696783073746, 'curious': 3.9226817918170647, 'current': 5.226933730270512, 'currently': 4.500113334603979, 'curricular': 6.878335841803645, 'curriculum': 4.324436320528694, 'cut': 6.627021413522739, 'cuts': 5.688751774929809, 'daily': 3.4420471403302195, 'dance': 5.566149452837476, 'dancing': 6.426350718060588, 'dangerous': 6.952443813957367, 'data': 6.298517346550703, 'date': 6.627021413522739, 'day': 2.214223120182104, 'days': 4.953044979951068, 'deaf': 6.878335841803645, 'deal': 5.733203537500643, 'dealing': 6.521660897864913, 'decided': 6.744804449179123, 'decisions': 7.032486521630903, 'dedicated': 4.86343282126138, 'dedication': 6.051657268619177, 'deep': 5.991032646802743, 'deeper': 6.426350718060588, 'deeply': 6.744804449179123, 'deficits': 6.809342970316694, 'define': 6.298517346550703, 'definitely': 6.0208856099524235, 'degree': 6.381898955489754, 'delayed': 7.1194978986205335, 'delays': 5.906475258774679, 'demands': 6.878335841803645, 'demographic': 6.472870733695481, 'demographics': 5.853831525289257, 'demonstrate': 5.991032646802743, 'department': 6.809342970316694, 'depend': 6.684179827362688, 'describe': 5.646192160511013, 'describes': 6.952443813957367, 'deserve': 4.070655799752593, 'deserves': 6.684179827362688, 'deserving': 5.906475258774679, 'design': 5.933874232962793, 'designated': 6.952443813957367, 'designed': 6.083405966933757, 'desire': 4.270369099258417, 'desires': 6.878335841803645, 'desk': 5.585567538694578, 'desks': 5.646192160511013, 'desperate': 6.952443813957367, 'desperately': 6.809342970316694, 'despite': 3.421568608986679, 'determination': 5.4920414806837545, 'determine': 6.952443813957367, 'determined': 5.0747419149285875, 'detroit': 7.214808078424858, 'develop': 4.42979683618652, 'developed': 6.15009734143243, 'developing': 5.186659831132572, 'development': 5.110673924154651, 'developmental': 5.853831525289257, 'developmentally': 6.426350718060588, 'device': 7.1194978986205335, 'devices': 6.051657268619177, 'diagnosed': 6.051657268619177, 'diagnosis': 7.214808078424858, 'difference': 5.110673924154651, 'differences': 5.3430059015232665, 'different': 2.908043928251523, 'differentiate': 6.339339341070958, 'differentiated': 5.991032646802743, 'differentiation': 6.381898955489754, 'differently': 6.952443813957367, 'difficult': 3.9115911051229064, 'difficulties': 5.688751774929809, 'difficulty': 5.733203537500643, 'dig': 7.032486521630903, 'digital': 5.8285137173049675, 'diligently': 6.952443813957367, 'dinner': 6.521660897864913, 'diploma': 6.627021413522739, 'direct': 6.627021413522739, 'direction': 7.032486521630903, 'directions': 7.032486521630903, 'disabilities': 3.9414440682725873, 'disability': 5.4920414806837545, 'disabled': 6.339339341070958, 'disadvantage': 6.0208856099524235, 'disadvantaged': 4.705208816046486, 'disadvantages': 6.472870733695481, 'discover': 5.297885466242797, 'discoveries': 6.952443813957367, 'discovering': 6.572954192252463, 'discovery': 5.803821104714596, 'discuss': 6.259296633397422, 'discussion': 6.878335841803645, 'discussions': 6.083405966933757, 'disorder': 5.8285137173049675, 'disorders': 6.221556305414575, 'display': 6.627021413522739, 'district': 3.2482968877126424, 'districts': 5.96204510992949, 'disturbance': 6.684179827362688, 'dive': 6.339339341070958, 'diverse': 2.729548189109324, 'diversity': 4.7811947230244085, 'doctors': 6.221556305414575, 'donating': 6.744804449179123, 'donation': 6.298517346550703, 'donations': 5.96204510992949, 'done': 5.646192160511013, 'donors': 5.756193055725341, 'donorschoose': 6.684179827362688, 'door': 4.7299014286368575, 'doors': 5.605370165990758, 'downtown': 6.381898955489754, 'dr': 6.339339341070958, 'drama': 7.032486521630903, 'draw': 6.116195789756748, 'dream': 5.510059986186433, 'dreamers': 6.15009734143243, 'dreams': 4.995604594369864, 'drive': 5.213328078214734, 'driven': 5.510059986186433, 'drug': 7.032486521630903, 'dual': 5.803821104714596, 'due': 4.189517002629323, 'duty': 6.744804449179123, 'dynamic': 5.991032646802743, 'eager': 2.6046503509257275, 'eagerly': 6.952443813957367, 'eagerness': 5.374258445027371, 'earliest': 5.756193055725341, 'early': 4.853954077306836, 'earn': 6.809342970316694, 'easier': 6.221556305414575, 'easily': 5.933874232962793, 'east': 6.1851886612437, 'eastern': 6.627021413522739, 'easy': 5.474341903584354, 'eat': 5.756193055725341, 'eating': 6.684179827362688, 'economic': 3.8338134040802223, 'economical': 6.572954192252463, 'economically': 4.649858720963321, 'economy': 6.572954192252463, 'ed': 6.472870733695481, 'educate': 6.116195789756748, 'educated': 6.952443813957367, 'educating': 7.1194978986205335, 'educational': 4.032596237928249, 'educator': 5.547101257866782, 'educators': 5.879807011692518, 'effective': 6.083405966933757, 'effectively': 6.15009734143243, 'effort': 5.406519307245593, 'efforts': 6.339339341070958, 'eight': 5.605370165990758, 'eighth': 5.991032646802743, 'eighty': 6.744804449179123, 'einstein': 6.744804449179123, 'either': 5.423048609196803, 'el': 6.684179827362688, 'ela': 6.627021413522739, 'electronic': 7.032486521630903, 'elementary': 3.8544326912829576, 'eligible': 5.710730681648584, 'ell': 5.2832866668216445, 'ells': 7.1194978986205335, 'else': 6.083405966933757, 'embrace': 5.688751774929809, 'embraces': 6.952443813957367, 'emotional': 4.411447697518323, 'emotionally': 5.853831525289257, 'emotions': 6.472870733695481, 'empathy': 6.627021413522739, 'emphasis': 6.627021413522739, 'emphasizes': 6.809342970316694, 'employment': 7.032486521630903, 'empower': 6.083405966933757, 'empowered': 6.878335841803645, 'enable': 6.381898955489754, 'encounter': 6.298517346550703, 'encourage': 4.506757877322649, 'encouraged': 5.566149452837476, 'encouragement': 5.933874232962793, 'encourages': 6.083405966933757, 'encouraging': 6.083405966933757, 'end': 4.892420358134633, 'endless': 6.426350718060588, 'ends': 5.8285137173049675, 'endure': 6.878335841803645, 'energetic': 3.673848754387544, 'energized': 7.032486521630903, 'energy': 4.024331728078355, 'engage': 4.533786549710568, 'engaged': 4.040929619487393, 'engagement': 5.733203537500643, 'engaging': 4.175058919454093, 'engineering': 5.098552563622306, 'engineers': 6.051657268619177, 'english': 2.856818021579218, 'enhance': 4.912222985430812, 'enjoy': 3.5385074065177817, 'enjoyable': 6.521660897864913, 'enjoying': 7.032486521630903, 'enormous': 6.809342970316694, 'enough': 4.526960584640167, 'enrich': 6.259296633397422, 'enriching': 6.472870733695481, 'enrichment': 6.259296633397422, 'enrolled': 6.051657268619177, 'enrollment': 6.521660897864913, 'ensure': 4.790005352706563, 'enter': 4.381594734368642, 'entered': 6.809342970316694, 'entering': 6.116195789756748, 'enthusiasm': 4.755219236621148, 'enthusiastic': 4.165535037942837, 'entire': 5.110673924154651, 'environment': 3.0764466307859832, 'environmental': 6.521660897864913, 'environments': 5.733203537500643, 'equal': 6.1851886612437, 'equip': 6.952443813957367, 'equipment': 5.0747419149285875, 'equipped': 6.878335841803645, 'escape': 6.426350718060588, 'ese': 6.878335841803645, 'esl': 5.547101257866782, 'esol': 6.116195789756748, 'especially': 4.7811947230244085, 'essential': 5.3430059015232665, 'esteem': 6.1851886612437, 'etc': 5.803821104714596, 'ethic': 6.878335841803645, 'ethnic': 5.667245569708845, 'ethnically': 6.051657268619177, 'ethnicities': 6.051657268619177, 'ethnicity': 6.472870733695481, 'even': 3.40150104593587, 'events': 5.906475258774679, 'ever': 4.547579871842903, 'every': 2.519797188436977, 'everyday': 3.6651906916444292, 'everyone': 4.7811947230244085, 'everything': 4.110221399958785, 'exactly': 6.744804449179123, 'exam': 7.1194978986205335, 'example': 6.0208856099524235, 'examples': 6.684179827362688, 'exceed': 6.572954192252463, 'excel': 5.226933730270512, 'excellence': 4.995604594369864, 'excellent': 6.083405966933757, 'exceptional': 5.933874232962793, 'excite': 6.952443813957367, 'excited': 2.938141959408803, 'excitement': 4.513446865473444, 'exciting': 4.442219356185077, 'exercise': 5.933874232962793, 'expand': 5.4398557275131845, 'expect': 5.803821104714596, 'expectation': 6.744804449179123, 'expectations': 4.657580767057231, 'expected': 5.688751774929809, 'experience': 3.4170742193988395, 'experienced': 5.3902587863738125, 'experiences': 3.2129443689969226, 'experiencing': 6.221556305414575, 'experiment': 6.744804449179123, 'experiments': 6.0208856099524235, 'exploration': 5.605370165990758, 'explore': 3.72437956303476, 'explorers': 6.684179827362688, 'exploring': 5.456950160872484, 'expose': 5.853831525289257, 'exposed': 5.160684344729312, 'exposure': 5.297885466242797, 'express': 5.186659831132572, 'expressed': 7.032486521630903, 'expression': 6.116195789756748, 'extend': 6.744804449179123, 'extended': 6.116195789756748, 'extra': 4.417526743594705, 'extracurricular': 6.878335841803645, 'extraordinary': 6.952443813957367, 'extras': 6.878335841803645, 'extreme': 6.083405966933757, 'extremely': 4.35260719749539, 'eye': 7.1194978986205335, 'eyed': 6.684179827362688, 'eyes': 5.474341903584354, 'fabulous': 6.221556305414575, 'face': 3.2147741956739986, 'faced': 4.137495817878444, 'faces': 4.665362907499286, 'facilitate': 6.809342970316694, 'facing': 5.756193055725341, 'fact': 5.358510088059232, 'factors': 6.472870733695481, 'facts': 6.878335841803645, 'faculty': 6.572954192252463, 'fail': 6.878335841803645, 'failing': 7.1194978986205335, 'failure': 6.952443813957367, 'fair': 6.809342970316694, 'fall': 5.52840912485463, 'falling': 6.809342970316694, 'familiar': 6.878335841803645, 'families': 2.9953003732487513, 'family': 3.6709543963611795, 'fantastic': 5.667245569708845, 'far': 5.110673924154651, 'farm': 6.426350718060588, 'farming': 6.298517346550703, 'farms': 7.032486521630903, 'fast': 6.744804449179123, 'favorite': 5.199905057882593, 'fear': 6.952443813957367, 'fed': 6.878335841803645, 'federal': 6.298517346550703, 'feed': 6.952443813957367, 'feel': 3.6680683914720444, 'feeling': 5.756193055725341, 'feelings': 6.381898955489754, 'feels': 6.684179827362688, 'feet': 6.627021413522739, 'felt': 6.952443813957367, 'fiction': 6.878335841803645, 'fidget': 7.214808078424858, 'field': 5.3902587863738125, 'fields': 6.426350718060588, 'fifth': 4.721602625822163, 'fifty': 6.878335841803645, 'figure': 6.627021413522739, 'fill': 6.259296633397422, 'filled': 4.642195848217752, 'finally': 6.426350718060588, 'financial': 5.358510088059232, 'financially': 5.933874232962793, 'find': 3.9376633454326813, 'finding': 5.566149452837476, 'fine': 5.8285137173049675, 'fingertips': 6.952443813957367, 'fire': 6.952443813957367, 'first': 2.9437130044582585, 'fit': 5.566149452837476, 'fitness': 6.0208856099524235, 'five': 4.547579871842903, 'flexibility': 6.744804449179123, 'flexible': 5.374258445027371, 'flood': 6.744804449179123, 'flooding': 7.032486521630903, 'floor': 6.083405966933757, 'florida': 5.96204510992949, 'flourish': 6.952443813957367, 'fluency': 6.259296633397422, 'fluent': 6.381898955489754, 'focus': 3.800365470012682, 'focused': 4.7382696783073746, 'focuses': 6.1851886612437, 'focusing': 5.585567538694578, 'follow': 5.991032646802743, 'following': 6.472870733695481, 'food': 4.642195848217752, 'foot': 6.878335841803645, 'football': 6.952443813957367, 'force': 6.298517346550703, 'forced': 6.744804449179123, 'foreign': 6.809342970316694, 'forget': 6.15009734143243, 'form': 6.0208856099524235, 'formal': 6.952443813957367, 'forms': 6.878335841803645, 'forth': 6.521660897864913, 'fortunate': 5.4920414806837545, 'forward': 4.500113334603979, 'foster': 4.540659428998329, 'fosters': 6.744804449179123, 'found': 5.4398557275131845, 'foundation': 5.098552563622306, 'foundational': 6.809342970316694, 'four': 4.746708546953239, 'fourth': 4.547579871842903, 'francisco': 6.684179827362688, 'free': 2.282494751104072, 'freedom': 6.472870733695481, 'french': 7.907955258984804, 'frequent': 6.952443813957367, 'frequently': 6.339339341070958, 'fresh': 6.744804449179123, 'friday': 6.878335841803645, 'friend': 6.684179827362688, 'friendly': 6.298517346550703, 'friends': 5.110673924154651, 'friendships': 6.809342970316694, 'front': 6.259296633397422, 'frustrated': 6.426350718060588, 'fuel': 6.744804449179123, 'fulfill': 6.572954192252463, 'full': 3.3128354088502134, 'fullest': 6.1851886612437, 'fully': 5.733203537500643, 'fun': 3.3332442804814204, 'function': 6.572954192252463, 'functional': 6.051657268619177, 'functioning': 6.627021413522739, 'fund': 6.744804449179123, 'funded': 5.991032646802743, 'funding': 4.513446865473444, 'fundraising': 7.1194978986205335, 'funds': 5.17358774956522, 'funny': 5.756193055725341, 'furniture': 6.878335841803645, 'future': 3.70925068143846, 'futures': 5.906475258774679, 'gain': 5.297885466242797, 'gaining': 6.952443813957367, 'gains': 6.1851886612437, 'game': 6.221556305414575, 'games': 4.953044979951068, 'gang': 6.426350718060588, 'gap': 5.3430059015232665, 'gaps': 5.933874232962793, 'garden': 6.521660897864913, 'gather': 6.684179827362688, 'general': 4.9222733212843135, 'generally': 6.744804449179123, 'generation': 5.254713294377588, 'generosity': 6.952443813957367, 'generous': 6.472870733695481, 'genuine': 6.627021413522739, 'georgia': 6.339339341070958, 'get': 2.927092123222218, 'gets': 6.1851886612437, 'getting': 4.399399359002149, 'gift': 6.627021413522739, 'gifted': 4.721602625822163, 'gifts': 6.809342970316694, 'girls': 5.098552563622306, 'give': 3.3796661173326696, 'given': 4.324436320528694, 'gives': 5.710730681648584, 'giving': 5.110673924154651, 'global': 5.585567538694578, 'go': 3.7335679890891664, 'goal': 3.479522251496766, 'goals': 3.956711540403376, 'goes': 5.991032646802743, 'going': 4.4054053830623605, 'gone': 6.339339341070958, 'good': 4.330007365578149, 'google': 6.339339341070958, 'got': 7.214808078424858, 'government': 6.472870733695481, 'grade': 2.358101266621339, 'grader': 6.684179827362688, 'graders': 3.1254760580263015, 'grades': 4.156101005709479, 'graduate': 5.585567538694578, 'graduates': 6.521660897864913, 'graduating': 6.809342970316694, 'graduation': 6.381898955489754, 'grandparents': 5.96204510992949, 'grant': 6.259296633397422, 'granted': 6.15009734143243, 'grants': 7.1194978986205335, 'grasp': 6.572954192252463, 'grateful': 5.96204510992949, 'great': 3.392709780524699, 'greater': 5.710730681648584, 'greatest': 5.756193055725341, 'greatly': 5.2832866668216445, 'greatness': 6.381898955489754, 'greet': 6.1851886612437, 'greeted': 7.032486521630903, 'grit': 6.521660897864913, 'ground': 6.952443813957367, 'group': 2.908043928251523, 'groups': 4.642195848217752, 'grow': 3.5958147517750882, 'growing': 4.399399359002149, 'grown': 6.051657268619177, 'growth': 4.335609621126819, 'guidance': 6.521660897864913, 'guide': 5.879807011692518, 'guided': 6.684179827362688, 'gym': 6.684179827362688, 'habits': 6.116195789756748, 'half': 4.873002272277531, 'hand': 5.406519307245593, 'hands': 3.3189144549265954, 'happen': 5.646192160511013, 'happening': 6.684179827362688, 'happens': 6.339339341070958, 'happiness': 7.032486521630903, 'happy': 4.634591248832533, 'hard': 2.792359529252061, 'harder': 5.991032646802743, 'hardest': 5.779723553135535, 'hardship': 6.627021413522739, 'hardships': 4.82604528918976, 'hardworking': 5.0747419149285875, 'harsh': 7.1194978986205335, 'head': 6.259296633397422, 'health': 5.213328078214734, 'healthy': 5.0747419149285875, 'hear': 5.240727052402848, 'heard': 6.521660897864913, 'hearing': 5.646192160511013, 'heart': 4.689079434116603, 'hearts': 5.585567538694578, 'heavily': 7.032486521630903, 'heavy': 6.952443813957367, 'heights': 6.878335841803645, 'held': 6.809342970316694, 'hello': 6.521660897864913, 'help': 2.4543450080307316, 'helped': 6.381898955489754, 'helpful': 6.083405966933757, 'helping': 4.873002272277531, 'helps': 4.932425692748332, 'high': 2.4891917393608995, 'higher': 5.08657637257559, 'highest': 5.147945318951882, 'highly': 4.763802980312539, 'hilarious': 7.032486521630903, 'hill': 7.032486521630903, 'hinder': 6.744804449179123, 'hispanic': 4.467537164169366, 'historic': 7.032486521630903, 'history': 5.374258445027371, 'hit': 6.521660897864913, 'hokki': 7.437951629739068, 'hold': 5.406519307245593, 'holding': 7.032486521630903, 'home': 2.799588476395212, 'homeless': 5.510059986186433, 'homelessness': 6.339339341070958, 'homes': 3.6825824343562985, 'homework': 5.8285137173049675, 'honor': 5.803821104714596, 'honored': 6.298517346550703, 'honors': 6.878335841803645, 'hope': 4.194383192280496, 'hopeful': 5.3430059015232665, 'hopefully': 6.627021413522739, 'hopes': 6.15009734143243, 'hoping': 5.906475258774679, 'horizons': 6.809342970316694, 'hour': 5.803821104714596, 'hours': 5.297885466242797, 'house': 6.381898955489754, 'household': 6.572954192252463, 'households': 4.554548541158996, 'houses': 5.756193055725341, 'housing': 5.756193055725341, 'however': 3.648096258285129, 'hug': 6.627021413522739, 'huge': 5.297885466242797, 'hugs': 6.572954192252463, 'human': 6.572954192252463, 'humor': 7.032486521630903, 'hundred': 5.991032646802743, 'hunger': 6.083405966933757, 'hungry': 5.297885466242797, 'hurdles': 6.952443813957367, 'ib': 6.878335841803645, 'ict': 6.878335841803645, 'idea': 6.259296633397422, 'ideas': 4.442219356185077, 'identified': 5.803821104714596, 'identify': 6.952443813957367, 'iep': 6.521660897864913, 'ieps': 6.952443813957367, 'ignite': 7.032486521630903, 'illinois': 6.744804449179123, 'imagination': 5.906475258774679, 'imaginations': 6.381898955489754, 'imaginative': 6.381898955489754, 'imagine': 4.9635162798183625, 'immediate': 7.032486521630903, 'immediately': 6.952443813957367, 'immense': 7.032486521630903, 'immersion': 6.259296633397422, 'immigrant': 6.298517346550703, 'immigrants': 6.051657268619177, 'impact': 5.122944016746465, 'impacts': 7.032486521630903, 'impairment': 7.214808078424858, 'impairments': 5.853831525289257, 'imperative': 6.339339341070958, 'implement': 6.221556305414575, 'implementing': 6.809342970316694, 'importance': 5.667245569708845, 'important': 3.9376633454326813, 'importantly': 5.879807011692518, 'impossible': 6.339339341070958, 'impoverished': 6.339339341070958, 'impressed': 6.809342970316694, 'improve': 4.763802980312539, 'improved': 7.032486521630903, 'improvement': 6.684179827362688, 'improving': 6.339339341070958, 'include': 5.226933730270512, 'included': 6.627021413522739, 'includes': 5.063045875165396, 'including': 4.500113334603979, 'inclusion': 5.547101257866782, 'inclusive': 6.259296633397422, 'income': 2.793560730597695, 'incomes': 7.032486521630903, 'incorporate': 5.4920414806837545, 'incorporating': 6.1851886612437, 'increase': 5.240727052402848, 'increased': 6.339339341070958, 'increases': 6.744804449179123, 'increasing': 6.116195789756748, 'incredible': 5.2832866668216445, 'incredibly': 5.240727052402848, 'independence': 5.779723553135535, 'independent': 4.9635162798183625, 'independently': 5.688751774929809, 'indian': 6.572954192252463, 'indiana': 6.627021413522739, 'individual': 4.493512650572628, 'individualized': 5.879807011692518, 'individually': 6.878335841803645, 'individuals': 4.665362907499286, 'industry': 6.809342970316694, 'information': 4.912222985430812, 'initiative': 6.952443813957367, 'inner': 4.520180897654789, 'innovation': 7.032486521630903, 'innovative': 5.297885466242797, 'inquire': 7.032486521630903, 'inquiry': 5.96204510992949, 'inquisitive': 4.533786549710568, 'inside': 5.2832866668216445, 'inspiration': 6.116195789756748, 'inspire': 4.3698986946054506, 'inspired': 5.667245569708845, 'inspires': 6.952443813957367, 'inspiring': 5.803821104714596, 'instead': 5.510059986186433, 'instill': 5.625572873308277, 'instruction': 4.2916464977057025, 'instructional': 5.906475258774679, 'instrument': 6.878335841803645, 'instruments': 5.96204510992949, 'integrate': 6.259296633397422, 'integrated': 5.906475258774679, 'integrating': 6.684179827362688, 'integration': 6.472870733695481, 'intellectual': 5.199905057882593, 'intellectually': 6.809342970316694, 'intelligence': 6.627021413522739, 'intelligent': 5.456950160872484, 'intense': 6.878335841803645, 'intensive': 6.809342970316694, 'interact': 5.585567538694578, 'interacting': 7.032486521630903, 'interaction': 6.684179827362688, 'interactions': 6.684179827362688, 'interactive': 5.4920414806837545, 'interest': 4.790005352706563, 'interested': 4.892420358134633, 'interesting': 5.667245569708845, 'interests': 4.798894300123809, 'international': 6.083405966933757, 'internet': 5.547101257866782, 'intervention': 5.566149452837476, 'interventions': 6.521660897864913, 'intrigued': 6.744804449179123, 'introduce': 6.426350718060588, 'introduced': 6.521660897864913, 'introducing': 7.032486521630903, 'invested': 6.952443813957367, 'investigate': 6.426350718060588, 'investigations': 7.032486521630903, 'inviting': 5.688751774929809, 'involve': 6.381898955489754, 'involved': 5.098552563622306, 'involvement': 5.933874232962793, 'involves': 6.339339341070958, 'ipad': 6.051657268619177, 'ipads': 5.52840912485463, 'island': 7.1194978986205335, 'issues': 4.873002272277531, 'items': 5.566149452837476, 'jersey': 7.032486521630903, 'job': 4.204187192377116, 'jobs': 5.147945318951882, 'join': 6.744804449179123, 'journey': 5.213328078214734, 'joy': 4.912222985430812, 'jump': 6.521660897864913, 'junior': 6.627021413522739, 'justice': 6.684179827362688, 'keep': 3.8036603659095345, 'keeping': 5.906475258774679, 'keeps': 6.521660897864913, 'key': 5.3902587863738125, 'keys': 7.320168594082684, 'kid': 6.083405966933757, 'kiddos': 5.268897929369545, 'kids': 3.118798236883696, 'kind': 4.442219356185077, 'kinder': 6.809342970316694, 'kindergarten': 3.383995128422255, 'kindergarteners': 5.8285137173049675, 'kindergartners': 5.733203537500643, 'kindness': 6.083405966933757, 'kinds': 6.952443813957367, 'kinesthetic': 6.051657268619177, 'kits': 7.320168594082684, 'knew': 7.032486521630903, 'knit': 5.605370165990758, 'know': 3.231395076910039, 'knowing': 5.4398557275131845, 'knowledge': 3.7335679890891664, 'known': 6.116195789756748, 'knows': 7.1194978986205335, 'lab': 5.4398557275131845, 'labeled': 6.878335841803645, 'labels': 7.214808078424858, 'labs': 6.221556305414575, 'lack': 4.083671167864663, 'lacking': 5.566149452837476, 'language': 2.817892831257226, 'languages': 4.473968054499657, 'laptop': 6.744804449179123, 'laptops': 6.684179827362688, 'large': 3.960565109719366, 'larger': 6.426350718060588, 'largest': 5.756193055725341, 'last': 4.853954077306836, 'lasting': 6.809342970316694, 'late': 6.627021413522739, 'later': 6.572954192252463, 'latest': 6.809342970316694, 'latino': 5.4920414806837545, 'laugh': 6.051657268619177, 'laughter': 6.572954192252463, 'lay': 7.032486521630903, 'lead': 5.474341903584354, 'leader': 6.1851886612437, 'leaders': 4.7811947230244085, 'leadership': 6.0208856099524235, 'leading': 7.1194978986205335, 'leads': 6.572954192252463, 'learn': 1.7535218835986817, 'learned': 4.873002272277531, 'learner': 5.566149452837476, 'learners': 2.590816138196179, 'learning': 1.7217466350843096, 'learns': 6.572954192252463, 'least': 5.226933730270512, 'leave': 5.017583501088638, 'leaving': 6.627021413522739, 'led': 6.627021413522739, 'left': 5.933874232962793, 'less': 5.17358774956522, 'lesson': 5.52840912485463, 'lessons': 4.2916464977057025, 'let': 4.575750748809599, 'letter': 6.381898955489754, 'letters': 5.853831525289257, 'level': 3.3456925740079884, 'levels': 3.879038502085158, 'librarian': 6.809342970316694, 'library': 4.657580767057231, 'life': 2.8684086213941278, 'lifelong': 5.226933730270512, 'lifestyle': 6.878335841803645, 'lifestyles': 6.878335841803645, 'lifetime': 6.339339341070958, 'light': 5.358510088059232, 'lights': 7.032486521630903, 'like': 3.1355771540128057, 'likely': 6.627021413522739, 'limit': 6.221556305414575, 'limitations': 6.572954192252463, 'limited': 3.810282906670028, 'limits': 6.426350718060588, 'line': 5.853831525289257, 'linguistic': 7.032486521630903, 'list': 6.472870733695481, 'listen': 6.0208856099524235, 'listening': 5.566149452837476, 'literacy': 4.816912805626488, 'literally': 6.521660897864913, 'literature': 5.3902587863738125, 'little': 3.6651906916444292, 'live': 3.40150104593587, 'lived': 6.426350718060588, 'lively': 5.906475258774679, 'lives': 3.5512464322952115, 'living': 4.393429192015645, 'local': 5.147945318951882, 'located': 3.530941166134466, 'location': 6.572954192252463, 'long': 4.259897799391123, 'longer': 5.991032646802743, 'look': 4.244393612855157, 'looking': 4.096858172146618, 'looks': 6.684179827362688, 'los': 5.667245569708845, 'lose': 6.684179827362688, 'lost': 6.0208856099524235, 'lot': 3.930144513018654, 'lots': 4.835261944294684, 'louisiana': 6.381898955489754, 'lovable': 7.032486521630903, 'love': 2.181759189491702, 'loved': 5.122944016746465, 'loves': 6.259296633397422, 'loving': 4.448488969198673, 'low': 2.5608477282673343, 'lower': 5.122944016746465, 'lowest': 6.381898955489754, 'lucky': 5.160684344729312, 'lunch': 2.3929149089254795, 'lunches': 4.772461043055653, 'made': 4.234189442680915, 'magic': 6.627021413522739, 'magical': 6.952443813957367, 'magnet': 5.456950160872484, 'main': 6.116195789756748, 'mainly': 6.426350718060588, 'maintain': 5.646192160511013, 'maintaining': 6.744804449179123, 'major': 5.779723553135535, 'majority': 3.6396573896392646, 'make': 2.667267005273403, 'maker': 7.437951629739068, 'makers': 7.032486521630903, 'makerspace': 6.627021413522739, 'makes': 4.1846743781535345, 'making': 4.324436320528694, 'manage': 6.572954192252463, 'management': 6.952443813957367, 'manipulatives': 6.083405966933757, 'many': 1.8624761235705831, 'master': 5.710730681648584, 'material': 5.312700552027938, 'materials': 3.4328937583437322, 'math': 3.4700209923726257, 'mathematical': 6.572954192252463, 'mathematicians': 5.8285137173049675, 'mathematics': 5.4398557275131845, 'matter': 4.790005352706563, 'mature': 6.878335841803645, 'maximize': 6.809342970316694, 'may': 3.703262639593837, 'maybe': 6.627021413522739, 'meal': 6.221556305414575, 'meals': 5.240727052402848, 'mean': 6.259296633397422, 'meaning': 5.8285137173049675, 'meaningful': 4.35260719749539, 'means': 4.137495817878444, 'media': 6.221556305414575, 'medical': 6.572954192252463, 'mediums': 7.1194978986205335, 'meet': 3.685510694135387, 'meeting': 5.52840912485463, 'meets': 6.472870733695481, 'melting': 6.521660897864913, 'member': 6.521660897864913, 'members': 4.873002272277531, 'memorable': 6.744804449179123, 'men': 6.627021413522739, 'mental': 6.259296633397422, 'met': 5.147945318951882, 'methods': 5.756193055725341, 'mexican': 7.032486521630903, 'mexico': 5.991032646802743, 'michigan': 6.426350718060588, 'middle': 3.7840518945211583, 'might': 5.160684344729312, 'migrant': 6.426350718060588, 'mild': 6.426350718060588, 'mile': 7.032486521630903, 'miles': 6.298517346550703, 'military': 5.098552563622306, 'mind': 5.254713294377588, 'minded': 6.744804449179123, 'minds': 4.547579871842903, 'mindset': 5.933874232962793, 'mine': 6.684179827362688, 'minimal': 6.116195789756748, 'minorities': 6.952443813957367, 'minority': 6.221556305414575, 'minute': 5.08657637257559, 'minutes': 5.4398557275131845, 'miss': 6.952443813957367, 'missing': 6.339339341070958, 'mission': 5.312700552027938, 'mississippi': 6.809342970316694, 'missouri': 6.627021413522739, 'mistakes': 5.756193055725341, 'mix': 5.688751774929809, 'mixed': 6.1851886612437, 'mixture': 6.339339341070958, 'mobile': 7.032486521630903, 'modalities': 6.952443813957367, 'model': 5.52840912485463, 'models': 5.96204510992949, 'moderate': 6.0208856099524235, 'modern': 6.472870733695481, 'mom': 6.952443813957367, 'moment': 5.733203537500643, 'moments': 6.627021413522739, 'money': 5.110673924154651, 'montessori': 6.878335841803645, 'month': 6.521660897864913, 'months': 6.339339341070958, 'morning': 4.547579871842903, 'mostly': 4.995604594369864, 'motivate': 5.8285137173049675, 'motivated': 3.9959322535566573, 'motivates': 6.809342970316694, 'motivating': 6.472870733695481, 'motivation': 5.423048609196803, 'motor': 6.116195789756748, 'motto': 5.756193055725341, 'mountains': 6.521660897864913, 'move': 3.8440699042474114, 'moved': 6.051657268619177, 'movement': 4.554548541158996, 'moving': 4.763802980312539, 'mrs': 6.472870733695481, 'much': 3.40150104593587, 'multi': 5.667245569708845, 'multicultural': 6.381898955489754, 'multiple': 4.7382696783073746, 'multiplication': 7.032486521630903, 'multitude': 6.472870733695481, 'music': 4.540659428998329, 'musical': 6.221556305414575, 'musicians': 6.878335841803645, 'must': 4.772461043055653, 'na': 6.221556305414575, 'nall': 5.547101257866782, 'nalthough': 6.15009734143243, 'name': 5.667245569708845, 'nas': 4.853954077306836, 'nat': 6.221556305414575, 'nation': 6.1851886612437, 'national': 6.0208856099524235, 'native': 5.226933730270512, 'natural': 5.933874232962793, 'naturally': 6.627021413522739, 'nature': 6.426350718060588, 'navigate': 6.298517346550703, 'nbecause': 6.627021413522739, 'nby': 6.809342970316694, 'nc': 6.472870733695481, 'ndespite': 5.17358774956522, 'neach': 5.933874232962793, 'near': 5.853831525289257, 'nearby': 6.744804449179123, 'nearly': 5.688751774929809, 'necessary': 4.442219356185077, 'necessities': 6.15009734143243, 'need': 2.423988545550137, 'needed': 4.2862845545643165, 'needing': 6.744804449179123, 'needs': 2.890675422169879, 'negative': 6.572954192252463, 'neighborhood': 3.840639369150622, 'neighborhoods': 5.098552563622306, 'nestled': 6.878335841803645, 'neven': 6.116195789756748, 'never': 4.028455445262217, 'nevery': 6.1851886612437, 'new': 2.5438501518987637, 'newly': 6.744804449179123, 'news': 6.521660897864913, 'next': 4.705208816046486, 'nfor': 6.221556305414575, 'nhaving': 6.878335841803645, 'nhowever': 6.684179827362688, 'ni': 3.2129443689969226, 'nice': 6.684179827362688, 'night': 5.779723553135535, 'nin': 5.028756801686764, 'nine': 6.298517346550703, 'ninety': 6.259296633397422, 'nit': 5.4398557275131845, 'nkindergarten': 6.744804449179123, 'nmany': 4.604738285682852, 'nmost': 5.688751774929809, 'nmy': 2.46553754846301, 'non': 5.098552563622306, 'none': 5.756193055725341, 'nonfiction': 7.214808078424858, 'normal': 6.051657268619177, 'normally': 6.878335841803645, 'north': 5.110673924154651, 'northern': 6.472870733695481, 'notebooks': 6.809342970316694, 'notes': 6.684179827362688, 'nothing': 5.268897929369545, 'notice': 6.744804449179123, 'noticed': 6.744804449179123, 'nour': 3.4891146511882054, 'novel': 6.809342970316694, 'novels': 6.572954192252463, 'nover': 6.878335841803645, 'nsome': 6.298517346550703, 'nstudents': 5.3902587863738125, 'nteaching': 7.032486521630903, 'ntechnology': 6.878335841803645, 'nthank': 6.878335841803645, 'nthe': 3.907921376233944, 'ntheir': 6.744804449179123, 'nthere': 6.083405966933757, 'nthese': 4.575750748809599, 'nthey': 4.0620720560612025, 'nthis': 4.912222985430812, 'nto': 6.952443813957367, 'number': 4.932425692748332, 'numbers': 5.906475258774679, 'numerous': 5.991032646802743, 'nunfortunately': 6.627021413522739, 'nurture': 6.952443813957367, 'nurturing': 5.879807011692518, 'nutrition': 6.684179827362688, 'nwe': 3.889772057728267, 'nwhat': 6.952443813957367, 'nwhen': 6.15009734143243, 'nwhile': 6.339339341070958, 'nwith': 6.083405966933757, 'ny': 6.684179827362688, 'nyc': 6.878335841803645, 'obesity': 7.1194978986205335, 'obstacle': 6.472870733695481, 'obstacles': 4.612118392980474, 'obtain': 6.339339341070958, 'odds': 6.1851886612437, 'offer': 4.853954077306836, 'offered': 6.339339341070958, 'offering': 6.572954192252463, 'offers': 5.96204510992949, 'often': 3.6651906916444292, 'ohio': 6.809342970316694, 'oklahoma': 6.426350718060588, 'old': 4.07497546089711, 'older': 6.259296633397422, 'olds': 4.892420358134633, 'one': 2.5627543065379164, 'ones': 5.4920414806837545, 'online': 6.221556305414575, 'onto': 6.809342970316694, 'open': 4.86343282126138, 'opened': 6.298517346550703, 'opening': 6.952443813957367, 'opportunities': 3.4466554434164136, 'opportunity': 3.3519753171874838, 'option': 6.472870733695481, 'options': 5.297885466242797, 'order': 3.9042650650308333, 'org': 7.032486521630903, 'organization': 6.298517346550703, 'organizational': 6.878335841803645, 'organized': 6.15009734143243, 'oriented': 6.627021413522739, 'original': 7.214808078424858, 'others': 3.8509664833064714, 'otherwise': 6.15009734143243, 'outdated': 6.809342970316694, 'outdoor': 6.878335841803645, 'outdoors': 6.952443813957367, 'outgoing': 7.032486521630903, 'outlet': 6.572954192252463, 'outside': 3.76800018551065, 'outstanding': 6.572954192252463, 'overall': 6.051657268619177, 'overcome': 4.7811947230244085, 'overwhelmed': 7.032486521630903, 'overwhelming': 6.878335841803645, 'ownership': 6.15009734143243, 'pace': 6.472870733695481, 'pacific': 6.809342970316694, 'page': 7.214808078424858, 'paint': 7.032486521630903, 'pantry': 7.032486521630903, 'paper': 5.52840912485463, 'parent': 4.244393612855157, 'parental': 6.298517346550703, 'parents': 3.5745937962922025, 'park': 6.339339341070958, 'part': 3.7335679890891664, 'participants': 7.032486521630903, 'participate': 4.604738285682852, 'participating': 5.779723553135535, 'participation': 6.878335841803645, 'particular': 6.426350718060588, 'particularly': 7.032486521630903, 'partner': 6.339339341070958, 'partners': 6.298517346550703, 'parts': 6.1851886612437, 'pass': 6.472870733695481, 'passing': 7.032486521630903, 'passion': 4.642195848217752, 'passionate': 4.995604594369864, 'passions': 6.809342970316694, 'past': 4.882664183189268, 'path': 5.017583501088638, 'patience': 7.032486521630903, 'pay': 6.298517346550703, 'paying': 6.809342970316694, 'pe': 6.116195789756748, 'peer': 6.684179827362688, 'peers': 4.381594734368642, 'pencil': 5.96204510992949, 'pencils': 6.0208856099524235, 'people': 4.249535012355576, 'per': 5.853831525289257, 'percent': 4.448488969198673, 'percentage': 5.510059986186433, 'perfect': 6.0208856099524235, 'perform': 5.733203537500643, 'performance': 5.853831525289257, 'performances': 7.320168594082684, 'performing': 5.312700552027938, 'period': 6.572954192252463, 'periods': 6.083405966933757, 'perseverance': 5.646192160511013, 'persevere': 5.879807011692518, 'person': 5.733203537500643, 'personal': 4.835261944294684, 'personalities': 5.52840912485463, 'personality': 6.1851886612437, 'personalized': 6.472870733695481, 'personally': 6.952443813957367, 'perspective': 6.684179827362688, 'perspectives': 6.878335841803645, 'philadelphia': 6.116195789756748, 'phone': 7.214808078424858, 'phones': 6.952443813957367, 'phonics': 6.684179827362688, 'physical': 4.642195848217752, 'physically': 5.906475258774679, 'physics': 7.214808078424858, 'pick': 6.627021413522739, 'picture': 6.684179827362688, 'pictures': 6.426350718060588, 'piece': 6.744804449179123, 'pieces': 6.952443813957367, 'pivotal': 7.032486521630903, 'pk': 7.032486521630903, 'place': 3.4559362524908868, 'placed': 6.744804449179123, 'placement': 7.1194978986205335, 'places': 5.240727052402848, 'plan': 5.566149452837476, 'planning': 6.878335841803645, 'plans': 6.051657268619177, 'play': 4.057807657274745, 'players': 6.744804449179123, 'playground': 7.032486521630903, 'playing': 4.9635162798183625, 'please': 5.017583501088638, 'pleasure': 5.8285137173049675, 'plus': 6.744804449179123, 'point': 5.933874232962793, 'police': 6.809342970316694, 'poor': 5.547101257866782, 'poorest': 6.15009734143243, 'population': 3.408145588654538, 'portion': 6.051657268619177, 'position': 7.032486521630903, 'positive': 3.703262639593837, 'positively': 6.426350718060588, 'possess': 6.472870733695481, 'possibilities': 6.1851886612437, 'possible': 3.9226817918170647, 'possibly': 5.756193055725341, 'post': 6.521660897864913, 'pot': 6.472870733695481, 'potential': 3.8509664833064714, 'poverty': 2.804436970741834, 'power': 5.96204510992949, 'powerful': 6.572954192252463, 'practice': 4.7382696783073746, 'practices': 6.083405966933757, 'practicing': 6.381898955489754, 'praise': 7.1194978986205335, 'pre': 4.533786549710568, 'precious': 6.426350718060588, 'predominantly': 6.259296633397422, 'predominately': 6.521660897864913, 'prek': 6.339339341070958, 'prep': 6.627021413522739, 'prepare': 4.612118392980474, 'prepared': 5.374258445027371, 'preparing': 5.906475258774679, 'preschool': 5.160684344729312, 'preschoolers': 6.878335841803645, 'present': 5.933874232962793, 'presented': 5.991032646802743, 'pretty': 6.472870733695481, 'prevent': 5.456950160872484, 'previous': 6.381898955489754, 'price': 4.358337872204375, 'priced': 6.116195789756748, 'pride': 5.147945318951882, 'primarily': 5.646192160511013, 'primary': 5.625572873308277, 'print': 6.878335841803645, 'printer': 7.320168594082684, 'prior': 6.472870733695481, 'priority': 5.688751774929809, 'privilege': 5.710730681648584, 'privileged': 6.381898955489754, 'probably': 7.032486521630903, 'problem': 4.493512650572628, 'problems': 4.932425692748332, 'process': 4.995604594369864, 'processing': 7.214808078424858, 'produce': 6.472870733695481, 'productive': 5.254713294377588, 'products': 6.521660897864913, 'profession': 7.1194978986205335, 'professional': 6.15009734143243, 'professionals': 7.1194978986205335, 'proficiency': 6.259296633397422, 'proficient': 6.15009734143243, 'program': 3.498799956922669, 'programming': 6.572954192252463, 'programs': 4.873002272277531, 'progress': 5.240727052402848, 'project': 4.083671167864663, 'projects': 4.254702982514019, 'promote': 5.406519307245593, 'promotes': 6.339339341070958, 'promoting': 7.032486521630903, 'proper': 5.96204510992949, 'proud': 4.6270440431971505, 'prove': 6.744804449179123, 'proven': 6.878335841803645, 'provide': 2.850436378989697, 'provided': 5.312700552027938, 'provides': 4.665362907499286, 'providing': 4.335609621126819, 'public': 4.020224946125701, 'pull': 6.472870733695481, 'purchase': 5.710730681648584, 'purpose': 6.426350718060588, 'pursue': 6.1851886612437, 'push': 5.327738429392478, 'pushed': 6.952443813957367, 'pushing': 6.627021413522739, 'put': 4.807862970106569, 'puts': 6.809342970316694, 'putting': 6.381898955489754, 'qualified': 7.1194978986205335, 'qualifies': 6.116195789756748, 'qualify': 4.199273177574687, 'qualifying': 6.0208856099524235, 'qualities': 6.952443813957367, 'quality': 4.772461043055653, 'question': 5.96204510992949, 'questioners': 7.1194978986205335, 'questions': 4.912222985430812, 'quick': 6.684179827362688, 'quickly': 5.779723553135535, 'quiet': 6.521660897864913, 'quite': 5.4920414806837545, 'quote': 5.803821104714596, 'race': 6.221556305414575, 'races': 6.627021413522739, 'racial': 6.744804449179123, 'racially': 7.032486521630903, 'raise': 6.684179827362688, 'raised': 4.984793678265648, 'raising': 6.878335841803645, 'range': 3.7616509578319914, 'ranges': 7.032486521630903, 'ranging': 5.4398557275131845, 'rapidly': 6.744804449179123, 'rarely': 6.1851886612437, 'rate': 4.995604594369864, 'rates': 6.426350718060588, 'rather': 5.667245569708845, 'reach': 4.165535037942837, 'reaching': 5.8285137173049675, 'read': 3.3732075372932577, 'reader': 6.572954192252463, 'readers': 4.224088346694412, 'readily': 6.809342970316694, 'readiness': 6.521660897864913, 'reading': 2.9535376448867763, 'ready': 3.0957709036123857, 'real': 4.590139486261699, 'realities': 6.952443813957367, 'reality': 5.96204510992949, 'realize': 5.585567538694578, 'really': 4.364101576921125, 'reason': 5.667245569708845, 'reasons': 6.15009734143243, 'receive': 2.9507207416156627, 'received': 6.298517346550703, 'receives': 5.17358774956522, 'receiving': 4.597412245590778, 'recent': 6.298517346550703, 'recently': 5.312700552027938, 'recess': 6.0208856099524235, 'recognize': 6.298517346550703, 'record': 7.1194978986205335, 'reduce': 6.744804449179123, 'reduced': 2.834032225652629, 'reflect': 6.472870733695481, 'reflects': 6.744804449179123, 'refugee': 6.952443813957367, 'refugees': 6.381898955489754, 'refuse': 7.1194978986205335, 'regardless': 5.135366536745022, 'region': 7.032486521630903, 'regular': 5.098552563622306, 'regularly': 6.627021413522739, 'regulate': 6.809342970316694, 'regulation': 7.320168594082684, 'reinforce': 6.221556305414575, 'relate': 6.259296633397422, 'related': 5.96204510992949, 'relationship': 7.032486521630903, 'relationships': 5.688751774929809, 'release': 6.572954192252463, 'relevant': 5.96204510992949, 'reluctant': 6.521660897864913, 'rely': 5.853831525289257, 'remain': 6.259296633397422, 'remaining': 7.032486521630903, 'remarkable': 6.878335841803645, 'remember': 5.240727052402848, 'remind': 6.744804449179123, 'repetition': 7.1194978986205335, 'represent': 5.605370165990758, 'represented': 6.083405966933757, 'represents': 6.952443813957367, 'requesting': 7.1194978986205335, 'require': 4.8445643369569975, 'required': 5.710730681648584, 'requirements': 6.952443813957367, 'requires': 5.8285137173049675, 'requiring': 7.032486521630903, 'research': 5.028756801686764, 'researching': 6.809342970316694, 'reservation': 6.684179827362688, 'reside': 6.684179827362688, 'resilience': 6.809342970316694, 'resilient': 5.8285137173049675, 'resource': 5.688751774929809, 'resourceful': 7.032486521630903, 'resources': 3.202035169896569, 'respect': 5.199905057882593, 'respected': 6.952443813957367, 'respectful': 5.52840912485463, 'respond': 6.572954192252463, 'responsibilities': 6.952443813957367, 'responsibility': 5.4920414806837545, 'responsible': 5.423048609196803, 'rest': 5.710730681648584, 'result': 5.547101257866782, 'results': 6.684179827362688, 'return': 6.627021413522739, 'review': 6.684179827362688, 'rewarding': 6.381898955489754, 'rewards': 6.809342970316694, 'rich': 5.040056356940697, 'ride': 6.744804449179123, 'right': 4.6270440431971505, 'rigor': 6.472870733695481, 'rigorous': 4.892420358134633, 'rise': 5.710730681648584, 'risk': 4.984793678265648, 'risks': 5.803821104714596, 'road': 6.878335841803645, 'robotics': 6.426350718060588, 'rock': 6.878335841803645, 'role': 5.52840912485463, 'roll': 7.214808078424858, 'room': 3.864903991150253, 'rooms': 7.032486521630903, 'rough': 6.259296633397422, 'roughly': 6.809342970316694, 'rounded': 6.116195789756748, 'routine': 6.1851886612437, 'routines': 6.744804449179123, 'rug': 7.032486521630903, 'rules': 6.744804449179123, 'run': 5.933874232962793, 'running': 6.083405966933757, 'rural': 3.703262639593837, 'sad': 7.032486521630903, 'sadly': 6.521660897864913, 'safe': 3.558968478389122, 'safety': 6.116195789756748, 'said': 5.226933730270512, 'salvador': 7.032486521630903, 'san': 6.298517346550703, 'savvy': 7.032486521630903, 'say': 4.9222733212843135, 'saying': 6.744804449179123, 'says': 6.878335841803645, 'scarce': 6.521660897864913, 'schedule': 6.809342970316694, 'scholars': 5.017583501088638, 'school': 1.2321320373499554, 'schooling': 6.572954192252463, 'schools': 4.0924431539375, 'science': 3.5259286243109216, 'scientific': 6.472870733695481, 'scientists': 5.4398557275131845, 'scores': 6.051657268619177, 'screen': 7.1194978986205335, 'searching': 6.952443813957367, 'season': 7.1194978986205335, 'seat': 6.572954192252463, 'seating': 4.86343282126138, 'seats': 6.083405966933757, 'second': 3.4466554434164136, 'secondary': 6.684179827362688, 'section': 6.572954192252463, 'secure': 6.878335841803645, 'see': 3.265489288253015, 'seeing': 5.374258445027371, 'seek': 5.710730681648584, 'seeking': 6.116195789756748, 'seem': 5.803821104714596, 'seems': 6.259296633397422, 'seen': 5.160684344729312, 'self': 4.4054053830623605, 'semester': 7.214808078424858, 'send': 6.521660897864913, 'seniors': 6.627021413522739, 'sense': 4.984793678265648, 'senses': 7.214808078424858, 'sensitive': 7.1194978986205335, 'sensory': 5.52840912485463, 'series': 7.214808078424858, 'serious': 6.878335841803645, 'serve': 4.665362907499286, 'served': 6.051657268619177, 'serves': 4.575750748809599, 'service': 5.52840912485463, 'services': 4.705208816046486, 'serving': 5.8285137173049675, 'sessions': 7.032486521630903, 'set': 4.3698986946054506, 'setbacks': 6.952443813957367, 'sets': 6.572954192252463, 'setting': 4.324436320528694, 'settings': 6.684179827362688, 'seuss': 6.472870733695481, 'seven': 5.688751774929809, 'seventh': 6.221556305414575, 'seventy': 6.744804449179123, 'several': 3.95287276409621, 'severe': 5.566149452837476, 'severely': 6.809342970316694, 'shape': 6.627021413522739, 'share': 4.146755143291241, 'shared': 6.1851886612437, 'sharing': 5.625572873308277, 'shelter': 6.878335841803645, 'shelters': 6.426350718060588, 'shine': 6.15009734143243, 'shoes': 6.809342970316694, 'short': 5.510059986186433, 'show': 4.254702982514019, 'showing': 6.221556305414575, 'shown': 5.96204510992949, 'shows': 5.906475258774679, 'siblings': 5.853831525289257, 'side': 5.3902587863738125, 'sight': 6.472870733695481, 'sign': 6.426350718060588, 'significant': 5.585567538694578, 'significantly': 6.809342970316694, 'silly': 6.627021413522739, 'similar': 6.572954192252463, 'simple': 5.063045875165396, 'simply': 5.199905057882593, 'since': 4.763802980312539, 'sing': 5.853831525289257, 'singing': 6.298517346550703, 'single': 4.07497546089711, 'sit': 4.798894300123809, 'site': 6.521660897864913, 'sitting': 5.0065336649020535, 'situation': 5.96204510992949, 'situations': 4.755219236621148, 'six': 5.226933730270512, 'sixth': 5.110673924154651, 'size': 5.933874232962793, 'sizes': 6.1851886612437, 'skill': 5.879807011692518, 'skills': 2.9938308652693912, 'sleep': 6.952443813957367, 'small': 3.3604141858333483, 'smaller': 6.472870733695481, 'smart': 4.984793678265648, 'smile': 4.763802980312539, 'smiles': 4.873002272277531, 'smiling': 5.853831525289257, 'snack': 6.472870733695481, 'snacks': 6.952443813957367, 'soak': 5.906475258774679, 'soaking': 7.032486521630903, 'soar': 7.032486521630903, 'soccer': 6.684179827362688, 'social': 3.676751514045505, 'socialize': 6.878335841803645, 'socially': 5.779723553135535, 'society': 5.0514850527643205, 'socio': 4.705208816046486, 'socioeconomic': 3.715274796041841, 'socioeconomically': 6.1851886612437, 'solid': 6.627021413522739, 'solutions': 6.572954192252463, 'solve': 5.268897929369545, 'solvers': 6.051657268619177, 'solving': 5.226933730270512, 'someone': 6.15009734143243, 'something': 4.2140882633598284, 'sometimes': 4.547579871842903, 'song': 6.744804449179123, 'songs': 6.627021413522739, 'soon': 6.426350718060588, 'sound': 6.521660897864913, 'sounds': 5.779723553135535, 'south': 4.807862970106569, 'southern': 5.933874232962793, 'southwest': 6.952443813957367, 'space': 5.186659831132572, 'spanish': 4.575750748809599, 'spark': 6.15009734143243, 'speak': 4.254702982514019, 'speakers': 6.572954192252463, 'speaking': 5.017583501088638, 'special': 2.9535376448867763, 'specialist': 6.809342970316694, 'specialized': 6.627021413522739, 'specific': 5.040056356940697, 'specifically': 6.426350718060588, 'spectrum': 5.3902587863738125, 'speech': 5.4398557275131845, 'spelling': 6.952443813957367, 'spend': 4.665362907499286, 'spending': 6.472870733695481, 'spent': 5.879807011692518, 'spirit': 6.298517346550703, 'spirited': 6.952443813957367, 'spite': 5.906475258774679, 'split': 6.952443813957367, 'spoken': 5.585567538694578, 'sponges': 5.605370165990758, 'spontaneous': 6.381898955489754, 'sport': 6.744804449179123, 'sports': 5.040056356940697, 'spot': 6.744804449179123, 'spring': 6.952443813957367, 'st': 6.809342970316694, 'stability': 6.221556305414575, 'stable': 6.627021413522739, 'staff': 4.473968054499657, 'stage': 6.684179827362688, 'stamina': 7.032486521630903, 'stand': 5.605370165990758, 'standard': 6.472870733695481, 'standardized': 6.521660897864913, 'standards': 4.763802980312539, 'standing': 6.259296633397422, 'stars': 6.339339341070958, 'start': 4.442219356185077, 'started': 5.358510088059232, 'starting': 5.585567538694578, 'starts': 6.744804449179123, 'state': 4.435988806434441, 'statement': 7.032486521630903, 'states': 5.268897929369545, 'stations': 6.426350718060588, 'statistics': 6.878335841803645, 'status': 4.313386484342108, 'statuses': 6.298517346550703, 'stay': 4.612118392980474, 'staying': 6.339339341070958, 'steam': 5.879807011692518, 'stem': 4.798894300123809, 'step': 5.667245569708845, 'steps': 6.952443813957367, 'still': 3.999940274954196, 'stools': 6.878335841803645, 'stop': 5.213328078214734, 'store': 6.1851886612437, 'stories': 4.995604594369864, 'story': 5.667245569708845, 'strategies': 5.3430059015232665, 'street': 7.1194978986205335, 'strength': 6.298517346550703, 'strengthen': 6.381898955489754, 'strengths': 5.625572873308277, 'stress': 6.116195789756748, 'stretch': 6.684179827362688, 'stricken': 6.298517346550703, 'strive': 3.676751514045505, 'strives': 6.298517346550703, 'striving': 5.8285137173049675, 'strong': 4.513446865473444, 'stronger': 6.426350718060588, 'structure': 6.339339341070958, 'structured': 6.051657268619177, 'structures': 6.878335841803645, 'struggle': 4.020224946125701, 'struggled': 7.032486521630903, 'struggles': 4.9740983891488995, 'struggling': 4.853954077306836, 'studies': 4.7299014286368575, 'study': 5.52840912485463, 'studying': 6.684179827362688, 'style': 5.803821104714596, 'styles': 4.9222733212843135, 'subject': 5.374258445027371, 'subjects': 5.3430059015232665, 'suburban': 5.756193055725341, 'succeed': 3.6825824343562985, 'succeeding': 6.878335841803645, 'success': 3.806966154044034, 'successes': 6.684179827362688, 'successful': 3.2968030013191645, 'successfully': 6.809342970316694, 'suffer': 6.952443813957367, 'sufficient': 6.684179827362688, 'summer': 6.521660897864913, 'super': 5.991032646802743, 'superheroes': 7.214808078424858, 'supplies': 3.7872933884453293, 'supply': 5.991032646802743, 'support': 3.308803145322275, 'supported': 6.051657268619177, 'supporting': 6.116195789756748, 'supportive': 5.017583501088638, 'supports': 5.585567538694578, 'sure': 4.604738285682852, 'surprise': 6.627021413522739, 'surrounded': 6.259296633397422, 'surrounding': 5.8285137173049675, 'surroundings': 6.744804449179123, 'sweet': 5.0065336649020535, 'syndrome': 6.15009734143243, 'system': 5.406519307245593, 'systems': 6.878335841803645, 'table': 6.051657268619177, 'tables': 6.521660897864913, 'tablet': 7.032486521630903, 'tablets': 6.339339341070958, 'tackle': 6.339339341070958, 'take': 3.4843069496201022, 'taken': 6.339339341070958, 'takes': 5.52840912485463, 'taking': 4.902272654577644, 'talent': 6.684179827362688, 'talented': 5.028756801686764, 'talents': 5.688751774929809, 'talk': 5.991032646802743, 'talking': 6.809342970316694, 'tap': 7.032486521630903, 'task': 5.0747419149285875, 'tasks': 5.52840912485463, 'taught': 4.932425692748332, 'teach': 2.4777328215568284, 'teacher': 2.8265508940003405, 'teachers': 3.590467145448493, 'teaches': 6.472870733695481, 'teaching': 3.5435835595496425, 'team': 4.513446865473444, 'teams': 6.744804449179123, 'teamwork': 6.051657268619177, 'tech': 6.259296633397422, 'techniques': 6.339339341070958, 'technological': 6.15009734143243, 'technologies': 6.952443813957367, 'technology': 2.9507207416156627, 'teenagers': 7.032486521630903, 'teens': 6.744804449179123, 'tell': 5.186659831132572, 'ten': 6.339339341070958, 'tend': 6.472870733695481, 'test': 5.710730681648584, 'testing': 5.96204510992949, 'tests': 6.083405966933757, 'texas': 5.879807011692518, 'text': 6.1851886612437, 'textbooks': 6.521660897864913, 'texts': 5.991032646802743, 'thank': 5.566149452837476, 'thankful': 6.809342970316694, 'therapy': 6.521660897864913, 'therefore': 4.816912805626488, 'thing': 4.375729614916244, 'things': 3.144073381841891, 'think': 4.554548541158996, 'thinkers': 4.902272654577644, 'thinking': 4.649858720963321, 'third': 4.024331728078355, 'thirst': 5.585567538694578, 'thirsty': 6.744804449179123, 'thirty': 6.472870733695481, 'though': 4.3412434388450745, 'thought': 6.221556305414575, 'thoughtful': 6.051657268619177, 'thoughts': 6.472870733695481, 'three': 4.665362907499286, 'thrilled': 6.472870733695481, 'thrive': 4.755219236621148, 'throughout': 4.070655799752593, 'thus': 6.572954192252463, 'tight': 5.688751774929809, 'time': 3.043502475066629, 'times': 4.526960584640167, 'tired': 7.032486521630903, 'title': 2.6421610841423266, 'tk': 7.214808078424858, 'today': 4.82604528918976, 'toes': 6.521660897864913, 'together': 3.55638783179563, 'told': 6.521660897864913, 'tomorrow': 6.116195789756748, 'took': 6.809342970316694, 'tool': 5.733203537500643, 'tools': 3.871946273775666, 'top': 5.510059986186433, 'topic': 6.878335841803645, 'topics': 5.4920414806837545, 'total': 6.083405966933757, 'touch': 6.627021413522739, 'tough': 5.879807011692518, 'toward': 5.991032646802743, 'towards': 5.226933730270512, 'town': 4.568633281040736, 'toys': 6.684179827362688, 'track': 5.96204510992949, 'traditional': 5.0514850527643205, 'training': 6.952443813957367, 'traits': 6.744804449179123, 'transform': 6.627021413522739, 'transient': 6.15009734143243, 'transition': 5.710730681648584, 'transitional': 6.426350718060588, 'transitioning': 6.952443813957367, 'transportation': 6.521660897864913, 'trauma': 5.96204510992949, 'traumatic': 6.952443813957367, 'travel': 6.0208856099524235, 'traveled': 6.878335841803645, 'treat': 6.339339341070958, 'tremendous': 6.426350718060588, 'tremendously': 6.744804449179123, 'tried': 6.952443813957367, 'tries': 7.032486521630903, 'trips': 6.472870733695481, 'trouble': 6.339339341070958, 'true': 5.199905057882593, 'truly': 4.38749445649583, 'trust': 6.878335841803645, 'try': 3.7002820114556996, 'trying': 4.649858720963321, 'turn': 5.667245569708845, 'tutoring': 6.809342970316694, 'twenty': 5.268897929369545, 'twice': 6.878335841803645, 'two': 3.9959322535566573, 'type': 5.510059986186433, 'types': 5.456950160872484, 'typical': 4.575750748809599, 'typically': 5.906475258774679, 'typing': 7.1194978986205335, 'ultimate': 7.032486521630903, 'unable': 5.625572873308277, 'underprivileged': 6.744804449179123, 'underserved': 7.1194978986205335, 'understand': 4.454798138391936, 'understanding': 4.892420358134633, 'unfortunately': 4.772461043055653, 'unique': 3.755341788638727, 'unit': 6.1851886612437, 'united': 5.358510088059232, 'units': 6.809342970316694, 'university': 6.684179827362688, 'unknown': 7.032486521630903, 'unstable': 7.032486521630903, 'upcoming': 6.572954192252463, 'upon': 5.991032646802743, 'upper': 6.298517346550703, 'urban': 3.9264061909080468, 'us': 3.6038901657806335, 'use': 3.320949043624383, 'used': 4.902272654577644, 'uses': 6.809342970316694, 'using': 4.057807657274745, 'usually': 5.8285137173049675, 'utah': 7.214808078424858, 'utilize': 5.688751774929809, 'utilizing': 6.627021413522739, 'valley': 7.1194978986205335, 'valuable': 6.1851886612437, 'value': 5.3902587863738125, 'valued': 6.339339341070958, 'values': 5.991032646802743, 'varied': 5.510059986186433, 'varies': 6.952443813957367, 'variety': 3.33118454751841, 'various': 3.9959322535566573, 'vary': 5.779723553135535, 'varying': 5.040056356940697, 'vast': 6.221556305414575, 'verbal': 6.339339341070958, 'via': 6.878335841803645, 'vibrant': 6.051657268619177, 'video': 6.1851886612437, 'videos': 6.878335841803645, 'vietnamese': 6.952443813957367, 'view': 6.1851886612437, 'violence': 5.733203537500643, 'virginia': 6.878335841803645, 'virtual': 7.1194978986205335, 'vision': 6.339339341070958, 'visit': 6.259296633397422, 'visiting': 7.032486521630903, 'visual': 5.199905057882593, 'vital': 6.0208856099524235, 'vocabulary': 5.710730681648584, 'vocational': 6.627021413522739, 'voice': 6.472870733695481, 'voices': 6.744804449179123, 'wait': 5.566149452837476, 'waiting': 6.684179827362688, 'wake': 6.952443813957367, 'walk': 3.9152743505392027, 'walking': 6.083405966933757, 'walks': 5.358510088059232, 'walls': 6.1851886612437, 'want': 2.5608477282673343, 'wanted': 6.684179827362688, 'wanting': 5.605370165990758, 'wants': 6.051657268619177, 'warm': 5.646192160511013, 'washington': 6.472870733695481, 'watch': 5.853831525289257, 'watching': 5.605370165990758, 'water': 6.627021413522739, 'way': 3.1858913215252125, 'ways': 3.648096258285129, 'weaknesses': 7.032486521630903, 'wealth': 6.809342970316694, 'websites': 7.032486521630903, 'week': 4.772461043055653, 'weekend': 5.733203537500643, 'weekends': 6.381898955489754, 'weekly': 6.472870733695481, 'weeks': 6.381898955489754, 'welcome': 5.4398557275131845, 'welcomed': 6.809342970316694, 'welcoming': 5.667245569708845, 'well': 3.207474893192387, 'wellness': 6.952443813957367, 'went': 6.744804449179123, 'west': 6.1851886612437, 'western': 6.952443813957367, 'whatever': 5.510059986186433, 'whenever': 6.744804449179123, 'whether': 5.52840912485463, 'white': 5.646192160511013, 'whole': 4.7811947230244085, 'whose': 6.0208856099524235, 'wide': 4.053561366393294, 'wiggle': 6.381898955489754, 'wiggles': 6.572954192252463, 'wiggly': 6.878335841803645, 'willing': 4.657580767057231, 'willingness': 6.221556305414575, 'wish': 5.779723553135535, 'within': 4.146755143291241, 'without': 4.302457413809918, 'witness': 6.684179827362688, 'witnessed': 7.1194978986205335, 'wobble': 6.809342970316694, 'women': 6.952443813957367, 'wonder': 5.853831525289257, 'wonderful': 3.7062521784422033, 'wonderfully': 6.221556305414575, 'wonders': 7.032486521630903, 'word': 5.688751774929809, 'words': 4.9635162798183625, 'work': 2.304361511584035, 'worked': 5.96204510992949, 'workers': 5.17358774956522, 'working': 3.0251533363984326, 'workplace': 7.032486521630903, 'works': 5.135366536745022, 'worksheets': 7.214808078424858, 'workshop': 6.521660897864913, 'world': 2.84409520365125, 'worry': 6.426350718060588, 'worth': 6.572954192252463, 'would': 3.2810235812151993, 'write': 5.028756801686764, 'writers': 5.327738429392478, 'writing': 4.128321441602402, 'written': 6.684179827362688, 'wrong': 6.952443813957367, 'year': 2.494525085336262, 'yearn': 6.521660897864913, 'yearning': 6.684179827362688, 'years': 3.5719725628123284, 'yes': 6.952443813957367, 'yet': 4.307907018577483, 'yoga': 6.572954192252463, 'york': 5.423048609196803, 'young': 3.8544326912829576, 'younger': 5.906475258774679, 'youngest': 6.684179827362688, 'youth': 6.809342970316694, 'zip': 7.032486521630903, 'zone': 6.744804449179123}\n"
     ]
    }
   ],
   "source": [
    "from sklearn.feature_extraction.text import TfidfVectorizer\n",
    "idf = tfidf.idf_\n",
    "print(dict(zip(tfidf.get_feature_names(), idf)))"
   ]
  },
  {
   "cell_type": "code",
   "execution_count": 40,
   "metadata": {
    "collapsed": true
   },
   "outputs": [
    {
     "name": "stdout",
     "output_type": "stream",
     "text": [
      "AUC = nan +/- nan\n"
     ]
    },
    {
     "name": "stderr",
     "output_type": "stream",
     "text": [
      "/Users/Nahel/anaconda3/lib/python3.6/site-packages/numpy/core/fromnumeric.py:2957: RuntimeWarning: Mean of empty slice.\n",
      "  out=out, **kwargs)\n",
      "/Users/Nahel/anaconda3/lib/python3.6/site-packages/numpy/core/_methods.py:80: RuntimeWarning: invalid value encountered in double_scalars\n",
      "  ret = ret.dtype.type(ret / rcount)\n",
      "/Users/Nahel/anaconda3/lib/python3.6/site-packages/numpy/core/_methods.py:135: RuntimeWarning: Degrees of freedom <= 0 for slice\n",
      "  keepdims=keepdims)\n",
      "/Users/Nahel/anaconda3/lib/python3.6/site-packages/numpy/core/_methods.py:105: RuntimeWarning: invalid value encountered in true_divide\n",
      "  arrmean, rcount, out=arrmean, casting='unsafe', subok=False)\n",
      "/Users/Nahel/anaconda3/lib/python3.6/site-packages/numpy/core/_methods.py:127: RuntimeWarning: invalid value encountered in double_scalars\n",
      "  ret = ret.dtype.type(ret / rcount)\n"
     ]
    }
   ],
   "source": [
    "auc_mean = np.mean(auc_buf)\n",
    "auc_std = np.std(auc_buf)\n",
    "print('AUC = {:.6f} +/- {:.6f}'.format(auc_mean, auc_std))"
   ]
  },
  {
   "cell_type": "markdown",
   "metadata": {
    "heading_collapsed": true
   },
   "source": [
    "### NN"
   ]
  },
  {
   "cell_type": "markdown",
   "metadata": {
    "hidden": true
   },
   "source": [
    "#### Params"
   ]
  },
  {
   "cell_type": "code",
   "execution_count": null,
   "metadata": {
    "hidden": true
   },
   "outputs": [],
   "source": [
    "#Target\n",
    "y = df[target].values[:182080]\n",
    "\n",
    "len_cat = train_cat.shape[1]\n",
    "len_num = train_num.shape[1]\n",
    "len_text = train_text.shape[1]\n",
    "\n",
    "size_embedding = 5000"
   ]
  },
  {
   "cell_type": "markdown",
   "metadata": {
    "heading_collapsed": true,
    "hidden": true
   },
   "source": [
    "#### Eval metrics"
   ]
  },
  {
   "cell_type": "code",
   "execution_count": null,
   "metadata": {
    "hidden": true
   },
   "outputs": [],
   "source": [
    "# AUC for a binary classifier\n",
    "def auc(y_true, y_pred):   \n",
    "    ptas = tf.stack([binary_PTA(y_true,y_pred,k) for k in np.linspace(0, 1, 1000)],axis=0)\n",
    "    pfas = tf.stack([binary_PFA(y_true,y_pred,k) for k in np.linspace(0, 1, 1000)],axis=0)\n",
    "    pfas = tf.concat([tf.ones((1,)) ,pfas],axis=0)\n",
    "    binSizes = -(pfas[1:]-pfas[:-1])\n",
    "    s = ptas*binSizes\n",
    "    return K.sum(s, axis=0)\n",
    "# PFA, prob false alert for binary classifier\n",
    "def binary_PFA(y_true, y_pred, threshold=K.variable(value=0.5)):\n",
    "    y_pred = K.cast(y_pred >= threshold, 'float32')\n",
    "    # N = total number of negative labels\n",
    "    N = K.sum(1 - y_true)\n",
    "    # FP = total number of false alerts, alerts from the negative class labels\n",
    "    FP = K.sum(y_pred - y_pred * y_true)    \n",
    "    return FP/N\n",
    "#-----------------------------------------------------------------------------------------------------------------------------------------------------\n",
    "# P_TA prob true alerts for binary classifier\n",
    "def binary_PTA(y_true, y_pred, threshold=K.variable(value=0.5)):\n",
    "    y_pred = K.cast(y_pred >= threshold, 'float32')\n",
    "    # P = total number of positive labels\n",
    "    P = K.sum(y_true)\n",
    "    # TP = total number of correct alerts, alerts from the positive class labels\n",
    "    TP = K.sum(y_pred * y_true)    \n",
    "    return TP/P"
   ]
  },
  {
   "cell_type": "markdown",
   "metadata": {
    "heading_collapsed": true,
    "hidden": true
   },
   "source": [
    "#### Architectures"
   ]
  },
  {
   "cell_type": "code",
   "execution_count": null,
   "metadata": {
    "hidden": true
   },
   "outputs": [],
   "source": [
    "# categorical NN \n",
    "inputs1 = Input(shape=(len_cat,))\n",
    "dense_cat_1 = Dense(256, activation='relu')(inputs1)\n",
    "dense_cat_2 = Dense(128, activation='relu')(dense_cat_1)\n",
    "dense_cat_3 = Dense(64, activation='relu')(dense_cat_2)\n",
    "dense_cat_4 = Dense(32, activation='relu')(dense_cat_3)\n",
    "final_cat = Dense(32, activation='relu')(dense_cat_4)"
   ]
  },
  {
   "cell_type": "code",
   "execution_count": null,
   "metadata": {
    "hidden": true
   },
   "outputs": [],
   "source": []
  },
  {
   "cell_type": "code",
   "execution_count": null,
   "metadata": {
    "hidden": true
   },
   "outputs": [],
   "source": [
    "# num channel\n",
    "inputs2 = Input(shape=(len_num,))\n",
    "dense_num_1 = Dense(256, activation='relu')(inputs2)\n",
    "dense_num_2 = Dense(128, activation='relu')(dense_num_1)\n",
    "dense_num_3 = Dense(64, activation='relu')(dense_num_2)\n",
    "dense_num_4 = Dense(32, activation='relu')(dense_num_3)\n",
    "final_num = Dense(32, activation='relu')(dense_num_4)"
   ]
  },
  {
   "cell_type": "code",
   "execution_count": null,
   "metadata": {
    "hidden": true
   },
   "outputs": [],
   "source": [
    "# text chanel\n",
    "inputs3 = Input(shape=(len_text,))\n",
    "embedding3 = Embedding(size_embedding, 36)(inputs3)\n",
    "conv3 = Conv1D(filters=32, kernel_size=8, activation='relu')(embedding3)\n",
    "drop3 = Dropout(0.1)(conv3)\n",
    "pool3 = MaxPooling1D(pool_size=2)(drop3)\n",
    "final_text = Flatten()(pool3)"
   ]
  },
  {
   "cell_type": "markdown",
   "metadata": {
    "heading_collapsed": true,
    "hidden": true
   },
   "source": [
    "#### Evaluating individual Models"
   ]
  },
  {
   "cell_type": "code",
   "execution_count": null,
   "metadata": {
    "hidden": true
   },
   "outputs": [],
   "source": [
    "#individual Model Tester\n",
    "mod = Model(inputs1, Dense(1, activation='sigmoid')(final_cat))"
   ]
  },
  {
   "cell_type": "code",
   "execution_count": null,
   "metadata": {
    "hidden": true
   },
   "outputs": [],
   "source": [
    "mod.compile(loss='binary_crossentropy',optimizer='adam',metrics=['accuracy', auc])"
   ]
  },
  {
   "cell_type": "code",
   "execution_count": null,
   "metadata": {
    "hidden": true
   },
   "outputs": [],
   "source": [
    "batch_size = 100\n",
    "mod.fit(train_cat, y, batch_size = batch_size,\n",
    "        epochs=3, validation_split=0.2)"
   ]
  },
  {
   "cell_type": "markdown",
   "metadata": {
    "heading_collapsed": true,
    "hidden": true
   },
   "source": [
    "#### Evaluating MultiChannel Model"
   ]
  },
  {
   "cell_type": "code",
   "execution_count": null,
   "metadata": {
    "hidden": true
   },
   "outputs": [],
   "source": [
    "# merge\n",
    "merged = concatenate([final_cat, final_num, final_text])\n",
    "\n",
    "# Multi NN\n",
    "dense1 = Dense(200, activation='relu')(merged)\n",
    "dense2 = Dense(20, activation='relu')(dense1)\n",
    "outputs = Dense(1, activation='sigmoid')(dense2)\n",
    "model = Model(inputs=[inputs1, inputs2, inputs3], outputs=outputs)"
   ]
  },
  {
   "cell_type": "code",
   "execution_count": null,
   "metadata": {
    "hidden": true
   },
   "outputs": [],
   "source": [
    "# Compile\n",
    "model.compile(loss='binary_crossentropy',\n",
    "              optimizer='adam',\n",
    "              metrics=['accuracy', auc])"
   ]
  },
  {
   "cell_type": "code",
   "execution_count": null,
   "metadata": {
    "hidden": true
   },
   "outputs": [],
   "source": [
    "# Fitting\n",
    "batch_size = 100\n",
    "model.fit([train_cat, train_num, train_text], y, \n",
    "          batch_size=batch_size, epochs=2, validation_split=0.2)"
   ]
  },
  {
   "cell_type": "markdown",
   "metadata": {
    "heading_collapsed": true
   },
   "source": [
    "# Submitting to Kaggle"
   ]
  },
  {
   "cell_type": "code",
   "execution_count": null,
   "metadata": {
    "hidden": true
   },
   "outputs": [],
   "source": [
    "#2.5. Submitting\n",
    "submit = model.predict([test_cat, test_num, test_text], \n",
    "                       batch_size=batch_size,verbose=1)\n",
    "\n",
    "submission = pd.read_csv('./input/sample_submission.csv')\n",
    "submission['project_is_approved'] = submit\n",
    "submission.to_csv('pred.csv', index=False)"
   ]
  },
  {
   "cell_type": "code",
   "execution_count": null,
   "metadata": {
    "hidden": true
   },
   "outputs": [],
   "source": []
  },
  {
   "cell_type": "code",
   "execution_count": null,
   "metadata": {
    "hidden": true
   },
   "outputs": [],
   "source": []
  },
  {
   "cell_type": "code",
   "execution_count": null,
   "metadata": {
    "hidden": true
   },
   "outputs": [],
   "source": [
    "#Non-multichannel type of NN\n",
    "train_all = np.hstack((train_cat, train_real, train_text))\n",
    "train_all.shape"
   ]
  },
  {
   "cell_type": "code",
   "execution_count": null,
   "metadata": {
    "hidden": true
   },
   "outputs": [],
   "source": [
    "model2 = Sequential()\n",
    "model2.add(Dense(256, input_shape=(trn_all.shape[1],), activation='relu'))\n",
    "model2.add(Dense(128, activation='relu'))\n",
    "model2.add(Dense(1, activation='sigmoid'))\n",
    "model2.compile(loss='binary_crossentropy',\n",
    "              optimizer='adam',\n",
    "              metrics=['accuracy', auc])\n",
    "batch_size = 2000\n",
    "model2.fit(train_all, y, \n",
    "           batch_size=batch_size, epochs=3, \n",
    "           validation_split=0.2)"
   ]
  },
  {
   "cell_type": "code",
   "execution_count": null,
   "metadata": {
    "hidden": true
   },
   "outputs": [],
   "source": []
  },
  {
   "cell_type": "markdown",
   "metadata": {
    "hidden": true
   },
   "source": [
    "Conclusion\n",
    "Certainly, computing power of Kaggle's kernel doesn't allow to build more sophisticated models, but in practice we may experiment with NN with multichannel input to achieve better results. Finally, NN with multichannel input are more flexible and let you work with different types of data.\n",
    "\n",
    "Links\n",
    "<a href = \"https://keras.io\" > Keras Documentation </a>\n",
    "<a href = \"https://machinelearningmastery.com/develop-n-gram-multichannel-convolutional-neural-network-sentiment-analysis/\" >How to Develop an N-gram Multichannel Convolutional Neural Network for Sentiment Analysis </a>\n",
    "<a href = https://towardsdatascience.com/neural-network-architectures-156e5bad51ba> Neural Network Architectures </a>"
   ]
  },
  {
   "cell_type": "code",
   "execution_count": null,
   "metadata": {
    "hidden": true
   },
   "outputs": [],
   "source": []
  }
 ],
 "metadata": {
  "kernelspec": {
   "display_name": "Python [default]",
   "language": "python",
   "name": "python3"
  },
  "language_info": {
   "codemirror_mode": {
    "name": "ipython",
    "version": 3
   },
   "file_extension": ".py",
   "mimetype": "text/x-python",
   "name": "python",
   "nbconvert_exporter": "python",
   "pygments_lexer": "ipython3",
   "version": "3.6.4"
  }
 },
 "nbformat": 4,
 "nbformat_minor": 2
}
