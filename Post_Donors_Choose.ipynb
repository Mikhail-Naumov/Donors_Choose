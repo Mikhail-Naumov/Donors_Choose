{
 "cells": [
  {
   "cell_type": "code",
   "execution_count": 334,
   "metadata": {},
   "outputs": [],
   "source": [
    "Sample = True\n",
    "One_Hot = True"
   ]
  },
  {
   "cell_type": "markdown",
   "metadata": {
    "heading_collapsed": true
   },
   "source": [
    "#### Func"
   ]
  },
  {
   "cell_type": "code",
   "execution_count": 312,
   "metadata": {
    "hidden": true
   },
   "outputs": [],
   "source": [
    "def cat_cleaner(df,col):\n",
    "    \"\"\"\n",
    "    Takes in the df and the column containing messy, sub cats.\n",
    "    \n",
    "    pd.get_dummies:\n",
    "       col                 A | A,B | B | B,A\n",
    "    0|  A              0|  1    0    0    0\n",
    "    1| A,B  -onehot->  1|  0    1    0    0\n",
    "    2|  B              2|  0    0    1    0\n",
    "    3| B,A             3|  0    0    0    1\n",
    "\n",
    "    this:\n",
    "    \n",
    "       col                       A | B\n",
    "    0|  A                    0|  1   0\n",
    "    1| A,B  -cat_cleaner ->  1|  1   1\n",
    "    2|  B                    2|  0   1\n",
    "    3| B,A                   3|  1   1\n",
    "    \n",
    "    \n",
    "    \n",
    "    \"\"\"\n",
    "    def cat(text):\n",
    "        text =[word for word in text.split(',')]\n",
    "        text =[word.strip() for word in text]\n",
    "        return(text)\n",
    "    \n",
    "    \n",
    "    df[col] = df[col].astype('str')\n",
    "    clean_cats = df[col].apply(lambda x:cat(x))\n",
    "    p = pd.get_dummies(clean_cats.apply(pd.Series).stack()).sum(level=0).reset_index(drop=True)\n",
    "    return p\n",
    "\n",
    "def text_cleaner(text):\n",
    "    \"\"\"\n",
    "    clean_str = text_cleaner(dirty_string)\n",
    "    \"\"\"\n",
    "    \n",
    "    text = text.lower()\n",
    "    text = text.replace('<!--DONOTREMOVEESSAYDIVIDER-->',' ')\n",
    "    text = text.replace('\\n' , ' ')\n",
    "    return(text)\n",
    "\n",
    "def plot_empties(bad_form):\n",
    "    plt.figure(figsize=(15,15))\n",
    "\n",
    "    i = 1\n",
    "    for j in tqdm_notebook(bad_form):\n",
    "        plt.subplot(230+i)\n",
    "        sns.heatmap(pd.DataFrame(bad_form[j].isnull().sum()/bad_form[j].shape[0]*100),\n",
    "                    annot=True,cmap=sns.color_palette(\"cool\"),linewidth=1,linecolor=\"white\")\n",
    "        plt.title(j)\n",
    "        i+=1\n",
    "\n",
    "    plt.subplots_adjust(wspace = 1.6)\n",
    "    return\n",
    "\n",
    "def compress(df,encode=[],num=[],byte_str = False):\n",
    "    pre_ = df[num+encode].memory_usage(deep=True)\n",
    "\n",
    "    for i in num:\n",
    "        if df[i].astype(np.float16).memory_usage(deep=True)<df[i].memory_usage(deep=True):\n",
    "            df[i] = df[i].astype(np.float16)\n",
    "        else:\n",
    "            pass\n",
    "\n",
    "    if byte_str:\n",
    "        for j in encode:\n",
    "            if df[j].astype(np.string_).memory_usage(deep=True)<df[j].memory_usage(deep=True):\n",
    "                df[j] = df[j].astype(np.string_)\n",
    "            else:\n",
    "                pass\n",
    "    else:\n",
    "        for j in encode:\n",
    "            if df[j].astype(str).memory_usage(deep=True)<df[j].memory_usage(deep=True):\n",
    "                df[j] = df[j].astype(str)\n",
    "            else:\n",
    "                pass\n",
    "\n",
    "            \n",
    "            \n",
    "    post_ = df[num+encode].memory_usage(deep=True)\n",
    "    print(\"Data Usage - change:{}\".format((post_-pre_)))\n",
    "    print(\"Total Change: {}\".format((post_-pre_).sum()))\n",
    "    return"
   ]
  },
  {
   "cell_type": "markdown",
   "metadata": {
    "heading_collapsed": true
   },
   "source": [
    "### Imports"
   ]
  },
  {
   "cell_type": "code",
   "execution_count": 313,
   "metadata": {
    "hidden": true
   },
   "outputs": [],
   "source": [
    "import gc\n",
    "import os\n",
    "import calendar\n",
    "import numpy as np\n",
    "import pandas as pd\n",
    "from tqdm import tqdm_notebook\n",
    "from nltk.corpus import stopwords\n",
    "\n",
    "from sklearn.preprocessing import LabelEncoder\n",
    "\n",
    "import seaborn as sns\n",
    "import matplotlib.pyplot as plt"
   ]
  },
  {
   "cell_type": "code",
   "execution_count": 314,
   "metadata": {
    "hidden": true
   },
   "outputs": [
    {
     "data": {
      "text/plain": [
       "['.DS_Store',\n",
       " 'Donations.csv',\n",
       " 'Donors.csv',\n",
       " 'Projects.csv',\n",
       " 'Resources.csv',\n",
       " 'Schools.csv',\n",
       " 'Teachers.csv']"
      ]
     },
     "execution_count": 314,
     "metadata": {},
     "output_type": "execute_result"
    }
   ],
   "source": [
    "os.listdir('./Input/New')"
   ]
  },
  {
   "cell_type": "markdown",
   "metadata": {},
   "source": [
    "### Data Aggregation"
   ]
  },
  {
   "cell_type": "code",
   "execution_count": 5,
   "metadata": {},
   "outputs": [],
   "source": [
    "bad_form = {#'Donations' : pd.read_csv('./Input/New/Donations.csv'),\n",
    "            #'Donors'    : pd.read_csv('./Input/New/Donors.csv'),\n",
    "            \n",
    "            'Projects'  : pd.read_csv('./Input/New/Projects.csv'),\n",
    "            'Resources' : pd.read_csv('./Input/New/Resources.csv'),\n",
    "            'Schools'   : pd.read_csv('./Input/New/Schools.csv'),\n",
    "            'Teachers'  : pd.read_csv('./Input/New/Teachers.csv')}"
   ]
  },
  {
   "cell_type": "code",
   "execution_count": 335,
   "metadata": {},
   "outputs": [],
   "source": [
    "#How much of the data do you want to use?\n",
    "if Sample: df = bad_form['Projects'][:1000].copy(deep=True)\n",
    "else: df = bad_form['Projects'].copy(deep=True)"
   ]
  },
  {
   "cell_type": "code",
   "execution_count": null,
   "metadata": {},
   "outputs": [],
   "source": []
  },
  {
   "cell_type": "code",
   "execution_count": 336,
   "metadata": {},
   "outputs": [
    {
     "data": {
      "text/plain": [
       "22304"
      ]
     },
     "execution_count": 336,
     "metadata": {},
     "output_type": "execute_result"
    }
   ],
   "source": [
    "#Projects\n",
    "\n",
    "#Structure Target\n",
    "df['Project Current Status'] = df['Project Current Status'].apply(lambda x: 1 if x == 'Fully Funded' else 0)\n",
    "\n",
    "#Adding dt features\n",
    "df['Project Posted Date'] = pd.to_datetime(df['Project Posted Date'])\n",
    "df['Project Posted Year'] = df['Project Posted Date'].dt.year.astype(str)\n",
    "df['Project Posted Month'] = df['Project Posted Date'].dt.month\n",
    "df['Project Posted Month'] = df['Project Posted Month'].apply(lambda x: calendar.month_abbr[x])\n",
    "\n",
    "#cols\n",
    "encode_cols = ['Project Type','Project Posted Year','Project Posted Month',\n",
    "               'Project Grade Level Category','Project Resource Category',]\n",
    "num_cols    = ['Project Cost']\n",
    "\n",
    "#del\n",
    "for i in ['Teacher Project Posted Sequence', 'Project Fully Funded Date', 'Project Expiration Date', 'Project Subject Subcategory Tree', 'Project Posted Date']:\n",
    "    del df[i]\n",
    "gc.collect()"
   ]
  },
  {
   "cell_type": "code",
   "execution_count": 337,
   "metadata": {},
   "outputs": [],
   "source": [
    "#Null values from all data sources\n",
    "\n",
    "#plot_empties(bad_form)"
   ]
  },
  {
   "cell_type": "code",
   "execution_count": 338,
   "metadata": {},
   "outputs": [
    {
     "data": {
      "text/plain": [
       "57"
      ]
     },
     "execution_count": 338,
     "metadata": {},
     "output_type": "execute_result"
    }
   ],
   "source": [
    "#Teachers\n",
    "\n",
    "#Treating Nulls in 'Teachers'\n",
    "bad_form['Teachers']['Teacher Prefix'] = bad_form['Teachers']['Teacher Prefix'].apply(\n",
    "    lambda x: 'Teacher' if x in ['Mx.', np.nan] else x)\n",
    "\n",
    "#merging teacher to df\n",
    "df = df.merge(bad_form['Teachers'],on='Teacher ID').copy(deep=True)\n",
    "\n",
    "#cols\n",
    "encode_cols += ['Teacher Prefix']\n",
    "num_cols    += []\n",
    "\n",
    "#del\n",
    "for i in ['Teacher ID','Teacher First Project Posted Date']:\n",
    "    del df[i]\n",
    "gc.collect()"
   ]
  },
  {
   "cell_type": "code",
   "execution_count": 339,
   "metadata": {},
   "outputs": [
    {
     "data": {
      "text/plain": [
       "64"
      ]
     },
     "execution_count": 339,
     "metadata": {},
     "output_type": "execute_result"
    }
   ],
   "source": [
    "#School\n",
    "\n",
    "#very few, dropping nulls\n",
    "bad_form['Schools'] = bad_form['Schools'].dropna()\n",
    "\n",
    "#merging school to df\n",
    "df = df.merge(bad_form['Schools'],on='School ID')\n",
    "df['School Zip'] = df['School Zip'].astype(str)\n",
    "\n",
    "#cols\n",
    "encode_cols += ['School Metro Type','School State','School District','School Zip']\n",
    "num_cols    += ['School Percentage Free Lunch']\n",
    "\n",
    "#del\n",
    "for i in ['School Name','School ID','School City','School County']:\n",
    "    del df[i]\n",
    "gc.collect()"
   ]
  },
  {
   "cell_type": "code",
   "execution_count": 340,
   "metadata": {},
   "outputs": [
    {
     "data": {
      "text/plain": [
       "14"
      ]
     },
     "execution_count": 340,
     "metadata": {},
     "output_type": "execute_result"
    }
   ],
   "source": [
    "# Resource Management\n",
    "\n",
    "#more funding features\n",
    "bad_form['Resources']['Resource Total Cost'] = bad_form['Resources']['Resource Quantity'] * bad_form['Resources']['Resource Unit Price']\n",
    "funding_agg = bad_form['Resources'].groupby('Project ID').agg(\n",
    "    {'Resource Item Name': ['nunique'], \n",
    "     'Resource Quantity': ['sum'], \n",
    "     'Resource Total Cost': ['mean', 'sum','median','max','min']})\n",
    "\n",
    "funding_agg.columns = ['Project num Unique Resources',\n",
    "                   'Total Resource Quantity', \n",
    "                   'Mean Resource Cost', \n",
    "                   'Total Project Cost',\n",
    "                   'Median Resource Cost',\n",
    "                   'Most exp Resource Cost',\n",
    "                   'Least exp Resource Cost']\n",
    "\n",
    "#cols\n",
    "encode_cols += []\n",
    "num_cols    += list(funding_agg.columns.values)\n",
    "\n",
    "#merging funding to df\n",
    "funding_agg.reset_index(inplace=True)\n",
    "df = df.merge(funding_agg,on='Project ID')\n",
    "\n",
    "del funding_agg\n",
    "gc.collect()"
   ]
  },
  {
   "cell_type": "code",
   "execution_count": 341,
   "metadata": {},
   "outputs": [],
   "source": [
    "del df['Project ID']"
   ]
  },
  {
   "cell_type": "code",
   "execution_count": 367,
   "metadata": {},
   "outputs": [],
   "source": [
    "df = df.dropna()"
   ]
  },
  {
   "cell_type": "code",
   "execution_count": 342,
   "metadata": {},
   "outputs": [
    {
     "data": {
      "text/html": [
       "<div>\n",
       "<style scoped>\n",
       "    .dataframe tbody tr th:only-of-type {\n",
       "        vertical-align: middle;\n",
       "    }\n",
       "\n",
       "    .dataframe tbody tr th {\n",
       "        vertical-align: top;\n",
       "    }\n",
       "\n",
       "    .dataframe thead th {\n",
       "        text-align: right;\n",
       "    }\n",
       "</style>\n",
       "<table border=\"1\" class=\"dataframe\">\n",
       "  <thead>\n",
       "    <tr style=\"text-align: right;\">\n",
       "      <th></th>\n",
       "      <th>Project Title</th>\n",
       "      <th>Project Essay</th>\n",
       "      <th>Project Short Description</th>\n",
       "      <th>Project Need Statement</th>\n",
       "      <th>Project Subject Category Tree</th>\n",
       "      <th>Project Current Status</th>\n",
       "    </tr>\n",
       "  </thead>\n",
       "  <tbody>\n",
       "    <tr>\n",
       "      <th>0</th>\n",
       "      <td>Stand Up to Bullying: Together We Can!</td>\n",
       "      <td>Did you know that 1-7 students in grades K-12 ...</td>\n",
       "      <td>Did you know that 1-7 students in grades K-12 ...</td>\n",
       "      <td>My students need 25 copies of \"Bullying in Sch...</td>\n",
       "      <td>Applied Learning</td>\n",
       "      <td>1</td>\n",
       "    </tr>\n",
       "    <tr>\n",
       "      <th>1</th>\n",
       "      <td>Learning in Color!</td>\n",
       "      <td>Help us have a fun, interactive listening cent...</td>\n",
       "      <td>Help us have a fun, interactive listening cent...</td>\n",
       "      <td>My students need a listening center, read alon...</td>\n",
       "      <td>Applied Learning, Literacy &amp; Language</td>\n",
       "      <td>0</td>\n",
       "    </tr>\n",
       "    <tr>\n",
       "      <th>2</th>\n",
       "      <td>Help Second Grade ESL Students Develop Languag...</td>\n",
       "      <td>Visiting or moving to a new place can be very ...</td>\n",
       "      <td>Visiting or moving to a new place can be very ...</td>\n",
       "      <td>My students need beginning vocabulary audio ca...</td>\n",
       "      <td>Literacy &amp; Language</td>\n",
       "      <td>1</td>\n",
       "    </tr>\n",
       "    <tr>\n",
       "      <th>3</th>\n",
       "      <td>Help Bilingual Students Strengthen Reading Com...</td>\n",
       "      <td>Students at our school are still working hard ...</td>\n",
       "      <td>Students at our school are still working hard ...</td>\n",
       "      <td>My students need one copy of each book in The ...</td>\n",
       "      <td>Literacy &amp; Language</td>\n",
       "      <td>1</td>\n",
       "    </tr>\n",
       "    <tr>\n",
       "      <th>4</th>\n",
       "      <td>Help Us Make Each Minute Count!</td>\n",
       "      <td>\"Idle hands\" were something that Issac Watts s...</td>\n",
       "      <td>\"Idle hands\" were something that Issac Watts s...</td>\n",
       "      <td>My students need items such as Velcro, two pou...</td>\n",
       "      <td>Special Needs</td>\n",
       "      <td>1</td>\n",
       "    </tr>\n",
       "  </tbody>\n",
       "</table>\n",
       "</div>"
      ],
      "text/plain": [
       "                                       Project Title  \\\n",
       "0             Stand Up to Bullying: Together We Can!   \n",
       "1                                 Learning in Color!   \n",
       "2  Help Second Grade ESL Students Develop Languag...   \n",
       "3  Help Bilingual Students Strengthen Reading Com...   \n",
       "4                   Help Us Make Each Minute Count!    \n",
       "\n",
       "                                       Project Essay  \\\n",
       "0  Did you know that 1-7 students in grades K-12 ...   \n",
       "1  Help us have a fun, interactive listening cent...   \n",
       "2  Visiting or moving to a new place can be very ...   \n",
       "3  Students at our school are still working hard ...   \n",
       "4  \"Idle hands\" were something that Issac Watts s...   \n",
       "\n",
       "                           Project Short Description  \\\n",
       "0  Did you know that 1-7 students in grades K-12 ...   \n",
       "1  Help us have a fun, interactive listening cent...   \n",
       "2  Visiting or moving to a new place can be very ...   \n",
       "3  Students at our school are still working hard ...   \n",
       "4  \"Idle hands\" were something that Issac Watts s...   \n",
       "\n",
       "                              Project Need Statement  \\\n",
       "0  My students need 25 copies of \"Bullying in Sch...   \n",
       "1  My students need a listening center, read alon...   \n",
       "2  My students need beginning vocabulary audio ca...   \n",
       "3  My students need one copy of each book in The ...   \n",
       "4  My students need items such as Velcro, two pou...   \n",
       "\n",
       "           Project Subject Category Tree  Project Current Status  \n",
       "0                       Applied Learning                       1  \n",
       "1  Applied Learning, Literacy & Language                       0  \n",
       "2                    Literacy & Language                       1  \n",
       "3                    Literacy & Language                       1  \n",
       "4                          Special Needs                       1  "
      ]
     },
     "execution_count": 342,
     "metadata": {},
     "output_type": "execute_result"
    }
   ],
   "source": [
    "s = set(encode_cols+num_cols)\n",
    "df[[x for x in df.columns if x not in s]].head(5)"
   ]
  },
  {
   "cell_type": "code",
   "execution_count": null,
   "metadata": {},
   "outputs": [],
   "source": []
  },
  {
   "cell_type": "code",
   "execution_count": 343,
   "metadata": {},
   "outputs": [
    {
     "name": "stdout",
     "output_type": "stream",
     "text": [
      "Data Usage - change:Index                              0\n",
      "Project Cost                   -5880\n",
      "School Percentage Free Lunch   -5880\n",
      "Project num Unique Resources   -5880\n",
      "Total Resource Quantity        -5880\n",
      "Mean Resource Cost             -5880\n",
      "Total Project Cost             -5880\n",
      "Median Resource Cost           -5880\n",
      "Most exp Resource Cost         -5880\n",
      "Least exp Resource Cost        -5880\n",
      "Project Type                       0\n",
      "Project Posted Year                0\n",
      "Project Posted Month               0\n",
      "Project Grade Level Category       0\n",
      "Project Resource Category          0\n",
      "Teacher Prefix                     0\n",
      "School Metro Type                  0\n",
      "School State                       0\n",
      "School District                    0\n",
      "School Zip                         0\n",
      "dtype: int64\n",
      "Total Change: -52920\n"
     ]
    },
    {
     "data": {
      "text/plain": [
       "35"
      ]
     },
     "execution_count": 343,
     "metadata": {},
     "output_type": "execute_result"
    }
   ],
   "source": [
    "#compressing data\n",
    "compress(df,encode_cols,num_cols)\n",
    "gc.collect()"
   ]
  },
  {
   "cell_type": "code",
   "execution_count": 326,
   "metadata": {},
   "outputs": [],
   "source": [
    "#del bad_form"
   ]
  },
  {
   "cell_type": "markdown",
   "metadata": {},
   "source": [
    "### Encoding / Scaling"
   ]
  },
  {
   "cell_type": "code",
   "execution_count": 346,
   "metadata": {},
   "outputs": [],
   "source": [
    "if One_Hot:\n",
    "    df.merge(pd.get_dummies(df[encode_cols])\n",
    "             ,left_index=True,right_index=True)\n",
    "    for i in encode_cols:\n",
    "        del df[i]\n",
    "else:\n",
    "    for c in tqdm_notebook(encode_cols):\n",
    "        encod = LabelEncoder()\n",
    "        encod.fit(df[c].astype(str))\n",
    "        df[c] = encod.transform(df[c].astype(str))\n",
    "    del encod"
   ]
  },
  {
   "cell_type": "code",
   "execution_count": 347,
   "metadata": {},
   "outputs": [],
   "source": [
    "p = cat_cleaner(df,'Project Subject Category Tree')\n",
    "df = df.merge(p,left_index=True,right_index=True)\n",
    "del df['Project Subject Category Tree'], p"
   ]
  },
  {
   "cell_type": "code",
   "execution_count": 348,
   "metadata": {},
   "outputs": [
    {
     "data": {
      "text/plain": [
       "8155"
      ]
     },
     "execution_count": 348,
     "metadata": {},
     "output_type": "execute_result"
    }
   ],
   "source": [
    "gc.collect()"
   ]
  },
  {
   "cell_type": "markdown",
   "metadata": {},
   "source": [
    "### Simple Model"
   ]
  },
  {
   "cell_type": "code",
   "execution_count": 350,
   "metadata": {},
   "outputs": [],
   "source": [
    "text_cols = ['Project Title','Project Essay','Project Short Description','Project Need Statement']"
   ]
  },
  {
   "cell_type": "code",
   "execution_count": 354,
   "metadata": {},
   "outputs": [
    {
     "data": {
      "text/plain": [
       "Project Title                    object\n",
       "Project Essay                    object\n",
       "Project Short Description        object\n",
       "Project Need Statement           object\n",
       "Project Cost                    float16\n",
       "Project Current Status            int64\n",
       "School Percentage Free Lunch    float16\n",
       "Project num Unique Resources    float16\n",
       "Total Resource Quantity         float16\n",
       "Mean Resource Cost              float16\n",
       "Total Project Cost              float16\n",
       "Median Resource Cost            float16\n",
       "Most exp Resource Cost          float16\n",
       "Least exp Resource Cost         float16\n",
       "Applied Learning                  uint8\n",
       "Health & Sports                   uint8\n",
       "History & Civics                  uint8\n",
       "Literacy & Language               uint8\n",
       "Math & Science                    uint8\n",
       "Music & The Arts                  uint8\n",
       "Special Needs                     uint8\n",
       "dtype: object"
      ]
     },
     "execution_count": 354,
     "metadata": {},
     "output_type": "execute_result"
    }
   ],
   "source": [
    "df.dtypes"
   ]
  },
  {
   "cell_type": "code",
   "execution_count": 351,
   "metadata": {},
   "outputs": [
    {
     "data": {
      "text/plain": [
       "['Project Title',\n",
       " 'Project Essay',\n",
       " 'Project Short Description',\n",
       " 'Project Need Statement']"
      ]
     },
     "execution_count": 351,
     "metadata": {},
     "output_type": "execute_result"
    }
   ],
   "source": [
    "text_cols"
   ]
  },
  {
   "cell_type": "code",
   "execution_count": 368,
   "metadata": {},
   "outputs": [],
   "source": [
    "X = df.drop(text_cols+['Project Current Status'],axis=1)\n",
    "y = df['Project Current Status']"
   ]
  },
  {
   "cell_type": "code",
   "execution_count": 369,
   "metadata": {},
   "outputs": [],
   "source": [
    "from sklearn.model_selection import train_test_split"
   ]
  },
  {
   "cell_type": "code",
   "execution_count": 370,
   "metadata": {},
   "outputs": [],
   "source": [
    "X_train, X_test, y_train, y_test = train_test_split(X,y)"
   ]
  },
  {
   "cell_type": "code",
   "execution_count": 371,
   "metadata": {},
   "outputs": [],
   "source": [
    "from sklearn.linear_model import LogisticRegression"
   ]
  },
  {
   "cell_type": "code",
   "execution_count": 372,
   "metadata": {},
   "outputs": [],
   "source": [
    "lr = LogisticRegression()"
   ]
  },
  {
   "cell_type": "code",
   "execution_count": 373,
   "metadata": {},
   "outputs": [
    {
     "data": {
      "text/plain": [
       "LogisticRegression(C=1.0, class_weight=None, dual=False, fit_intercept=True,\n",
       "          intercept_scaling=1, max_iter=100, multi_class='ovr', n_jobs=1,\n",
       "          penalty='l2', random_state=None, solver='liblinear', tol=0.0001,\n",
       "          verbose=0, warm_start=False)"
      ]
     },
     "execution_count": 373,
     "metadata": {},
     "output_type": "execute_result"
    }
   ],
   "source": [
    "lr.fit(X_train,y_train)"
   ]
  },
  {
   "cell_type": "code",
   "execution_count": 374,
   "metadata": {},
   "outputs": [
    {
     "name": "stderr",
     "output_type": "stream",
     "text": [
      "/Users/Nahel/anaconda3/lib/python3.6/site-packages/numpy/core/_methods.py:32: RuntimeWarning: overflow encountered in reduce\n",
      "  return umr_sum(a, axis, dtype, out, keepdims)\n"
     ]
    },
    {
     "data": {
      "text/plain": [
       "0.7355371900826446"
      ]
     },
     "execution_count": 374,
     "metadata": {},
     "output_type": "execute_result"
    }
   ],
   "source": [
    "lr.score(X_test,y_test)"
   ]
  },
  {
   "cell_type": "code",
   "execution_count": null,
   "metadata": {},
   "outputs": [],
   "source": [
    "from modul"
   ]
  },
  {
   "cell_type": "markdown",
   "metadata": {},
   "source": [
    "### Text Editing"
   ]
  },
  {
   "cell_type": "code",
   "execution_count": 21,
   "metadata": {},
   "outputs": [],
   "source": [
    "text_cols = ['Project Title','Project Essay','Project Short Description','Project Need Statement']"
   ]
  },
  {
   "cell_type": "code",
   "execution_count": null,
   "metadata": {},
   "outputs": [],
   "source": [
    "x_words = ['student','students','education']"
   ]
  },
  {
   "cell_type": "code",
   "execution_count": 54,
   "metadata": {},
   "outputs": [],
   "source": [
    "for i in text_cols:\n",
    "    df[i] = text_cleaner"
   ]
  },
  {
   "cell_type": "code",
   "execution_count": 45,
   "metadata": {},
   "outputs": [],
   "source": []
  },
  {
   "cell_type": "code",
   "execution_count": 31,
   "metadata": {},
   "outputs": [
    {
     "data": {
      "text/plain": [
       "'learning in color!'"
      ]
     },
     "execution_count": 31,
     "metadata": {},
     "output_type": "execute_result"
    }
   ],
   "source": [
    "df.iloc[1]['Project Title']"
   ]
  },
  {
   "cell_type": "code",
   "execution_count": 32,
   "metadata": {},
   "outputs": [],
   "source": [
    "def text_cleaner(text,extra_words = ['student','students','education']):\n",
    "    \"\"\"\n",
    "    clean_str = text_cleaner(dirty_string)\n",
    "    \"\"\"\n",
    "    text = text.lower()\n",
    "    text = text.replace('<!--DONOTREMOVEESSAYDIVIDER-->',' ')\n",
    "    text = text.replace('\\n' , ' ')\n",
    "    \n",
    "    #drops extra words\n",
    "    extra_words = [x for x in 'abcdefghijklmnopqrstuvwxyz']\n",
    "    for j in extra_words:\n",
    "        extra_words.append(j)\n",
    "    extra_words += stopwords.words(\"english\")\n",
    "    text = ' '.join([word for word in text.split() if word not in extra_words])\n",
    "    \n",
    "\n",
    "    return(text)"
   ]
  },
  {
   "cell_type": "code",
   "execution_count": 51,
   "metadata": {},
   "outputs": [],
   "source": []
  },
  {
   "cell_type": "code",
   "execution_count": 52,
   "metadata": {
    "collapsed": true
   },
   "outputs": [
    {
     "data": {
      "text/plain": [
       "0                          stand bullying: together can!\n",
       "1                                        learning color!\n",
       "2      help second grade esl develop language speak read\n",
       "3        help bilingual strengthen reading comprehension\n",
       "4                             help us make minute count!\n",
       "5                                     time... time kids!\n",
       "6                                     experiencing india\n",
       "7                                      come read upfront\n",
       "8                                  grammar, grammar need\n",
       "9                 little learners love listen literature\n",
       "10                             time grab \"bully\" horns!!\n",
       "11      1st grade mathematicians need learning materials\n",
       "12                           want become somebody, read!\n",
       "13                         \"i good pencil eraser today!\"\n",
       "14                                   kindle love reading\n",
       "15                                         thinking feet\n",
       "16                                              feelings\n",
       "17             learning english interactive white boards\n",
       "18                                             lend hand\n",
       "19                                    privacy partitions\n",
       "20                 desperate need pencils aand sharpener\n",
       "21                                    january 2nd paper!\n",
       "22                     discovering ancient civilizations\n",
       "23                        plastic chairs exercise balls!\n",
       "24                                     flutter butterfly\n",
       "25                        larvae, pupae, butterflies, oh\n",
       "26                                      visualizing math\n",
       "27           help build digital read-aloud books library\n",
       "28                                  technology classroom\n",
       "29          classroom rug learning, comfort, cleanliness\n",
       "                             ...                        \n",
       "950                     whiteboard markers math practice\n",
       "951                                    read around room!\n",
       "952                         learning anatomy dissections\n",
       "953                                     writing googling\n",
       "954                                    wii want get fit!\n",
       "955                    treehouse adventures bilingualism\n",
       "956                              math rocks! let's read!\n",
       "957                                  learning technology\n",
       "958                       listen learn: listening center\n",
       "959              little vandals love technology reading!\n",
       "960       wanted: adventurers middle school mathematics!\n",
       "961                                      spring science!\n",
       "962                                     ink ready print?\n",
       "963                                        hands-on math\n",
       "964                    connecting legacy jackie robinson\n",
       "965        full interactive connection - projecting ipad\n",
       "966                              solving science mystery\n",
       "967                                      scholastic news\n",
       "968                                         listen story\n",
       "969          help seniors leave positive art mark school\n",
       "970                              we've busy need more!!!\n",
       "971                 let's read. help classroom book club\n",
       "972                                            help band\n",
       "973                                  mad scientists work\n",
       "974                fantastic first graders need supplies\n",
       "975                                           word work!\n",
       "976                       readers distinction- book club\n",
       "977                                      traveling books\n",
       "978                                 stories preschoolers\n",
       "979                                       bullying books\n",
       "Name: Project Title, Length: 980, dtype: object"
      ]
     },
     "execution_count": 52,
     "metadata": {},
     "output_type": "execute_result"
    }
   ],
   "source": [
    "df['Project Title'].apply(lambda x: tex(x))"
   ]
  },
  {
   "cell_type": "code",
   "execution_count": 22,
   "metadata": {},
   "outputs": [
    {
     "data": {
      "text/plain": [
       "Index(['Project ID', 'Teacher Project Posted Sequence', 'Project Type',\n",
       "       'Project Title', 'Project Essay', 'Project Short Description',\n",
       "       'Project Need Statement', 'Project Subject Category Tree',\n",
       "       'Project Subject Subcategory Tree', 'Project Grade Level Category',\n",
       "       'Project Resource Category', 'Project Cost', 'Project Posted Date',\n",
       "       'Project Current Status', 'Teacher Prefix', 'School Name',\n",
       "       'School Metro Type', 'School Percentage Free Lunch', 'School State',\n",
       "       'School Zip', 'School City', 'School County', 'School District',\n",
       "       'Project num Unique Resources', 'Total Resource Quantity',\n",
       "       'Mean Resource Cost', 'Total Project Cost', 'Median Resource Cost',\n",
       "       'Most exp Resource Cost', 'Least exp Resource Cost'],\n",
       "      dtype='object')"
      ]
     },
     "execution_count": 22,
     "metadata": {},
     "output_type": "execute_result"
    }
   ],
   "source": []
  },
  {
   "cell_type": "code",
   "execution_count": 41,
   "metadata": {},
   "outputs": [],
   "source": [
    "all_stopwords = [x for x in 'abcdefghijklmnopqrstuvwxyz']\n",
    "for j in ['student','students','education']:\n",
    "    all_stopwords.append(j)\n",
    "all_stopwords += stopwords.words(\"english\")"
   ]
  },
  {
   "cell_type": "code",
   "execution_count": null,
   "metadata": {},
   "outputs": [],
   "source": []
  },
  {
   "cell_type": "markdown",
   "metadata": {},
   "source": [
    "## Structured Encoding"
   ]
  },
  {
   "cell_type": "code",
   "execution_count": 12,
   "metadata": {},
   "outputs": [],
   "source": [
    "cat_cols = ['Project Type']"
   ]
  },
  {
   "cell_type": "code",
   "execution_count": 13,
   "metadata": {},
   "outputs": [],
   "source": [
    "p = cat_cleaner(df,'Project Subject Category Tree')"
   ]
  },
  {
   "cell_type": "code",
   "execution_count": 14,
   "metadata": {},
   "outputs": [
    {
     "data": {
      "text/html": [
       "<div>\n",
       "<style scoped>\n",
       "    .dataframe tbody tr th:only-of-type {\n",
       "        vertical-align: middle;\n",
       "    }\n",
       "\n",
       "    .dataframe tbody tr th {\n",
       "        vertical-align: top;\n",
       "    }\n",
       "\n",
       "    .dataframe thead th {\n",
       "        text-align: right;\n",
       "    }\n",
       "</style>\n",
       "<table border=\"1\" class=\"dataframe\">\n",
       "  <thead>\n",
       "    <tr style=\"text-align: right;\">\n",
       "      <th></th>\n",
       "      <th>Applied Learning</th>\n",
       "      <th>Health &amp; Sports</th>\n",
       "      <th>History &amp; Civics</th>\n",
       "      <th>Literacy &amp; Language</th>\n",
       "      <th>Math &amp; Science</th>\n",
       "      <th>Music &amp; The Arts</th>\n",
       "      <th>Special Needs</th>\n",
       "    </tr>\n",
       "  </thead>\n",
       "  <tbody>\n",
       "    <tr>\n",
       "      <th>0</th>\n",
       "      <td>1</td>\n",
       "      <td>0</td>\n",
       "      <td>0</td>\n",
       "      <td>0</td>\n",
       "      <td>0</td>\n",
       "      <td>0</td>\n",
       "      <td>0</td>\n",
       "    </tr>\n",
       "    <tr>\n",
       "      <th>1</th>\n",
       "      <td>1</td>\n",
       "      <td>0</td>\n",
       "      <td>0</td>\n",
       "      <td>1</td>\n",
       "      <td>0</td>\n",
       "      <td>0</td>\n",
       "      <td>0</td>\n",
       "    </tr>\n",
       "    <tr>\n",
       "      <th>2</th>\n",
       "      <td>0</td>\n",
       "      <td>0</td>\n",
       "      <td>0</td>\n",
       "      <td>1</td>\n",
       "      <td>0</td>\n",
       "      <td>0</td>\n",
       "      <td>0</td>\n",
       "    </tr>\n",
       "    <tr>\n",
       "      <th>3</th>\n",
       "      <td>0</td>\n",
       "      <td>0</td>\n",
       "      <td>0</td>\n",
       "      <td>1</td>\n",
       "      <td>0</td>\n",
       "      <td>0</td>\n",
       "      <td>0</td>\n",
       "    </tr>\n",
       "    <tr>\n",
       "      <th>4</th>\n",
       "      <td>0</td>\n",
       "      <td>0</td>\n",
       "      <td>0</td>\n",
       "      <td>0</td>\n",
       "      <td>0</td>\n",
       "      <td>0</td>\n",
       "      <td>1</td>\n",
       "    </tr>\n",
       "  </tbody>\n",
       "</table>\n",
       "</div>"
      ],
      "text/plain": [
       "   Applied Learning  Health & Sports  History & Civics  Literacy & Language  \\\n",
       "0                 1                0                 0                    0   \n",
       "1                 1                0                 0                    1   \n",
       "2                 0                0                 0                    1   \n",
       "3                 0                0                 0                    1   \n",
       "4                 0                0                 0                    0   \n",
       "\n",
       "   Math & Science  Music & The Arts  Special Needs  \n",
       "0               0                 0              0  \n",
       "1               0                 0              0  \n",
       "2               0                 0              0  \n",
       "3               0                 0              0  \n",
       "4               0                 0              1  "
      ]
     },
     "execution_count": 14,
     "metadata": {},
     "output_type": "execute_result"
    }
   ],
   "source": [
    "p.head()"
   ]
  },
  {
   "cell_type": "code",
   "execution_count": null,
   "metadata": {},
   "outputs": [],
   "source": []
  }
 ],
 "metadata": {
  "kernelspec": {
   "display_name": "Python [default]",
   "language": "python",
   "name": "python3"
  },
  "language_info": {
   "codemirror_mode": {
    "name": "ipython",
    "version": 3
   },
   "file_extension": ".py",
   "mimetype": "text/x-python",
   "name": "python",
   "nbconvert_exporter": "python",
   "pygments_lexer": "ipython3",
   "version": "3.6.4"
  }
 },
 "nbformat": 4,
 "nbformat_minor": 2
}
