{
 "cells": [
  {
   "cell_type": "code",
   "execution_count": 4,
   "metadata": {},
   "outputs": [],
   "source": [
    "import Post_Donors_PreProcess"
   ]
  },
  {
   "cell_type": "code",
   "execution_count": 5,
   "metadata": {},
   "outputs": [],
   "source": [
    "import GPy\n",
    "import GPyOpt\n",
    "import numpy as np"
   ]
  },
  {
   "cell_type": "code",
   "execution_count": 6,
   "metadata": {},
   "outputs": [],
   "source": [
    "import lightgbm as lgbm\n",
    "from sklearn.metrics import roc_auc_score"
   ]
  },
  {
   "cell_type": "code",
   "execution_count": 7,
   "metadata": {},
   "outputs": [],
   "source": [
    "#Post_Donor_PrePro : Preprocessing function that pulls from the original data\n",
    "#Diet : Pull from a previously saved preprocessed csv, as to only do scaling and text processing"
   ]
  },
  {
   "cell_type": "code",
   "execution_count": 8,
   "metadata": {},
   "outputs": [],
   "source": [
    "#X, y, df_cols, le_dict = Post_Donors_PreProcess.Post_Donor_PrePro(\n",
    "#                            Tf_Features=100, Sample=1, \n",
    "#                            One_Hot=False, Standard_Scale=True)"
   ]
  },
  {
   "cell_type": "code",
   "execution_count": null,
   "metadata": {},
   "outputs": [
    {
     "name": "stdout",
     "output_type": "stream",
     "text": [
      "Encoding\n",
      "Scaling\n",
      "Text Processing\n"
     ]
    }
   ],
   "source": [
    "X, y, df_cols, le_dict = Post_Donors_PreProcess.Diet_Prepro(\n",
    "                            Tf_Features=1000, \n",
    "                            One_Hot=False, \n",
    "                            Standard_Scale=True,\n",
    "                            Force=True)"
   ]
  },
  {
   "cell_type": "code",
   "execution_count": null,
   "metadata": {},
   "outputs": [],
   "source": [
    "lgbm_train_data = lgbm.Dataset(data=X#.drop('School Percentage Free Lunch',axis=1)\n",
    "                               ,label=y)"
   ]
  },
  {
   "cell_type": "code",
   "execution_count": null,
   "metadata": {},
   "outputs": [],
   "source": [
    "y.value_counts(normalize=True)"
   ]
  },
  {
   "cell_type": "markdown",
   "metadata": {},
   "source": [
    "## Default"
   ]
  },
  {
   "cell_type": "code",
   "execution_count": 12,
   "metadata": {},
   "outputs": [],
   "source": [
    "from sklearn.model_selection import train_test_split\n",
    "X_train, X_test, y_train, y_test = train_test_split(X,y)"
   ]
  },
  {
   "cell_type": "code",
   "execution_count": 13,
   "metadata": {},
   "outputs": [
    {
     "data": {
      "text/plain": [
       "LGBMClassifier(boosting_type='gbdt', class_weight=None, colsample_bytree=1.0,\n",
       "        learning_rate=0.1, max_depth=-1, min_child_samples=20,\n",
       "        min_child_weight=0.001, min_split_gain=0.0, n_estimators=100,\n",
       "        n_jobs=-1, num_leaves=31, objective=None, random_state=None,\n",
       "        reg_alpha=0.0, reg_lambda=0.0, silent=True, subsample=1.0,\n",
       "        subsample_for_bin=200000, subsample_freq=0)"
      ]
     },
     "execution_count": 13,
     "metadata": {},
     "output_type": "execute_result"
    }
   ],
   "source": [
    "model = lgbm.LGBMClassifier()\n",
    "model.fit(X_train,y_train)"
   ]
  },
  {
   "cell_type": "code",
   "execution_count": 14,
   "metadata": {},
   "outputs": [
    {
     "name": "stderr",
     "output_type": "stream",
     "text": [
      " C:\\Users\\Namae\\AppData\\Local\\Continuum\\anaconda3\\lib\\site-packages\\sklearn\\preprocessing\\label.py:151: DeprecationWarning:The truth value of an empty array is ambiguous. Returning False, but in future this will result in an error. Use `array.size > 0` to check that an array is not empty.\n"
     ]
    },
    {
     "data": {
      "text/plain": [
       "0.6792484045677456"
      ]
     },
     "execution_count": 14,
     "metadata": {},
     "output_type": "execute_result"
    }
   ],
   "source": [
    "roc_auc_score(y_test,model.predict(X_test))"
   ]
  },
  {
   "cell_type": "markdown",
   "metadata": {},
   "source": [
    "## Random Search"
   ]
  },
  {
   "cell_type": "code",
   "execution_count": 15,
   "metadata": {},
   "outputs": [],
   "source": [
    "from sklearn.model_selection import RandomizedSearchCV"
   ]
  },
  {
   "cell_type": "code",
   "execution_count": 16,
   "metadata": {},
   "outputs": [],
   "source": [
    "model = lgbm.LGBMClassifier(\n",
    "    boosting_type = 'dart',\n",
    "    application= 'binary',\n",
    "    learning_rate= 0.01,\n",
    "    scale_pos_weight= 2,\n",
    "    drop_rate= 0.2,)"
   ]
  },
  {
   "cell_type": "code",
   "execution_count": 17,
   "metadata": {},
   "outputs": [],
   "source": [
    "params_rand2 = {'n_estimators': [x for x in range(50,200,20)],\n",
    "             'feature_fraction': [x / 1000.0 for x in range(500,900,20)],\n",
    "             'bagging_fraction': [x / 1000.0 for x in range(500,900,20)],\n",
    "             'lambda_l2' : [x / 100.0 for x in range(0,310,10)],\n",
    "             'boosting_type': ['dart','gbdt']}"
   ]
  },
  {
   "cell_type": "code",
   "execution_count": 18,
   "metadata": {},
   "outputs": [
    {
     "data": {
      "text/plain": [
       "RandomizedSearchCV(cv=5, error_score='raise',\n",
       "          estimator=LGBMClassifier(application='binary', boosting_type='dart', class_weight=None,\n",
       "        colsample_bytree=1.0, drop_rate=0.2, learning_rate=0.01,\n",
       "        max_depth=-1, min_child_samples=20, min_child_weight=0.001,\n",
       "        min_split_gain=0.0, n_estimators=100, n_jobs=-1, num_leaves=31,\n",
       "        objective=None, random_state=None, reg_alpha=0.0, reg_lambda=0.0,\n",
       "        scale_pos_weight=2, silent=True, subsample=1.0,\n",
       "        subsample_for_bin=200000, subsample_freq=0),\n",
       "          fit_params=None, iid=True, n_iter=5, n_jobs=1,\n",
       "          param_distributions={'n_estimators': [50, 70, 90, 110, 130, 150, 170, 190], 'feature_fraction': [0.5, 0.52, 0.54, 0.56, 0.58, 0.6, 0.62, 0.64, 0.66, 0.68, 0.7, 0.72, 0.74, 0.76, 0.78, 0.8, 0.82, 0.84, 0.86, 0.88], 'bagging_fraction': [0.5, 0.52, 0.54, 0.56, 0.58, 0.6, 0.62, 0.64, 0.66, 0.68, 0.7, 0....1.8, 1.9, 2.0, 2.1, 2.2, 2.3, 2.4, 2.5, 2.6, 2.7, 2.8, 2.9, 3.0], 'boosting_type': ['dart', 'gbdt']},\n",
       "          pre_dispatch='2*n_jobs', random_state=None, refit=True,\n",
       "          return_train_score='warn', scoring='roc_auc', verbose=0)"
      ]
     },
     "execution_count": 18,
     "metadata": {},
     "output_type": "execute_result"
    }
   ],
   "source": [
    "rs = RandomizedSearchCV(\n",
    "    model, \n",
    "    params_rand2, \n",
    "    n_iter=5,\n",
    "    scoring='roc_auc',\n",
    "    cv=5)\n",
    "\n",
    "rs.fit(X,y)"
   ]
  },
  {
   "cell_type": "code",
   "execution_count": 19,
   "metadata": {},
   "outputs": [
    {
     "data": {
      "text/plain": [
       "0.7332144218784066"
      ]
     },
     "execution_count": 19,
     "metadata": {},
     "output_type": "execute_result"
    }
   ],
   "source": [
    "rs.best_score_"
   ]
  },
  {
   "cell_type": "code",
   "execution_count": 20,
   "metadata": {},
   "outputs": [
    {
     "data": {
      "text/plain": [
       "{'n_estimators': 170,\n",
       " 'lambda_l2': 2.6,\n",
       " 'feature_fraction': 0.7,\n",
       " 'boosting_type': 'gbdt',\n",
       " 'bagging_fraction': 0.78}"
      ]
     },
     "execution_count": 20,
     "metadata": {},
     "output_type": "execute_result"
    }
   ],
   "source": [
    "rs.best_params_"
   ]
  },
  {
   "cell_type": "code",
   "execution_count": 21,
   "metadata": {},
   "outputs": [],
   "source": [
    "del model, rs, X_train, X_test, y_train, y_test"
   ]
  },
  {
   "cell_type": "markdown",
   "metadata": {},
   "source": [
    "## Bay Search"
   ]
  },
  {
   "cell_type": "code",
   "execution_count": 22,
   "metadata": {},
   "outputs": [],
   "source": [
    "params_bay = [{'name': 'feature_fraction','type': 'continuous', 'domain': (500,900)},\n",
    "              {'name': 'bagging_fraction','type': 'continuous', 'domain': (500,900)},\n",
    "              {'name': 'lambda_l2',       'type': 'continuous', 'domain': (100,500)},\n",
    "              {'name': 'n_estimators',      'type': 'continuous', 'domain': (100,600)}\n",
    "             ]"
   ]
  },
  {
   "cell_type": "code",
   "execution_count": 23,
   "metadata": {},
   "outputs": [],
   "source": [
    "def Bay_Wrapper(x):\n",
    "    \"\"\"\n",
    "    Model Wrapper for Bay Opt \n",
    "    Wrapper used for LGBM & Bay:\n",
    "    x[0][:] = list of all params for this aq\n",
    "    \"\"\"\n",
    "    AUC = True\n",
    "    if AUC: metric = 'auc'\n",
    "    else: metric = 'binary_logloss'\n",
    "    \n",
    "    lgbm_params = { 'feature_fraction': x[0][0]/1000,\n",
    "                    'bagging_fraction': x[0][1]/1000,\n",
    "                    'lambda_l2' : x[0][2]/1000,\n",
    "                    'boosting': 'gbdt',\n",
    "                    'n_estimators' : int(x[0][3]),\n",
    "                   \n",
    "                    'application': 'binary',\n",
    "                    'learning_rate': 0.01,\n",
    "                    'scale_pos_weight': 2,\n",
    "                    'drop_rate': 0.2,\n",
    "}\n",
    "\n",
    "    cv_results = lgbm.cv(train_set=lgbm_train_data,\n",
    "                         params=lgbm_params, \n",
    "                         nfold=5,\n",
    "                         num_boost_round = 600,\n",
    "                         early_stopping_rounds=50,\n",
    "                         metrics=[metric])\n",
    "\n",
    "    optimum_boost_rounds = np.argmax(cv_results[metric+'-mean'])\n",
    "    print('{} : {}'.format(metric,np.max(cv_results['{}-mean'.format(metric)])))\n",
    "    \n",
    "    return np.max(cv_results[metric+'-mean'])"
   ]
  },
  {
   "cell_type": "code",
   "execution_count": 24,
   "metadata": {},
   "outputs": [
    {
     "name": "stdout",
     "output_type": "stream",
     "text": [
      "auc : 0.7386629328721757\n",
      "auc : 0.7509672860270522\n",
      "auc : 0.7391356973675924\n",
      "auc : 0.7392145816854908\n",
      "auc : 0.7513025576482032\n"
     ]
    }
   ],
   "source": [
    "bay = GPyOpt.methods.BayesianOptimization(Bay_Wrapper,\n",
    "                                          params_bay,\n",
    "                                          acquisition_type ='EI',   # LCB acquisition\n",
    "                                          acquisition_weight = .5,  # Exploration exploitation\n",
    "                                          maximize=True\n",
    "                                         )"
   ]
  },
  {
   "cell_type": "code",
   "execution_count": 25,
   "metadata": {},
   "outputs": [
    {
     "name": "stdout",
     "output_type": "stream",
     "text": [
      "auc : 0.7328887927241016\n",
      "auc : 0.7592976260275621\n",
      "auc : 0.7621758950596956\n",
      "auc : 0.762023665970664\n",
      "auc : 0.7331982634543424\n",
      "Function after 5 Aquisitions\n"
     ]
    }
   ],
   "source": [
    "bay.run_optimization(5) #GPyOpt uses 5 points + the number listed\n",
    "print('Function after 5 Aquisitions')\n",
    "bay.plot_acquisition()"
   ]
  },
  {
   "cell_type": "code",
   "execution_count": 26,
   "metadata": {},
   "outputs": [
    {
     "data": {
      "image/png": "[encoded data removed]",
      "text/plain": [
       "<Figure size 720x360 with 2 Axes>"
      ]
     },
     "metadata": {},
     "output_type": "display_data"
    }
   ],
   "source": [
    "bay.plot_convergence()"
   ]
  },
  {
   "cell_type": "code",
   "execution_count": 27,
   "metadata": {},
   "outputs": [],
   "source": [
    "bay.plot_acquisition()"
   ]
  },
  {
   "cell_type": "code",
   "execution_count": null,
   "metadata": {
    "scrolled": true
   },
   "outputs": [],
   "source": [
    "bay.run_optimization(20)\n",
    "bay.plot_convergence()\n",
    "bay.plot_acquisition()"
   ]
  },
  {
   "cell_type": "code",
   "execution_count": 29,
   "metadata": {},
   "outputs": [
    {
     "name": "stdout",
     "output_type": "stream",
     "text": [
      "feature_fraction: 0.77504\n",
      "bagging_fraction: 0.56968\n",
      "lambda_l2: 0.33976\n",
      "n_estimators: 508.90725\n"
     ]
    }
   ],
   "source": [
    "bay_pred = bay.x_opt\n",
    "print('feature_fraction: '+str(round(bay_pred[0]/1000,5)))\n",
    "print('bagging_fraction: '+str(round(bay_pred[1]/1000,5)))\n",
    "print('lambda_l2: '+str(round(bay_pred[2]/1000,5)))\n",
    "print('n_estimators: '+str(round(bay_pred[3],5)))"
   ]
  },
  {
   "cell_type": "code",
   "execution_count": 36,
   "metadata": {},
   "outputs": [],
   "source": [
    "final_params = {'feature_fraction': bay_pred[0]/1000,\n",
    "                'bagging_fraction': bay_pred[1]/1000,\n",
    "                'lambda_l2' : bay_pred[2]/1000,\n",
    "                'boosting': 'gbdt',\n",
    "                'n_estimators' : int(bay_pred[3]),\n",
    "                   \n",
    "                'application': 'binary',\n",
    "                'learning_rate': 0.01,\n",
    "                'scale_pos_weight': 2,\n",
    "                'drop_rate': 0.2,\n",
    "                'metric':'auc'}"
   ]
  },
  {
   "cell_type": "markdown",
   "metadata": {},
   "source": [
    " ## Final"
   ]
  },
  {
   "cell_type": "code",
   "execution_count": 37,
   "metadata": {},
   "outputs": [],
   "source": [
    "from sklearn.model_selection import train_test_split\n",
    "X_train, X_test, y_train, y_test = train_test_split(X,y)"
   ]
  },
  {
   "cell_type": "code",
   "execution_count": 39,
   "metadata": {
    "scrolled": true
   },
   "outputs": [],
   "source": [
    "model = lgbm.train(params=final_params,\n",
    "                train_set=lgbm.Dataset(X_train,y_train),\n",
    "                valid_sets=lgbm.Dataset(X_test,y_test),\n",
    "                num_boost_round=600,\n",
    "                early_stopping_rounds=50,\n",
    "                verbose_eval=False)"
   ]
  },
  {
   "cell_type": "code",
   "execution_count": 40,
   "metadata": {},
   "outputs": [
    {
     "data": {
      "text/plain": [
       "0.7635483272082222"
      ]
     },
     "execution_count": 40,
     "metadata": {},
     "output_type": "execute_result"
    }
   ],
   "source": [
    "roc_auc_score(y_test,model.predict(X_test))"
   ]
  },
  {
   "cell_type": "code",
   "execution_count": 54,
   "metadata": {},
   "outputs": [
    {
     "data": {
      "image/png": "[encoded data removed]",
      "text/plain": [
       "<Figure size 360x720 with 1 Axes>"
      ]
     },
     "metadata": {},
     "output_type": "display_data"
    }
   ],
   "source": [
    "lgbm.plot_importance(model,max_num_features=25,figsize=(5,10));"
   ]
  },
  {
   "cell_type": "code",
   "execution_count": null,
   "metadata": {},
   "outputs": [],
   "source": []
  }
 ],
 "metadata": {
  "kernelspec": {
   "display_name": "Python 3",
   "language": "python",
   "name": "python3"
  },
  "language_info": {
   "codemirror_mode": {
    "name": "ipython",
    "version": 3
   },
   "file_extension": ".py",
   "mimetype": "text/x-python",
   "name": "python",
   "nbconvert_exporter": "python",
   "pygments_lexer": "ipython3",
   "version": "3.6.5"
  }
 },
 "nbformat": 4,
 "nbformat_minor": 2
}
