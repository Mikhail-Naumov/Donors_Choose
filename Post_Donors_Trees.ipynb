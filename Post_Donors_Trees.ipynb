{
 "cells": [
  {
   "cell_type": "code",
   "execution_count": null,
   "metadata": {},
   "outputs": [],
   "source": [
    "import Post_Donors_PreProcess"
   ]
  },
  {
   "cell_type": "code",
   "execution_count": null,
   "metadata": {},
   "outputs": [],
   "source": [
    "import GPy\n",
    "import GPyOpt\n",
    "import numpy as np"
   ]
  },
  {
   "cell_type": "code",
   "execution_count": null,
   "metadata": {},
   "outputs": [],
   "source": [
    "import lightgbm as lgbm\n",
    "from sklearn.metrics import roc_auc_score"
   ]
  },
  {
   "cell_type": "code",
   "execution_count": null,
   "metadata": {},
   "outputs": [],
   "source": [
    "X, y, df_cols = Post_Donors_PreProcess.Post_Donor_PrePro(\n",
    "                            Tf_Features=1000, \n",
    "                            Sample=.2, \n",
    "                            One_Hot=True, \n",
    "                            Standard_Scale=True)"
   ]
  },
  {
   "cell_type": "code",
   "execution_count": null,
   "metadata": {},
   "outputs": [],
   "source": [
    "lgbm_train_data = lgbm.Dataset(data=X#.drop('School Percentage Free Lunch',axis=1)\n",
    "                               ,label=y)"
   ]
  },
  {
   "cell_type": "code",
   "execution_count": null,
   "metadata": {},
   "outputs": [],
   "source": [
    "X.shape[0]"
   ]
  },
  {
   "cell_type": "code",
   "execution_count": null,
   "metadata": {},
   "outputs": [],
   "source": [
    "y.value_counts(normalize=True)"
   ]
  },
  {
   "cell_type": "markdown",
   "metadata": {},
   "source": [
    "## Default"
   ]
  },
  {
   "cell_type": "code",
   "execution_count": null,
   "metadata": {},
   "outputs": [],
   "source": [
    "from sklearn.model_selection import train_test_split\n",
    "X_train, X_test, y_train, y_test = train_test_split(X,y)"
   ]
  },
  {
   "cell_type": "code",
   "execution_count": null,
   "metadata": {},
   "outputs": [],
   "source": [
    "model = lgbm.LGBMClassifier()\n",
    "model.fit(X_train,y_train)"
   ]
  },
  {
   "cell_type": "code",
   "execution_count": null,
   "metadata": {},
   "outputs": [],
   "source": [
    "model.score(X_test,y_test)"
   ]
  },
  {
   "cell_type": "markdown",
   "metadata": {},
   "source": [
    "## Random Search"
   ]
  },
  {
   "cell_type": "code",
   "execution_count": null,
   "metadata": {},
   "outputs": [],
   "source": [
    "from sklearn.model_selection import RandomizedSearchCV"
   ]
  },
  {
   "cell_type": "code",
   "execution_count": null,
   "metadata": {},
   "outputs": [],
   "source": [
    "model = lgbm.LGBMClassifier(\n",
    "    boosting_type = 'dart',\n",
    "    application= 'binary',\n",
    "    learning_rate= 0.01,\n",
    "    scale_pos_weight= 2,\n",
    "    drop_rate= 0.2,)"
   ]
  },
  {
   "cell_type": "code",
   "execution_count": null,
   "metadata": {},
   "outputs": [],
   "source": [
    "params_rand2 = {'n_estimators': [x for x in range(50,200,20)],\n",
    "             'feature_fraction': [x / 1000.0 for x in range(820,900,20)],\n",
    "             'bagging_fraction': [x / 1000.0 for x in range(820,900,20)],\n",
    "             'lambda_l2' : [x / 100.0 for x in range(0,310,10)],\n",
    "\n",
    "             'boosting_type': ['dart','gbdt']}"
   ]
  },
  {
   "cell_type": "code",
   "execution_count": null,
   "metadata": {},
   "outputs": [],
   "source": [
    "params_rand = {'num_leaves': [x for x in range(10,40)],\n",
    "             'max_depth': [x for x in range(10,40)],\n",
    "             'feature_fraction': [x / 1000.0 for x in range(820,900,20)],\n",
    "             'bagging_fraction': [x / 1000.0 for x in range(820,900,20)],\n",
    "             'lambda_l2' : [x / 100.0 for x in range(0,310,10)],\n",
    "\n",
    "             'boosting_type': ['dart','gbdt']}"
   ]
  },
  {
   "cell_type": "code",
   "execution_count": null,
   "metadata": {
    "scrolled": true
   },
   "outputs": [],
   "source": [
    "rs = RandomizedSearchCV(\n",
    "    model, \n",
    "    params_rand2, \n",
    "    n_iter=5,\n",
    "    #scoring='roc_auc',\n",
    "    cv=5)\n",
    "\n",
    "rs.fit(X,y)"
   ]
  },
  {
   "cell_type": "code",
   "execution_count": null,
   "metadata": {},
   "outputs": [],
   "source": [
    "rs.best_score_"
   ]
  },
  {
   "cell_type": "code",
   "execution_count": null,
   "metadata": {},
   "outputs": [],
   "source": [
    "rs.best_params_"
   ]
  },
  {
   "cell_type": "markdown",
   "metadata": {},
   "source": [
    "## Bay Search"
   ]
  },
  {
   "cell_type": "code",
   "execution_count": null,
   "metadata": {},
   "outputs": [],
   "source": [
    "params_bay = [{'name': 'num_leaves',      'type': 'discrete',   'domain': (10,40)},\n",
    "              {'name': 'max_depth' ,      'type': 'discrete',   'domain': (10,40)},\n",
    "              {'name': 'feature_fraction','type': 'continuous', 'domain': (0.05,0.9)},\n",
    "              {'name': 'bagging_fraction','type': 'continuous', 'domain': (0.05,0.9)},\n",
    "              {'name': 'lambda_l2',       'type': 'continuous', 'domain': (0.0001,0.15)},]"
   ]
  },
  {
   "cell_type": "code",
   "execution_count": null,
   "metadata": {},
   "outputs": [],
   "source": [
    "def Bay_Wrapper(x):\n",
    "    \"\"\"\n",
    "    Model Wrapper for Bay Opt \n",
    "    Wrapper used for LGBM & Bay:\n",
    "    x[0][:] = list of all params for this aq\n",
    "    \"\"\"\n",
    "    AUC = False\n",
    "    if AUC: metric = 'auc'\n",
    "    else: metric = 'binary_logloss'\n",
    "    \n",
    "    lgbm_params = { 'boosting': 'dart',\n",
    "                    'application': 'binary',\n",
    "                    'learning_rate': 0.01,\n",
    "                    'scale_pos_weight': 2,\n",
    "                    'drop_rate': 0.2,\n",
    "                    'num_leaves': int(x[0][0]),\n",
    "                    'max_depth': int(x[0][1]),\n",
    "                    'feature_fraction': x[0][2],\n",
    "                    'bagging_fraction': x[0][3],\n",
    "                    'lambda_l2' : x[0][4],}\n",
    "\n",
    "    cv_results = lgbm.cv(train_set=lgbm_train_data,\n",
    "                         params=lgbm_params, \n",
    "                         nfold=5,\n",
    "                         num_boost_round=600,\n",
    "                         early_stopping_rounds=50,\n",
    "                         metrics=[metric])\n",
    "\n",
    "    optimum_boost_rounds = np.argmax(cv_results[metric+'-mean'])\n",
    "    print('{} : {}'.format(metric,np.max(cv_results['{}-mean'.format(metric)])))\n",
    "    \n",
    "    return np.max(cv_results[metric+'-mean'])"
   ]
  },
  {
   "cell_type": "code",
   "execution_count": null,
   "metadata": {},
   "outputs": [],
   "source": [
    "bay = GPyOpt.methods.BayesianOptimization(Bay_Wrapper,\n",
    "                                          params_bay,\n",
    "                                          acquisition_type ='EI',   # LCB acquisition\n",
    "                                          acquisition_weight = .5,  # Exploration exploitation\n",
    "                                         # maximize=True\n",
    "                                         )\n",
    "bay.run_optimization(0) #GPyOpt uses 5 points + the number listed\n",
    "print('Function after 5 Aquisitions')\n",
    "bay.plot_acquisition()"
   ]
  },
  {
   "cell_type": "code",
   "execution_count": null,
   "metadata": {},
   "outputs": [],
   "source": [
    "bay.run_optimization(90)\n",
    "bay.plot_convergence()"
   ]
  },
  {
   "cell_type": "code",
   "execution_count": null,
   "metadata": {},
   "outputs": [],
   "source": []
  },
  {
   "cell_type": "code",
   "execution_count": null,
   "metadata": {},
   "outputs": [],
   "source": []
  },
  {
   "cell_type": "code",
   "execution_count": null,
   "metadata": {},
   "outputs": [],
   "source": []
  },
  {
   "cell_type": "code",
   "execution_count": null,
   "metadata": {},
   "outputs": [],
   "source": [
    "bay_pred = bay.x_opt\n",
    "print('num_leaves : '+str(int(bay_pred[0])))\n",
    "print('max_depth: '+str(int(bay_pred[1])))\n",
    "print('feature_fraction: '+str(round(bay_pred[2],5)))\n",
    "print('bagging_fraction: '+str(round(bay_pred[3],5)))\n",
    "print('lambda_l2: '+str(round(bay_pred[4],5)))"
   ]
  },
  {
   "cell_type": "code",
   "execution_count": null,
   "metadata": {},
   "outputs": [],
   "source": [
    "lgbm_params = { 'boosting': 'dart',\n",
    "                'application': 'binary',\n",
    "                'learning_rate': 0.01,\n",
    "                'scale_pos_weight': 2,\n",
    "                'drop_rate': 0.2,\n",
    "                'num_leaves': int(bay_pred[0]),\n",
    "                'max_depth': int(bay_pred[1]),\n",
    "                'feature_fraction': bay_pred[2],\n",
    "                'bagging_fraction': bay_pred[3],\n",
    "                'lambda_l2' : bay_pred[4]}\n",
    "\n",
    "cv_results = lgbm.cv(train_set=lgbm_train_data,\n",
    "                     params=lgbm_params, \n",
    "                     nfold=5,\n",
    "                     num_boost_round=600,\n",
    "                     early_stopping_rounds=50,\n",
    "                     #metrics=['accuracy']\n",
    "                    )\n",
    "#'binary_logloss-mean'\n",
    "optimum_boost_rounds = np.argmax(cv_results['binary_logloss-mean'])\n",
    "print('Auc : {}'.format(np.max(cv_results['binary_logloss-mean'])))"
   ]
  },
  {
   "cell_type": "code",
   "execution_count": null,
   "metadata": {},
   "outputs": [],
   "source": []
  }
 ],
 "metadata": {
  "kernelspec": {
   "display_name": "Python [default]",
   "language": "python",
   "name": "python3"
  }
 },
 "nbformat": 4,
 "nbformat_minor": 2
}
